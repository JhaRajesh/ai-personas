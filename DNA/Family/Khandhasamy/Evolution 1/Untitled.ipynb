{
 "cells": [
  {
   "cell_type": "code",
   "execution_count": 7,
   "metadata": {
    "collapsed": false
   },
   "outputs": [],
   "source": [
    "import Khandhasamy_pb2\n",
    "import sys\n",
    "\n",
    "# This function fills in a Person message based on user input.\n",
    "def generateDNA():\n",
    "    dna = Khandhasamy_pb2.DNA()\n",
    "    dna.DNA = \"Khandasamy\"\n",
    "    \n",
    "    inputLayer = dna.inputs.add()\n",
    "    inputLayer.inputLayerName = \"imageInput\"\n",
    "    inputLayer.inputSize = 2500\n",
    "    \n",
    "    inputLayer.inputTransform.transformerName = \"imageTransform\"\n",
    "    inputLayer.inputTransform.informationType = \"image\"\n",
    "    inputLayer.inputTransform.transformHeight = 50\n",
    "    inputLayer.inputTransform.transformWidth = 50\n",
    "    inputLayer.inputTransform.transformParam = \"grey, edge\"\n",
    "    \n",
    "    return dna\n",
    "    \n",
    "# Write the new address book back to disk.\n",
    "f = open(\"Khandasamy.bin\", \"wb\")\n",
    "f.write(generateDNA().SerializeToString())\n",
    "f.close()"
   ]
  },
  {
   "cell_type": "code",
   "execution_count": null,
   "metadata": {
    "collapsed": true
   },
   "outputs": [],
   "source": []
  }
 ],
 "metadata": {
  "kernelspec": {
   "display_name": "Python 2",
   "language": "python",
   "name": "python2"
  },
  "language_info": {
   "codemirror_mode": {
    "name": "ipython",
    "version": 2
   },
   "file_extension": ".py",
   "mimetype": "text/x-python",
   "name": "python",
   "nbconvert_exporter": "python",
   "pygments_lexer": "ipython2",
   "version": "2.7.13"
  }
 },
 "nbformat": 4,
 "nbformat_minor": 2
}
