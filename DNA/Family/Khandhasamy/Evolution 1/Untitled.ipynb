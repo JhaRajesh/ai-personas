{
 "cells": [
  {
   "cell_type": "code",
   "execution_count": 3,
   "metadata": {
    "collapsed": false
   },
   "outputs": [],
   "source": [
    "import Khandhasamy_pb2\n",
    "import sys\n",
    "\n",
    "# This function fills in a Person message based on user input.\n",
    "def generateDNA():\n",
    "    dna = Khandhasamy_pb2.DNA()\n",
    "    dna.DNA = \"Khandasamy\"\n",
    "    \n",
    "    inputLayer = dna.inputs.add()\n",
    "    inputLayer.inputLayerName = \"imageInput\"\n",
    "\n",
    "    inputLayer.inputTransform.transformerName = \"imageTransform\"\n",
    "    inputLayer.inputTransform.informationType = \"image\"\n",
    "    transformInputSize1 =  inputLayer.inputTransform.transformSize.add()\n",
    "    transformInputSize1.dimension = 1\n",
    "    transformInputSize1.dimensionSize = 50\n",
    "    transformInputSize2 =  inputLayer.inputTransform.transformSize.add()\n",
    "    transformInputSize2.dimension = 1\n",
    "    transformInputSize2.dimensionSize = 50\n",
    "    transformParam1 = inputLayer.inputTransform.transformParam.add()\n",
    "    transformParam1.parameterName = \"color\"\n",
    "    transformParam1.parameterValue  = \"grey\"\n",
    "    transformParam2 = inputLayer.inputTransform.transformParam.add()\n",
    "    transformParam2.parameterName = \"process\"\n",
    "    transformParam2.parameterValue  = \"edge\"\n",
    "    \n",
    "    connection1 = inputLayer.connections.add()\n",
    "    connection1.destinationLayerName = \"layer1\"\n",
    "    \n",
    "    layer1 = dna.layers.add()\n",
    "    layer1.layerName = \"layer1\"\n",
    "    layer1Size1 = layer1.layerSize.add()\n",
    "    \n",
    "    \n",
    "    return dna\n",
    "    \n",
    "# Write the new address book back to disk.\n",
    "f = open(\"Khandasamy.bin\", \"wb\")\n",
    "f.write(generateDNA().SerializeToString())\n",
    "f.close()"
   ]
  },
  {
   "cell_type": "code",
   "execution_count": null,
   "metadata": {
    "collapsed": true
   },
   "outputs": [],
   "source": []
  }
 ],
 "metadata": {
  "kernelspec": {
   "display_name": "Python 2",
   "language": "python",
   "name": "python2"
  },
  "language_info": {
   "codemirror_mode": {
    "name": "ipython",
    "version": 2
   },
   "file_extension": ".py",
   "mimetype": "text/x-python",
   "name": "python",
   "nbconvert_exporter": "python",
   "pygments_lexer": "ipython2",
   "version": "2.7.13"
  }
 },
 "nbformat": 4,
 "nbformat_minor": 2
}
