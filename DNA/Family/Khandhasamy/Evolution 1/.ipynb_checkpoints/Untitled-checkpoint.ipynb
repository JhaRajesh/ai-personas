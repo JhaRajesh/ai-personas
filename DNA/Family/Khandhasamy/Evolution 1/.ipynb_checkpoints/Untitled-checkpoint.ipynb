{
 "cells": [
  {
   "cell_type": "code",
   "execution_count": 6,
   "metadata": {
    "collapsed": false
   },
   "outputs": [
    {
     "ename": "AttributeError",
     "evalue": "Assignment not allowed to composite field \"inputTransform\" in protocol message object.",
     "output_type": "error",
     "traceback": [
      "\u001b[0;31m---------------------------------------------------------------------------\u001b[0m",
      "\u001b[0;31mAttributeError\u001b[0m                            Traceback (most recent call last)",
      "\u001b[0;32m<ipython-input-6-59eecee3a700>\u001b[0m in \u001b[0;36m<module>\u001b[0;34m()\u001b[0m\n\u001b[1;32m     22\u001b[0m \u001b[1;31m# Write the new address book back to disk.\u001b[0m\u001b[1;33m\u001b[0m\u001b[1;33m\u001b[0m\u001b[0m\n\u001b[1;32m     23\u001b[0m \u001b[0mf\u001b[0m \u001b[1;33m=\u001b[0m \u001b[0mopen\u001b[0m\u001b[1;33m(\u001b[0m\u001b[1;34m\"Khandasamy.bin\"\u001b[0m\u001b[1;33m,\u001b[0m \u001b[1;34m\"wb\"\u001b[0m\u001b[1;33m)\u001b[0m\u001b[1;33m\u001b[0m\u001b[0m\n\u001b[0;32m---> 24\u001b[0;31m \u001b[0mf\u001b[0m\u001b[1;33m.\u001b[0m\u001b[0mwrite\u001b[0m\u001b[1;33m(\u001b[0m\u001b[0mgenerateDNA\u001b[0m\u001b[1;33m(\u001b[0m\u001b[1;33m)\u001b[0m\u001b[1;33m.\u001b[0m\u001b[0mSerializeToString\u001b[0m\u001b[1;33m(\u001b[0m\u001b[1;33m)\u001b[0m\u001b[1;33m)\u001b[0m\u001b[1;33m\u001b[0m\u001b[0m\n\u001b[0m\u001b[1;32m     25\u001b[0m \u001b[0mf\u001b[0m\u001b[1;33m.\u001b[0m\u001b[0mclose\u001b[0m\u001b[1;33m(\u001b[0m\u001b[1;33m)\u001b[0m\u001b[1;33m\u001b[0m\u001b[0m\n",
      "\u001b[0;32m<ipython-input-6-59eecee3a700>\u001b[0m in \u001b[0;36mgenerateDNA\u001b[0;34m()\u001b[0m\n\u001b[1;32m     11\u001b[0m     \u001b[0minputLayer\u001b[0m\u001b[1;33m.\u001b[0m\u001b[0minputSize\u001b[0m \u001b[1;33m=\u001b[0m \u001b[1;36m2500\u001b[0m\u001b[1;33m\u001b[0m\u001b[0m\n\u001b[1;32m     12\u001b[0m \u001b[1;33m\u001b[0m\u001b[0m\n\u001b[0;32m---> 13\u001b[0;31m     \u001b[0minputLayer\u001b[0m\u001b[1;33m.\u001b[0m\u001b[0minputTransform\u001b[0m \u001b[1;33m=\u001b[0m \u001b[0mdna\u001b[0m\u001b[1;33m.\u001b[0m\u001b[0mTransform\u001b[0m\u001b[1;33m(\u001b[0m\u001b[1;33m)\u001b[0m\u001b[1;33m\u001b[0m\u001b[0m\n\u001b[0m\u001b[1;32m     14\u001b[0m     \u001b[0minputTransform\u001b[0m\u001b[1;33m.\u001b[0m\u001b[0mtransformerName\u001b[0m \u001b[1;33m=\u001b[0m \u001b[1;34m\"imageTransform\"\u001b[0m\u001b[1;33m\u001b[0m\u001b[0m\n\u001b[1;32m     15\u001b[0m     \u001b[0minputTransform\u001b[0m\u001b[1;33m.\u001b[0m\u001b[0minformationType\u001b[0m \u001b[1;33m=\u001b[0m \u001b[1;34m\"image\"\u001b[0m\u001b[1;33m\u001b[0m\u001b[0m\n",
      "\u001b[0;32mC:\\Users\\rames\\Anaconda2\\lib\\site-packages\\google\\protobuf\\internal\\python_message.pyc\u001b[0m in \u001b[0;36msetter\u001b[0;34m(self, new_value)\u001b[0m\n\u001b[1;32m    720\u001b[0m   \u001b[1;32mdef\u001b[0m \u001b[0msetter\u001b[0m\u001b[1;33m(\u001b[0m\u001b[0mself\u001b[0m\u001b[1;33m,\u001b[0m \u001b[0mnew_value\u001b[0m\u001b[1;33m)\u001b[0m\u001b[1;33m:\u001b[0m\u001b[1;33m\u001b[0m\u001b[0m\n\u001b[1;32m    721\u001b[0m     raise AttributeError('Assignment not allowed to composite field '\n\u001b[0;32m--> 722\u001b[0;31m                          '\"%s\" in protocol message object.' % proto_field_name)\n\u001b[0m\u001b[1;32m    723\u001b[0m \u001b[1;33m\u001b[0m\u001b[0m\n\u001b[1;32m    724\u001b[0m   \u001b[1;31m# Add a property to encapsulate the getter.\u001b[0m\u001b[1;33m\u001b[0m\u001b[1;33m\u001b[0m\u001b[0m\n",
      "\u001b[0;31mAttributeError\u001b[0m: Assignment not allowed to composite field \"inputTransform\" in protocol message object."
     ]
    }
   ],
   "source": [
    "import Khandhasamy_pb2\n",
    "import sys\n",
    "\n",
    "# This function fills in a Person message based on user input.\n",
    "def generateDNA():\n",
    "    dna = Khandhasamy_pb2.DNA()\n",
    "    dna.DNA = \"Khandasamy\"\n",
    "    \n",
    "    inputLayer = dna.inputs.add()\n",
    "    inputLayer.inputLayerName = \"imageInput\"\n",
    "    inputLayer.inputSize = 2500\n",
    "    \n",
    "    inputLayer.inputTransform.transformerName = \"imageTransform\"\n",
    "    inputLayer.inputTransform.informationType = \"image\"\n",
    "    inputLayer.inputTransform.transformHeight = 50\n",
    "    inputLayer.inputTransform.transformWidth = 50\n",
    "    inputLayer.inputTransform.transformParam = \"grey, edge\"\n",
    "    \n",
    "    return dna\n",
    "    \n",
    "# Write the new address book back to disk.\n",
    "f = open(\"Khandasamy.bin\", \"wb\")\n",
    "f.write(generateDNA().SerializeToString())\n",
    "f.close()"
   ]
  },
  {
   "cell_type": "code",
   "execution_count": null,
   "metadata": {
    "collapsed": true
   },
   "outputs": [],
   "source": []
  }
 ],
 "metadata": {
  "kernelspec": {
   "display_name": "Python 2",
   "language": "python",
   "name": "python2"
  },
  "language_info": {
   "codemirror_mode": {
    "name": "ipython",
    "version": 2
   },
   "file_extension": ".py",
   "mimetype": "text/x-python",
   "name": "python",
   "nbconvert_exporter": "python",
   "pygments_lexer": "ipython2",
   "version": "2.7.13"
  }
 },
 "nbformat": 4,
 "nbformat_minor": 2
}
