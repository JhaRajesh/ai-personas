{
 "cells": [
  {
   "cell_type": "code",
   "execution_count": 1,
   "metadata": {
    "collapsed": false
   },
   "outputs": [
    {
     "name": "stdout",
     "output_type": "stream",
     "text": [
      "C:\\Users\\rames\\Documents\\GitHub\\ai-personas\\DNA\\dnaBlueprint\\version_1\\dnaBlueprint_pb2.py\n"
     ]
    }
   ],
   "source": [
    "import os, sys, inspect\n",
    "import copy\n",
    "import imp\n",
    "\n",
    "PROTO_DEF_EXTENSION = \".bin\"\n",
    "PROTO_PYTHON_EXTENSION = \"_pb2.py\"\n",
    "DNA_BLUEPRINT_PATH = \"../../DNA/dnaBlueprint/version_1/dnaBlueprint\" +  PROTO_PYTHON_EXTENSION\n",
    "DNA_NAME_QUALIFIER = \"DnaDefinition\"\n",
    "DNA_NAME = \"Khandhasamy\" + DNA_NAME_QUALIFIER + PROTO_DEF_EXTENSION\n",
    "DNA_DEF_PATH = \"../dnaFamily/Khandhasamy/Evolution_1/\" + DNA_NAME\n",
    "\n",
    "class DnaDefinitionGeneration(object):\n",
    "    \n",
    "    layer_index = 1\n",
    "    layer_size = 50\n",
    "    layer_convolution_filter = 100\n",
    "    layer_border_mode = \"same\"\n",
    "    \n",
    "    def getDnaBlueprint(self, dnaBlueprintPath):\n",
    "        #DNA blueprint path\n",
    "        dna_blueprint_path = os.path.abspath(os.path.join(dnaBlueprintPath))\n",
    "        print (dna_blueprint_path)\n",
    "        #dna blueprint\n",
    "        dnaBlueprint = imp.load_source('DNA', dna_blueprint_path).DNA() \n",
    "        return dnaBlueprint\n",
    "    \n",
    "    def saveDnaDefinition(self, dnaDefPath, dna):\n",
    "        dna_def_path = os.path.abspath(os.path.join(dnaDefPath))\n",
    "        # read dna definition\n",
    "        f = open(dna_def_path, \"wb\")\n",
    "        f.write(dna.SerializeToString())\n",
    "        f.close()\n",
    "\n",
    "    def getLayerName(self, layerIndex):\n",
    "        if layerIndex is None:\n",
    "            return ''\n",
    "        else:\n",
    "            return 'layer' + str(layerIndex)\n",
    "            \n",
    "    def generateDnaDefinition(self, dnaBlueprintPath, dnaDefPath):\n",
    "        dna = self.getDnaBlueprint(dnaBlueprintPath)\n",
    "        self.generateConvoution2DLayer(dna, None , 2)\n",
    "        self.generateActivationLayer(dna, 1, 3)\n",
    "        self.generateDropoutLayer(dna, 2, 4)\n",
    "        self.generateConvoution2DLayer(dna, 3, 5)\n",
    "        self.generateActivationLayer(dna, 4, 6)\n",
    "        self.generateDropoutLayer(dna, 5, 7)     \n",
    "        self.generateConvoution2DLayer(dna, 6, 8)\n",
    "        self.generateConvoution2DLayer(dna, 7, None)\n",
    "        self.saveDnaDefinition(dnaDefPath, dna)\n",
    "        return\n",
    "    \n",
    "    def generateConvoution2DLayer(self, dna, sourceLayer, destLayer):\n",
    "        layer = dna.layers.add()\n",
    "        layer.layerName = \"layer\" + str(self.layer_index)\n",
    "        layerSize1 = layer.layerSize.add()\n",
    "        layerSize1.dimension = 1\n",
    "        layerSize1.dimensionSize = 50\n",
    "        layerSize2 = layer.layerSize.add()\n",
    "        layerSize2.dimension = 2\n",
    "        layerSize2.dimensionSize = 50\n",
    "        layerConnection1 = layer.connections.add()\n",
    "        layerConnection1.sourceLayerName = self.getLayerName(sourceLayer)\n",
    "        layerConnection1.destinationLayerName = self.getLayerName(destLayer)\n",
    "        layer.layerConvolution.convolutionDimension = 2\n",
    "        layer.layerConvolution.filters = 100\n",
    "        layer.layerConvolution.borderMode = \"same\"\n",
    "        layer.layerConvolution.kernelSize.append(3)\n",
    "        layer.layerConvolution.kernelSize.append(3)\n",
    "        layer.layerConvolution.inputShape.append(1)\n",
    "        layer.layerConvolution.inputShape.append(50)\n",
    "        layer.layerConvolution.inputShape.append(50)\n",
    "        \n",
    "    def generateActivationLayer(self, dna, sourceLayer, destLayer):\n",
    "        layer = dna.layers.add()\n",
    "        layer.layerName = \"layer\" + str(self.layer_index)\n",
    "        layerConnection1 = layer.connections.add()\n",
    "        layerConnection1.sourceLayerName = self.getLayerName(sourceLayer)\n",
    "        layerConnection1.destinationLayerName = self.getLayerName(destLayer)\n",
    "        layer.layerActivation.activationType = \"relu\"\n",
    "    \n",
    "    def generateDropoutLayer(self, dna, sourceLayer, destLayer):\n",
    "        layer = dna.layers.add()\n",
    "        layer.layerName = \"layer\" + str(self.layer_index)\n",
    "        layerConnection1 = layer.connections.add()\n",
    "        layerConnection1.sourceLayerName = self.getLayerName(sourceLayer)\n",
    "        layerConnection1.destinationLayerName = self.getLayerName(destLayer)\n",
    "        layer.layerDropout.dropPercentage = 0.3\n",
    "        \n",
    "dnaDef = DnaDefinitionGeneration()\n",
    "dnaDef.generateDnaDefinition(DNA_BLUEPRINT_PATH, DNA_DEF_PATH)\n"
   ]
  },
  {
   "cell_type": "code",
   "execution_count": null,
   "metadata": {
    "collapsed": true
   },
   "outputs": [],
   "source": []
  }
 ],
 "metadata": {
  "kernelspec": {
   "display_name": "Python 2",
   "language": "python",
   "name": "python2"
  },
  "language_info": {
   "codemirror_mode": {
    "name": "ipython",
    "version": 2
   },
   "file_extension": ".py",
   "mimetype": "text/x-python",
   "name": "python",
   "nbconvert_exporter": "python",
   "pygments_lexer": "ipython2",
   "version": "2.7.13"
  }
 },
 "nbformat": 4,
 "nbformat_minor": 2
}
