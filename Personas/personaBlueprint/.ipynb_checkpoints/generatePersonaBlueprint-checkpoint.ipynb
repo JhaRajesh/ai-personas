{
 "cells": [
  {
   "cell_type": "code",
   "execution_count": 3,
   "metadata": {
    "collapsed": false
   },
   "outputs": [
    {
     "ename": "NameError",
     "evalue": "global name 'personaDefinition_pb2' is not defined",
     "output_type": "error",
     "traceback": [
      "\u001b[0;31m---------------------------------------------------------------------------\u001b[0m",
      "\u001b[0;31mNameError\u001b[0m                                 Traceback (most recent call last)",
      "\u001b[0;32m<ipython-input-3-abd8935b1b0b>\u001b[0m in \u001b[0;36m<module>\u001b[0;34m()\u001b[0m\n\u001b[1;32m     85\u001b[0m \u001b[1;31m# Write persona to file\u001b[0m\u001b[1;33m\u001b[0m\u001b[1;33m\u001b[0m\u001b[0m\n\u001b[1;32m     86\u001b[0m \u001b[0mf\u001b[0m \u001b[1;33m=\u001b[0m \u001b[0mopen\u001b[0m\u001b[1;33m(\u001b[0m\u001b[0mPERSONA_DEF_PATH\u001b[0m\u001b[1;33m,\u001b[0m \u001b[1;34m\"wb\"\u001b[0m\u001b[1;33m)\u001b[0m\u001b[1;33m\u001b[0m\u001b[0m\n\u001b[0;32m---> 87\u001b[0;31m \u001b[0mf\u001b[0m\u001b[1;33m.\u001b[0m\u001b[0mwrite\u001b[0m\u001b[1;33m(\u001b[0m\u001b[0mgeneratePersonaDefinition\u001b[0m\u001b[1;33m(\u001b[0m\u001b[1;33m)\u001b[0m\u001b[1;33m.\u001b[0m\u001b[0mSerializeToString\u001b[0m\u001b[1;33m(\u001b[0m\u001b[1;33m)\u001b[0m\u001b[1;33m)\u001b[0m\u001b[1;33m\u001b[0m\u001b[0m\n\u001b[0m\u001b[1;32m     88\u001b[0m \u001b[0mf\u001b[0m\u001b[1;33m.\u001b[0m\u001b[0mclose\u001b[0m\u001b[1;33m(\u001b[0m\u001b[1;33m)\u001b[0m\u001b[1;33m\u001b[0m\u001b[0m\n\u001b[1;32m     89\u001b[0m \u001b[1;33m\u001b[0m\u001b[0m\n",
      "\u001b[0;32m<ipython-input-3-abd8935b1b0b>\u001b[0m in \u001b[0;36mgeneratePersonaDefinition\u001b[0;34m()\u001b[0m\n\u001b[1;32m     61\u001b[0m \u001b[1;31m#generate persona definitions\u001b[0m\u001b[1;33m\u001b[0m\u001b[1;33m\u001b[0m\u001b[0m\n\u001b[1;32m     62\u001b[0m \u001b[1;32mdef\u001b[0m \u001b[0mgeneratePersonaDefinition\u001b[0m\u001b[1;33m(\u001b[0m\u001b[1;33m)\u001b[0m\u001b[1;33m:\u001b[0m\u001b[1;33m\u001b[0m\u001b[0m\n\u001b[0;32m---> 63\u001b[0;31m     \u001b[0mpersona\u001b[0m \u001b[1;33m=\u001b[0m \u001b[0mpersonaDefinition_pb2\u001b[0m\u001b[1;33m.\u001b[0m\u001b[0mPersona\u001b[0m\u001b[1;33m(\u001b[0m\u001b[1;33m)\u001b[0m\u001b[1;33m\u001b[0m\u001b[0m\n\u001b[0m\u001b[1;32m     64\u001b[0m     \u001b[0mpersona\u001b[0m\u001b[1;33m.\u001b[0m\u001b[0mphysical\u001b[0m \u001b[1;33m=\u001b[0m \u001b[1;34m\"keras\"\u001b[0m\u001b[1;33m\u001b[0m\u001b[0m\n\u001b[1;32m     65\u001b[0m \u001b[1;33m\u001b[0m\u001b[0m\n",
      "\u001b[0;31mNameError\u001b[0m: global name 'personaDefinition_pb2' is not defined"
     ]
    }
   ],
   "source": [
    "import os, sys, inspect\n",
    "import copy\n",
    "\n",
    "PROTO_DEF_EXTENSION = \".bin\"\n",
    "PROTO_PYTHON_EXTENSION = \"_pb2.py\"\n",
    "PERSONA_BLUEPRINT = \"version_1/personBlueprint\" + PROTO_PYTHON_EXTENSION\n",
    "PERSONA_NAME_QUALIFIER = \"PersonaDefinition\"\n",
    "PERSONA_AGE = 1\n",
    "PERSONA_DEF_PATH=\"../Artist/Portraits/sketchToGreyImage/Khandhasamy/Evolution_1/age_\" + str(PERSONA_AGE) + \"/\" + PERSONA_NAME_QUALIFIER + PROTO_DEF_EXTENSION\n",
    "DNA_BLUEPRINT = \"../../DNA/dnaBlueprint/version_1/dnaBlueprint\" +  PROTO_PYTHON_EXTENSION\n",
    "DNA_NAME_QUALIFIER = \"DnaDefinition\"\n",
    "DNA_NAME = \"Khandhasamy\" + DNA_NAME_QUALIFIER + PROTO_DEF_EXTENSION\n",
    "DNA_DEF_PATH = \"../DNA/dnaFamily/Khandhasamy/Evolution_1/\" + DNA_NAME\n",
    "\n",
    "def loadDNA(dnaName, evolution, dnaInstance):\n",
    "    dna_path = os.path.abspath(os.path.join('..', 'DNA', 'Family', dnaName, 'Evolution ' + str(evolution)))\n",
    "\n",
    "    # use this if you want to include modules from a subfolder\n",
    "    cmd_subfolder = os.path.realpath(os.path.abspath(os.path.join(os.path.split(inspect.getfile( inspect.currentframe() ))[0],dna_path)))\n",
    "    if cmd_subfolder not in sys.path:\n",
    "        print (cmd_subfolder)\n",
    "    sys.path.insert(0, cmd_subfolder)\n",
    "\n",
    "    f = open(dna_path + \"\\\\\" + dnaName + \".bin\", \"rb\")\n",
    "    #dnaInstance = DynamicImporter(dnaName+\"_pb2\", \"DNA\")\n",
    "    dnaInstance.ParseFromString(f.read())\n",
    "    f.close()\n",
    "\n",
    "    return dnaInstance\n",
    "\n",
    "class PersonaDefinitionGeneration(object):\n",
    "    \n",
    "    def getDnaBlueprint(self):\n",
    "        #DNA blueprint path\n",
    "        dna_blueprint_path = os.path.abspath(os.path.join(DNA_BLUEPRINT))\n",
    "        print (dna_blueprint_path)\n",
    "        #dna blueprint\n",
    "        dnaBlueprint = imp.load_source('DNA', dna_blueprint_path).DNA() \n",
    "        return dnaBlueprint\n",
    "    \n",
    "    def loadDnaDefinition(self):\n",
    "        # read dna definition\n",
    "        f = open(\"Artist\\Portraits\\sketchToGreyImage\\Khandhasamy\\Khandhasamy.bin\", \"wb\")\n",
    "        f.write(generatePersonaDefinition().SerializeToString())\n",
    "        f.close()\n",
    "\n",
    "    def getPersonaBlueprint(self): \n",
    "        #persona blueprint path\n",
    "        persona_blueprint_path = os.path.abspath(os.path.join(self.TEST_PERSONA_BLUEPRINT))\n",
    "        print (persona_blueprint_path)\n",
    "        #persona blueprint\n",
    "        personaBlueprint = imp.load_source('Persona', persona_blueprint_path).Persona() \n",
    "        return personaBlueprint\n",
    "    \n",
    "#generate persona definitions \n",
    "def generatePersonaDefinition():\n",
    "    persona = personaDefinition_pb2.Persona()\n",
    "    persona.physical = \"keras\"\n",
    "    \n",
    "    persona.age.old = 1\n",
    "    persona.age.learningCycle = 50\n",
    "    persona.age.learningBatchSize = 3\n",
    "    \n",
    "    ################ environments #############################\n",
    "    environment = persona.age.environments.add()\n",
    "\n",
    "    ################ environments #############################\n",
    "    information = environment.informations.add()\n",
    "    information.informationSource = \"Informations\\Category\\Portraits\\scientists\"\n",
    "    information.connectedLayerName.append(\"imageInput\")\n",
    "    information.connectedLayerName.append(\"imageOutput\")\n",
    "    \n",
    "    ################# get DNA from file######################\n",
    "    dna = persona.DNAs.add()\n",
    "    dna = loadDNA(\"Khandhasamy\", 1, dna)\n",
    "    \n",
    "    return persona\n",
    "    \n",
    "# Write persona to file\n",
    "f = open(PERSONA_DEF_PATH, \"wb\")\n",
    "f.write(generatePersonaDefinition().SerializeToString())\n",
    "f.close()\n",
    "\n"
   ]
  },
  {
   "cell_type": "code",
   "execution_count": null,
   "metadata": {
    "collapsed": true
   },
   "outputs": [],
   "source": []
  }
 ],
 "metadata": {
  "kernelspec": {
   "display_name": "Python 2",
   "language": "python",
   "name": "python2"
  },
  "language_info": {
   "codemirror_mode": {
    "name": "ipython",
    "version": 2
   },
   "file_extension": ".py",
   "mimetype": "text/x-python",
   "name": "python",
   "nbconvert_exporter": "python",
   "pygments_lexer": "ipython2",
   "version": "2.7.13"
  }
 },
 "nbformat": 4,
 "nbformat_minor": 2
}
