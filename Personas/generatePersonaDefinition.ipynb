{
 "cells": [
  {
   "cell_type": "code",
   "execution_count": 2,
   "metadata": {
    "collapsed": false
   },
   "outputs": [],
   "source": [
    "import personaDefinition_pb2\n",
    "import os, sys, inspect\n",
    "import copy\n",
    "\n",
    "def loadDNA(dnaName, evolution, dnaInstance):\n",
    "    dna_path = os.path.abspath(os.path.join('..', 'DNA', 'Family', dnaName, 'Evolution ' + str(evolution)))\n",
    "\n",
    "    # use this if you want to include modules from a subfolder\n",
    "    cmd_subfolder = os.path.realpath(os.path.abspath(os.path.join(os.path.split(inspect.getfile( inspect.currentframe() ))[0],dna_path)))\n",
    "    if cmd_subfolder not in sys.path:\n",
    "        print (cmd_subfolder)\n",
    "    sys.path.insert(0, cmd_subfolder)\n",
    "\n",
    "    f = open(dna_path + \"\\\\\" + dnaName + \".bin\", \"rb\")\n",
    "    #dnaInstance = DynamicImporter(dnaName+\"_pb2\", \"DNA\")\n",
    "    dnaInstance.ParseFromString(f.read())\n",
    "    f.close()\n",
    "\n",
    "    return dnaInstance\n",
    "\n",
    "def DynamicImporter(module_name, class_name):\n",
    "    module = __import__(module_name)\n",
    "    my_class = getattr(module, class_name)\n",
    "    instance = my_class()\n",
    "    return instance\n",
    "\n",
    "#generate persona definitions \n",
    "def generatePersonaDefinition():\n",
    "    persona = personaDefinition_pb2.Persona()\n",
    "    persona.physical = \"keras\"\n",
    "    \n",
    "    persona.age.old = 1\n",
    "    persona.age.learningCycle = 50\n",
    "    persona.age.learningBatchSize = 1\n",
    "    \n",
    "    ################ environments #############################\n",
    "    environment = persona.age.environments.add()\n",
    "\n",
    "    ################ environments #############################\n",
    "    information = environment.informations.add()\n",
    "    information.informationSource = \"Informations\\Category\\Portraits\\scientists\"\n",
    "    information.connectedInputLayerName = \"imageInput\"\n",
    "    \n",
    "    ################# get DNA from file######################\n",
    "    dna = persona.DNAs.add()\n",
    "    dna = loadDNA(\"Khandhasamy\", 1, dna)\n",
    "    \n",
    "    return persona\n",
    "    \n",
    "# Write persona to file\n",
    "f = open(\"Artist\\Portraits\\sketchToGreyImage\\Khandhasamy\\Khandhasamy.bin\", \"wb\")\n",
    "f.write(generatePersonaDefinition().SerializeToString())\n",
    "f.close()\n",
    "\n"
   ]
  },
  {
   "cell_type": "code",
   "execution_count": null,
   "metadata": {
    "collapsed": true
   },
   "outputs": [],
   "source": []
  }
 ],
 "metadata": {
  "kernelspec": {
   "display_name": "Python 2",
   "language": "python",
   "name": "python2"
  },
  "language_info": {
   "codemirror_mode": {
    "name": "ipython",
    "version": 2
   },
   "file_extension": ".py",
   "mimetype": "text/x-python",
   "name": "python",
   "nbconvert_exporter": "python",
   "pygments_lexer": "ipython2",
   "version": "2.7.13"
  }
 },
 "nbformat": 4,
 "nbformat_minor": 2
}
