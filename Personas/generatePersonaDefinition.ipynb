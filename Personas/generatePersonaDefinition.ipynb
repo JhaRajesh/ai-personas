{
 "cells": [
  {
   "cell_type": "code",
   "execution_count": 5,
   "metadata": {
    "collapsed": false
   },
   "outputs": [],
   "source": [
    "import personaDefinition_pb2\n",
    "import sys\n",
    "\n",
    "# This function fills in a Person message based on user input.\n",
    "def generatePersonaDefinition():\n",
    "    persona = personaDefinition_pb2.Persona()\n",
    "    persona.physical = \"keras\"\n",
    "    \n",
    "    persona.age.old = 1\n",
    "    persona.age.learningCycle = 50\n",
    "    \n",
    "    ################ environments #############################\n",
    "    environment = persona.age.environments.add()\n",
    "\n",
    "    ################ environments #############################\n",
    "    information = environment.informations.add()\n",
    "    information.informationSource = \"Informations\\Category\\Portraits\\scientists.proto\"\n",
    "    information.connectedInputLayerName = \"input\"\n",
    "    \n",
    "    return persona\n",
    "    \n",
    "# Write the new address book back to disk.\n",
    "f = open(\"Artist\\Portraits\\sketchToGreyImage\\Khandhasamy\\Khandasamy.bin\", \"wb\")\n",
    "f.write(generatePersonaDefinition().SerializeToString())\n",
    "f.close()"
   ]
  },
  {
   "cell_type": "code",
   "execution_count": null,
   "metadata": {
    "collapsed": true
   },
   "outputs": [],
   "source": []
  }
 ],
 "metadata": {
  "kernelspec": {
   "display_name": "Python 2",
   "language": "python",
   "name": "python2"
  },
  "language_info": {
   "codemirror_mode": {
    "name": "ipython",
    "version": 2
   },
   "file_extension": ".py",
   "mimetype": "text/x-python",
   "name": "python",
   "nbconvert_exporter": "python",
   "pygments_lexer": "ipython2",
   "version": "2.7.13"
  }
 },
 "nbformat": 4,
 "nbformat_minor": 2
}
