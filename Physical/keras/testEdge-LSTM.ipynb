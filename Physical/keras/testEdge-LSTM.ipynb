{
 "cells": [
  {
   "cell_type": "code",
   "execution_count": 1,
   "metadata": {
    "collapsed": false
   },
   "outputs": [
    {
     "name": "stderr",
     "output_type": "stream",
     "text": [
      "Using Theano backend.\n"
     ]
    }
   ],
   "source": [
    "import os\n",
    "os.environ[\"KERAS_BACKEND\"] = \"theano\"\n",
    "\n",
    "from __future__ import print_function\n",
    "from keras.utils import np_utils\n",
    "from keras import backend as K\n",
    "import numpy as np\n",
    "import matplotlib.pyplot as plt\n",
    "import matplotlib.cm as cm\n",
    "\n",
    "import PIL\n",
    "from PIL import Image, ImageFilter\n",
    "import numpy as np\n",
    "np.random.seed(1337)  # for reproducibility\n",
    "\n",
    "from keras.datasets import mnist\n",
    "from keras.models import Sequential\n",
    "from keras.layers import Dense, Dropout, Activation, Flatten\n",
    "from keras.layers import Convolution2D, MaxPooling2D\n",
    "from keras.layers.normalization import BatchNormalization\n",
    "from keras.layers.convolutional_recurrent import ConvLSTM2D\n",
    "import requests\n",
    "from io import BytesIO"
   ]
  },
  {
   "cell_type": "code",
   "execution_count": 2,
   "metadata": {
    "collapsed": true
   },
   "outputs": [],
   "source": [
    "batch_size = 128\n",
    "nb_classes = 10\n",
    "nb_epoch = 50\n",
    "\n",
    "# input image dimensions\n",
    "img_rows, img_cols = 100, 100\n",
    "# number of convolutional filters to use\n",
    "nb_filters = 1\n",
    "# size of pooling area for max pooling\n",
    "pool_size = (2, 2)\n",
    "# convolution kernel size\n",
    "kernel_size = (3, 3)"
   ]
  },
  {
   "cell_type": "code",
   "execution_count": 3,
   "metadata": {
    "collapsed": false
   },
   "outputs": [
    {
     "name": "stdout",
     "output_type": "stream",
     "text": [
      "http://www.loc.gov/rr/scitech/subjectguides/images/tesla-new.jpg\n",
      "https://static1.squarespace.com/static/51cdd10de4b08819bd7bc9b4/525d89c2e4b0f8245cabfc96/53cfd660e4b089801fe7e3d9/1458152617516/SciSource_BK0929.jpg?format=750w\n",
      "https://static1.squarespace.com/static/51cdd10de4b08819bd7bc9b4/525d89c2e4b0f8245cabfc96/53cfd28be4b0c47638e2f540/1458152692173/SciSource_BN4337.jpg?format=750w\n",
      "https://static1.squarespace.com/static/51cdd10de4b08819bd7bc9b4/525d89c2e4b0f8245cabfc96/53cfd532e4b0141d9ac95e95/1458152729573/SciSource_BK0945.jpg?format=750w\n",
      "https://static1.squarespace.com/static/51cdd10de4b08819bd7bc9b4/525d89c2e4b0f8245cabfc96/5400dbd4e4b0fc8cd2ef213e/1458152745999/SciSource_BU1440.jpg?format=750w\n"
     ]
    }
   ],
   "source": [
    "X_train_data = np.random.random((1,6,1, img_rows, img_cols))\n",
    "Y_train_data = np.random.random((1,6,1, img_rows, img_cols))\n",
    "\n",
    "with open(\"../../Environment/Informations/Category/Portraits/trainImages/images.txt\") as f:\n",
    "    infoFileContents = f.readlines()\n",
    "    for l in range(len(infoFileContents)):\n",
    "        infoLine = infoFileContents[l].lstrip().rstrip()\n",
    "        \n",
    "        print (infoLine)\n",
    "        response = requests.get(infoLine)\n",
    "        trainInpImg = Image.open(BytesIO(response.content))\n",
    "        trainInpGrayImg = trainInpImg.convert(\"L\")\n",
    "        trainInpGrayImg = trainInpGrayImg.resize((img_rows,img_cols), PIL.Image.ANTIALIAS)\n",
    "        trainInpGreyImgArray = np.asarray(trainInpGrayImg, dtype=np.float32)\n",
    "        Y_train_data[0,l,0,:,:] = trainInpGreyImgArray\n",
    "        \n",
    "        trainInpEdgeImg = trainInpImg.convert(\"L\")\n",
    "        trainInpEdgeImg = trainInpEdgeImg.resize((img_rows,img_cols), PIL.Image.ANTIALIAS)\n",
    "        trainInpEdgeImg = trainInpEdgeImg.filter(ImageFilter.FIND_EDGES)\n",
    "\n",
    "        trainInpEdgeImgArray = np.asarray(trainInpEdgeImg, dtype=np.float32)\n",
    "        X_train_data[0,l,0,:,:] = trainInpEdgeImgArray\n",
    "\n",
    "X_test_data = np.random.random((1,2,1, img_rows, img_cols))\n",
    "Y_test_data = np.random.random((1,2,1, img_rows, img_cols))        \n",
    "\n",
    "with open(\"../../Environment/Informations/Category/Portraits/testImages/images.txt\") as f:\n",
    "    infoFileContents = f.readlines()\n",
    "    for l in range(len(infoFileContents)):\n",
    "        infoLine = infoFileContents[l].lstrip().rstrip()\n",
    "        \n",
    "        print (infoLine)\n",
    "        response = requests.get(infoLine)\n",
    "        trainInpImg = Image.open(BytesIO(response.content))\n",
    "        trainInpGrayImg = trainInpImg.convert(\"L\")\n",
    "        trainInpGrayImg = trainInpGrayImg.resize((img_rows,img_cols), PIL.Image.ANTIALIAS)\n",
    "        trainInpGreyImgArray = np.asarray(trainInpGrayImg, dtype=np.float32)\n",
    "        Y_test_data[0,l,0,:,:] = trainInpGreyImgArray\n",
    "        \n",
    "        trainInpEdgeImg = trainInpImg.convert(\"L\")\n",
    "        trainInpEdgeImg = trainInpEdgeImg.resize((img_rows,img_cols), PIL.Image.ANTIALIAS)\n",
    "        trainInpEdgeImg = trainInpEdgeImg.filter(ImageFilter.FIND_EDGES)\n",
    "        trainInpEdgeImgArray = np.asarray(trainInpEdgeImg, dtype=np.float32)\n",
    "        X_test_data[0,l,0,:,:] = trainInpEdgeImgArray\n",
    "        "
   ]
  },
  {
   "cell_type": "code",
   "execution_count": 4,
   "metadata": {
    "collapsed": false
   },
   "outputs": [
    {
     "name": "stdout",
     "output_type": "stream",
     "text": [
      "X_train shape: (1L, 6L, 1L, 100L, 100L)\n",
      "1 train samples\n",
      "Y_train shape: (1L, 6L, 1L, 100L, 100L)\n",
      "1 train samples\n"
     ]
    }
   ],
   "source": [
    "X_train_data = X_train_data.astype('float32')\n",
    "X_train_data /= 255\n",
    "print('X_train shape:', X_train_data.shape)\n",
    "print(X_train_data.shape[0], 'train samples')\n",
    "Y_train_data = Y_train_data.astype('float32')\n",
    "Y_train_data /= 255\n",
    "print('Y_train shape:', Y_train_data.shape)\n",
    "print(Y_train_data.shape[0], 'train samples')"
   ]
  },
  {
   "cell_type": "code",
   "execution_count": 5,
   "metadata": {
    "collapsed": false
   },
   "outputs": [],
   "source": [
    "if K.image_dim_ordering() == 'th':\n",
    "    input_shape = (None, 1, img_rows, img_cols)\n",
    "else:\n",
    "    input_shape = (None, img_rows, img_cols, 1)"
   ]
  },
  {
   "cell_type": "code",
   "execution_count": 6,
   "metadata": {
    "collapsed": false
   },
   "outputs": [
    {
     "name": "stderr",
     "output_type": "stream",
     "text": [
      "C:\\Users\\rames\\Anaconda2\\lib\\site-packages\\keras\\layers\\convolutional_recurrent.py:280: UserWarning: Be carefull if used with convolution3D layers:\n",
      "th in convolution 3D corresponds to (samples, channels, conv_dim1, conv_dim2,conv_dim3)\n",
      "while for this network it corresponds to: (samples, time, channels, rows, cols)\n",
      "  warnings.warn('Be carefull if used with convolution3D layers:\\n'\n",
      "C:\\Users\\rames\\Anaconda2\\lib\\site-packages\\keras\\engine\\topology.py:379: UserWarning: The `regularizers` property of layers/models is deprecated. Regularization losses are now managed via the `losses` layer/model property.\n",
      "  warnings.warn('The `regularizers` property of layers/models '\n"
     ]
    }
   ],
   "source": [
    "model = Sequential()\n",
    "\n",
    "model.add(ConvLSTM2D(nb_filters*100, kernel_size[0], kernel_size[1],\n",
    "                        border_mode='same',\n",
    "                        input_shape=input_shape, return_sequences=True))\n",
    "model.add(Activation('relu'))\n",
    "model.add(Dropout(0.3))\n",
    "model.add(ConvLSTM2D(nb_filters*100, kernel_size[0], kernel_size[1],\n",
    "                         border_mode='same',\n",
    "                         input_shape=input_shape, return_sequences=True))\n",
    "model.add(Activation('relu'))\n",
    "model.add(Dropout(0.3))\n",
    "model.add(ConvLSTM2D(nb_filters*100, kernel_size[0], kernel_size[1],\n",
    "                         border_mode='same',\n",
    "                         input_shape=input_shape, return_sequences=True))\n",
    "model.add(Activation('relu'))\n",
    "model.add(Dropout(0.3))\n",
    "model.add(ConvLSTM2D(nb_filters*100, kernel_size[0], kernel_size[1],\n",
    "                         border_mode='same',\n",
    "                         input_shape=input_shape, return_sequences=True))\n",
    "model.add(Activation('relu'))\n",
    "model.add(Dropout(0.3))\n",
    "model.add(ConvLSTM2D(nb_filters, kernel_size[0], kernel_size[1],\n",
    "                         border_mode='same',\n",
    "                         input_shape=input_shape, return_sequences=True))\n",
    "model.add(Activation('relu'))"
   ]
  },
  {
   "cell_type": "code",
   "execution_count": 7,
   "metadata": {
    "collapsed": true
   },
   "outputs": [],
   "source": [
    "model.compile(loss='binary_crossentropy',\n",
    "              optimizer='adadelta')"
   ]
  },
  {
   "cell_type": "code",
   "execution_count": 8,
   "metadata": {
    "collapsed": false
   },
   "outputs": [
    {
     "name": "stdout",
     "output_type": "stream",
     "text": [
      "Train on 1 samples, validate on 1 samples\n",
      "Epoch 1/50\n",
      "1/1 [==============================] - 37s - loss: 3.1722 - val_loss: 1266.3553\n",
      "Epoch 2/50\n",
      "1/1 [==============================] - 39s - loss: 1.5087 - val_loss: 1153.3278\n",
      "Epoch 3/50\n",
      "1/1 [==============================] - 42s - loss: 1.4318 - val_loss: 1079.1110\n",
      "Epoch 4/50\n",
      "1/1 [==============================] - 36s - loss: 1.3763 - val_loss: 1014.8133\n",
      "Epoch 5/50\n",
      "1/1 [==============================] - 37s - loss: 1.3295 - val_loss: 954.4838\n",
      "Epoch 6/50\n",
      "1/1 [==============================] - 39s - loss: 1.2858 - val_loss: 896.1168\n",
      "Epoch 7/50\n",
      "1/1 [==============================] - 40s - loss: 1.2439 - val_loss: 839.5942\n",
      "Epoch 8/50\n",
      "1/1 [==============================] - 36s - loss: 1.2030 - val_loss: 784.8791\n",
      "Epoch 9/50\n",
      "1/1 [==============================] - 35s - loss: 1.1629 - val_loss: 732.5497\n",
      "Epoch 10/50\n",
      "1/1 [==============================] - 34s - loss: 1.1255 - val_loss: 683.4901\n",
      "Epoch 11/50\n",
      "1/1 [==============================] - 34s - loss: 1.0902 - val_loss: 638.0688\n",
      "Epoch 12/50\n",
      "1/1 [==============================] - 41s - loss: 1.0575 - val_loss: 596.6988\n",
      "Epoch 13/50\n",
      "1/1 [==============================] - 39s - loss: 1.0278 - val_loss: 559.5127\n",
      "Epoch 14/50\n",
      "1/1 [==============================] - 36s - loss: 1.0017 - val_loss: 526.3444\n",
      "Epoch 15/50\n",
      "1/1 [==============================] - 36s - loss: 0.9774 - val_loss: 496.8538\n",
      "Epoch 16/50\n",
      "1/1 [==============================] - 36s - loss: 0.9555 - val_loss: 470.6356\n",
      "Epoch 17/50\n",
      "1/1 [==============================] - 36s - loss: 0.9356 - val_loss: 447.3586\n",
      "Epoch 18/50\n",
      "1/1 [==============================] - 36s - loss: 0.9163 - val_loss: 426.7344\n",
      "Epoch 19/50\n",
      "1/1 [==============================] - 36s - loss: 0.8976 - val_loss: 408.5764\n",
      "Epoch 20/50\n",
      "1/1 [==============================] - 37s - loss: 0.8791 - val_loss: 392.7717\n",
      "Epoch 21/50\n",
      "1/1 [==============================] - 37s - loss: 0.8612 - val_loss: 379.2861\n",
      "Epoch 22/50\n",
      "1/1 [==============================] - 40s - loss: 0.8427 - val_loss: 368.1989\n",
      "Epoch 23/50\n",
      "1/1 [==============================] - 35s - loss: 0.8237 - val_loss: 359.7334\n",
      "Epoch 24/50\n",
      "1/1 [==============================] - 35s - loss: 0.8033 - val_loss: 354.2804\n",
      "Epoch 25/50\n",
      "1/1 [==============================] - 37s - loss: 0.7809 - val_loss: 352.6049\n",
      "Epoch 26/50\n",
      "1/1 [==============================] - 36s - loss: 0.7541 - val_loss: 355.8075\n",
      "Epoch 27/50\n",
      "1/1 [==============================] - 43s - loss: 0.7219 - val_loss: 365.6118\n",
      "Epoch 28/50\n",
      "1/1 [==============================] - 36s - loss: 0.6831 - val_loss: 384.0724\n",
      "Epoch 29/50\n",
      "1/1 [==============================] - 40s - loss: 0.6432 - val_loss: 405.4033\n",
      "Epoch 30/50\n",
      "1/1 [==============================] - 53s - loss: 0.6152 - val_loss: 417.4874\n",
      "Epoch 31/50\n",
      "1/1 [==============================] - 45s - loss: 0.5976 - val_loss: 414.8373\n",
      "Epoch 32/50\n",
      "1/1 [==============================] - 42s - loss: 0.5841 - val_loss: 406.1617\n",
      "Epoch 33/50\n",
      "1/1 [==============================] - 41s - loss: 0.5719 - val_loss: 387.9245\n",
      "Epoch 34/50\n",
      "1/1 [==============================] - 42s - loss: 0.5615 - val_loss: 369.6977\n",
      "Epoch 35/50\n",
      "1/1 [==============================] - 44s - loss: 0.5508 - val_loss: 356.1595\n",
      "Epoch 36/50\n",
      "1/1 [==============================] - 40s - loss: 0.5417 - val_loss: 339.5396\n",
      "Epoch 37/50\n",
      "1/1 [==============================] - 43s - loss: 0.5324 - val_loss: 327.4335\n",
      "Epoch 38/50\n",
      "1/1 [==============================] - 41s - loss: 0.5236 - val_loss: 315.8687\n",
      "Epoch 39/50\n",
      "1/1 [==============================] - 38s - loss: 0.5156 - val_loss: 296.1174\n",
      "Epoch 40/50\n",
      "1/1 [==============================] - 37s - loss: 0.5079 - val_loss: 282.2574\n",
      "Epoch 41/50\n",
      "1/1 [==============================] - 37s - loss: 0.5008 - val_loss: 283.7831\n",
      "Epoch 42/50\n",
      "1/1 [==============================] - 37s - loss: 0.4934 - val_loss: 268.5440\n",
      "Epoch 43/50\n",
      "1/1 [==============================] - 37s - loss: 0.4866 - val_loss: 240.7768\n",
      "Epoch 44/50\n",
      "1/1 [==============================] - 37s - loss: 0.4819 - val_loss: 259.9622\n",
      "Epoch 45/50\n",
      "1/1 [==============================] - 39s - loss: 0.4747 - val_loss: 229.9449\n",
      "Epoch 46/50\n",
      "1/1 [==============================] - 38s - loss: 0.4682 - val_loss: 237.2594\n",
      "Epoch 47/50\n",
      "1/1 [==============================] - 43s - loss: 0.4622 - val_loss: 218.2536\n",
      "Epoch 48/50\n",
      "1/1 [==============================] - 41s - loss: 0.4558 - val_loss: 215.4832\n",
      "Epoch 49/50\n",
      "1/1 [==============================] - 38s - loss: 0.4506 - val_loss: 197.3640\n",
      "Epoch 50/50\n",
      "1/1 [==============================] - 37s - loss: 0.4445 - val_loss: 181.9474\n"
     ]
    },
    {
     "data": {
      "text/plain": [
       "<keras.callbacks.History at 0x4bde2198>"
      ]
     },
     "execution_count": 8,
     "metadata": {},
     "output_type": "execute_result"
    }
   ],
   "source": [
    "model.fit(X_train_data, Y_train_data, batch_size=batch_size, nb_epoch=nb_epoch,\n",
    "          verbose=1, validation_data=(X_test_data, Y_test_data))"
   ]
  },
  {
   "cell_type": "code",
   "execution_count": 9,
   "metadata": {
    "collapsed": false
   },
   "outputs": [
    {
     "name": "stdout",
     "output_type": "stream",
     "text": [
      "Test score: 0.437286674976\n",
      "Test accuracy: 0.437286674976\n"
     ]
    }
   ],
   "source": [
    "score = model.evaluate(X_train_data, Y_train_data, verbose=0)\n",
    "print('Test score:', score)\n",
    "print('Test accuracy:', score)"
   ]
  },
  {
   "cell_type": "code",
   "execution_count": 10,
   "metadata": {
    "collapsed": true
   },
   "outputs": [],
   "source": [
    "pred_data = model.predict(X_test_data)"
   ]
  },
  {
   "cell_type": "code",
   "execution_count": 15,
   "metadata": {
    "collapsed": false
   },
   "outputs": [
    {
     "data": {
      "image/png": "[encoded data removed]",
      "text/plain": [
       "<matplotlib.figure.Figure at 0x50c85668>"
      ]
     },
     "metadata": {},
     "output_type": "display_data"
    },
    {
     "data": {
      "image/png": "[encoded data removed]",
      "text/plain": [
       "<matplotlib.figure.Figure at 0x50f22cc0>"
      ]
     },
     "metadata": {},
     "output_type": "display_data"
    }
   ],
   "source": [
    "#plot_image = np.concatenate((X_train_data[0][0]*255, Y_train_data[0][0]*255), axis=1)\n",
    "plt.imshow(X_test_data[0][1][0]*255, cmap = cm.Greys_r)\n",
    "plt.show()\n",
    "plt.imshow(pred_data[0][1][0]*255, cmap = cm.Greys_r)\n",
    "plt.show()"
   ]
  },
  {
   "cell_type": "code",
   "execution_count": null,
   "metadata": {
    "collapsed": false
   },
   "outputs": [],
   "source": [
    "trainInpGrayImg"
   ]
  },
  {
   "cell_type": "code",
   "execution_count": null,
   "metadata": {
    "collapsed": false
   },
   "outputs": [],
   "source": [
    "trainInpEdgeImg"
   ]
  },
  {
   "cell_type": "code",
   "execution_count": null,
   "metadata": {
    "collapsed": false
   },
   "outputs": [],
   "source": [
    "prdImg = Image.fromarray(pred_data[0][0], 'L')\n",
    "prdImg"
   ]
  },
  {
   "cell_type": "code",
   "execution_count": null,
   "metadata": {
    "collapsed": true
   },
   "outputs": [],
   "source": []
  }
 ],
 "metadata": {
  "kernelspec": {
   "display_name": "Python 2",
   "language": "python",
   "name": "python2"
  },
  "language_info": {
   "codemirror_mode": {
    "name": "ipython",
    "version": 2
   },
   "file_extension": ".py",
   "mimetype": "text/x-python",
   "name": "python",
   "nbconvert_exporter": "python",
   "pygments_lexer": "ipython2",
   "version": "2.7.13"
  }
 },
 "nbformat": 4,
 "nbformat_minor": 2
}
