{
 "cells": [
  {
   "cell_type": "code",
   "execution_count": 1,
   "metadata": {
    "collapsed": false
   },
   "outputs": [
    {
     "name": "stderr",
     "output_type": "stream",
     "text": [
      "Using Theano backend.\n"
     ]
    }
   ],
   "source": [
    "import os\n",
    "os.environ[\"KERAS_BACKEND\"] = \"theano\"\n",
    "\n",
    "from __future__ import print_function\n",
    "import numpy as np\n",
    "np.random.seed(1337)  # for reproducibility\n",
    "\n",
    "from keras.datasets import mnist\n",
    "from keras.models import Sequential\n",
    "from keras.layers import Dense, Dropout, Activation, Flatten\n",
    "from keras.layers import Convolution2D, MaxPooling2D\n",
    "from keras.utils import np_utils\n",
    "from keras import backend as K\n",
    "import numpy as np\n",
    "import matplotlib.pyplot as plt\n",
    "import matplotlib.cm as cm\n",
    "\n",
    "import PIL\n",
    "from PIL import Image, ImageFilter\n",
    "import requests\n",
    "from io import BytesIO"
   ]
  },
  {
   "cell_type": "code",
   "execution_count": 2,
   "metadata": {
    "collapsed": true
   },
   "outputs": [],
   "source": [
    "batch_size = 128\n",
    "nb_classes = 10\n",
    "nb_epoch = 50\n",
    "\n",
    "# input image dimensions\n",
    "img_rows, img_cols = 100, 100\n",
    "# number of convolutional filters to use\n",
    "nb_filters = 1\n",
    "# size of pooling area for max pooling\n",
    "pool_size = (2, 2)\n",
    "# convolution kernel size\n",
    "kernel_size = (3, 3)"
   ]
  },
  {
   "cell_type": "code",
   "execution_count": 3,
   "metadata": {
    "collapsed": false
   },
   "outputs": [],
   "source": [
    "X_train_data = np.random.random((6,1, img_rows, img_cols))\n",
    "Y_train_data = np.random.random((6,1, img_rows, img_cols))\n",
    "\n",
    "with open(\"../../Environment/Informations/Content/Portraits/trainImages/images.txt\") as f:\n",
    "    infoFileContents = f.readlines()\n",
    "    for l in range(len(infoFileContents)):\n",
    "        infoLine = infoFileContents[l].lstrip().rstrip()\n",
    "            \n",
    "        response = requests.get(infoLine)\n",
    "        trainInpImg = Image.open(BytesIO(response.content))\n",
    "        trainInpGrayImg = trainInpImg.convert(\"L\")\n",
    "        trainInpGrayImg = trainInpGrayImg.resize((img_rows,img_cols), PIL.Image.ANTIALIAS)\n",
    "        trainInpGreyImgArray = np.asarray(trainInpGrayImg, dtype=np.float32)\n",
    "        Y_train_data[l,0,:,:] = trainInpGreyImgArray\n",
    "        \n",
    "        trainInpEdgeImg = trainInpImg.convert(\"L\")\n",
    "        trainInpEdgeImg = trainInpEdgeImg.resize((img_rows,img_cols), PIL.Image.ANTIALIAS)\n",
    "        trainInpEdgeImg = trainInpEdgeImg.filter(ImageFilter.FIND_EDGES)\n",
    "\n",
    "        trainInpEdgeImgArray = np.asarray(trainInpEdgeImg, dtype=np.float32)\n",
    "        X_train_data[l,0,:,:] = trainInpEdgeImgArray\n",
    "\n",
    "X_test_data = np.random.random((2,1, img_rows, img_cols))\n",
    "Y_test_data = np.random.random((2,1, img_rows, img_cols))        \n",
    "\n",
    "with open(\"../../Environment/Informations/Content/Portraits/testImages/images.txt\") as f:\n",
    "    infoFileContents = f.readlines()\n",
    "    for l in range(len(infoFileContents)):\n",
    "        infoLine = infoFileContents[l].lstrip().rstrip()\n",
    "            \n",
    "        response = requests.get(infoLine)\n",
    "        trainInpImg = Image.open(BytesIO(response.content))\n",
    "        trainInpGrayImg = trainInpImg.convert(\"L\")\n",
    "        trainInpGrayImg = trainInpGrayImg.resize((img_rows,img_cols), PIL.Image.ANTIALIAS)\n",
    "        trainInpGreyImgArray = np.asarray(trainInpGrayImg, dtype=np.float32)\n",
    "        Y_test_data[l,0,:,:] = trainInpGreyImgArray\n",
    "        \n",
    "        trainInpEdgeImg = trainInpImg.convert(\"L\")\n",
    "        trainInpEdgeImg = trainInpEdgeImg.resize((img_rows,img_cols), PIL.Image.ANTIALIAS)\n",
    "        trainInpEdgeImg = trainInpEdgeImg.filter(ImageFilter.FIND_EDGES)\n",
    "        trainInpEdgeImgArray = np.asarray(trainInpEdgeImg, dtype=np.float32)\n",
    "        X_test_data[l,0,:,:] = trainInpEdgeImgArray\n",
    "        "
   ]
  },
  {
   "cell_type": "code",
   "execution_count": 4,
   "metadata": {
    "collapsed": false
   },
   "outputs": [
    {
     "name": "stdout",
     "output_type": "stream",
     "text": [
      "X_train shape: (6L, 1L, 100L, 100L)\n",
      "6 train samples\n",
      "Y_train shape: (6L, 1L, 100L, 100L)\n",
      "6 train samples\n"
     ]
    }
   ],
   "source": [
    "X_train_data = X_train_data.astype('float32')\n",
    "X_train_data /= 255\n",
    "print('X_train shape:', X_train_data.shape)\n",
    "print(X_train_data.shape[0], 'train samples')\n",
    "Y_train_data = Y_train_data.astype('float32')\n",
    "Y_train_data /= 255\n",
    "print('Y_train shape:', Y_train_data.shape)\n",
    "print(Y_train_data.shape[0], 'train samples')"
   ]
  },
  {
   "cell_type": "code",
   "execution_count": 5,
   "metadata": {
    "collapsed": false
   },
   "outputs": [],
   "source": [
    "if K.image_dim_ordering() == 'th':\n",
    "    input_shape = (1, img_rows, img_cols)\n",
    "else:\n",
    "    input_shape = (img_rows, img_cols, 1)"
   ]
  },
  {
   "cell_type": "code",
   "execution_count": 6,
   "metadata": {
    "collapsed": false
   },
   "outputs": [],
   "source": [
    "model = Sequential()\n",
    "\n",
    "model.add(Convolution2D(nb_filters*100, kernel_size[0], kernel_size[1],\n",
    "                        border_mode='same',\n",
    "                        input_shape=input_shape))\n",
    "model.add(Activation('relu'))\n",
    "model.add(Dropout(0.3))\n",
    "model.add(Convolution2D(nb_filters*100, kernel_size[0], kernel_size[1],\n",
    "                         border_mode='same',\n",
    "                         input_shape=input_shape))\n",
    "model.add(Activation('relu'))\n",
    "model.add(Dropout(0.3))\n",
    "model.add(Convolution2D(nb_filters*100, kernel_size[0], kernel_size[1],\n",
    "                         border_mode='same',\n",
    "                         input_shape=input_shape))\n",
    "model.add(Activation('relu'))\n",
    "model.add(Dropout(0.3))\n",
    "model.add(Convolution2D(nb_filters*100, kernel_size[0], kernel_size[1],\n",
    "                         border_mode='same',\n",
    "                         input_shape=input_shape))\n",
    "model.add(Activation('relu'))\n",
    "model.add(Dropout(0.3))\n",
    "model.add(Convolution2D(nb_filters, kernel_size[0], kernel_size[1],\n",
    "                         border_mode='same',\n",
    "                         input_shape=input_shape))\n",
    "model.add(Activation('relu'))"
   ]
  },
  {
   "cell_type": "code",
   "execution_count": 7,
   "metadata": {
    "collapsed": true
   },
   "outputs": [],
   "source": [
    "model.compile(loss='binary_crossentropy',\n",
    "              optimizer='adadelta')"
   ]
  },
  {
   "cell_type": "code",
   "execution_count": 8,
   "metadata": {
    "collapsed": false
   },
   "outputs": [
    {
     "name": "stdout",
     "output_type": "stream",
     "text": [
      "Train on 6 samples, validate on 2 samples\n",
      "Epoch 1/50\n",
      "6/6 [==============================] - 3s - loss: 3.6925 - val_loss: -1682.8982\n",
      "Epoch 2/50\n",
      "6/6 [==============================] - 3s - loss: 1.6166 - val_loss: -2196.8765\n",
      "Epoch 3/50\n",
      "6/6 [==============================] - 3s - loss: 1.1895 - val_loss: -2487.2925\n",
      "Epoch 4/50\n",
      "6/6 [==============================] - 3s - loss: 1.0784 - val_loss: -2664.3496\n",
      "Epoch 5/50\n",
      "6/6 [==============================] - 3s - loss: 1.0035 - val_loss: -2717.9399\n",
      "Epoch 6/50\n",
      "6/6 [==============================] - 3s - loss: 0.9665 - val_loss: -2742.4263\n",
      "Epoch 7/50\n",
      "6/6 [==============================] - 3s - loss: 0.9373 - val_loss: -2755.1582\n",
      "Epoch 8/50\n",
      "6/6 [==============================] - 3s - loss: 0.9075 - val_loss: -2758.7268\n",
      "Epoch 9/50\n",
      "6/6 [==============================] - 3s - loss: 0.8830 - val_loss: -2759.5269\n",
      "Epoch 10/50\n",
      "6/6 [==============================] - 3s - loss: 0.8558 - val_loss: -2759.6619\n",
      "Epoch 11/50\n",
      "6/6 [==============================] - 3s - loss: 0.8342 - val_loss: -2759.6619\n",
      "Epoch 12/50\n",
      "6/6 [==============================] - 3s - loss: 0.8113 - val_loss: -2759.6619\n",
      "Epoch 13/50\n",
      "6/6 [==============================] - 3s - loss: 0.7911 - val_loss: -2759.6619\n",
      "Epoch 14/50\n",
      "6/6 [==============================] - 3s - loss: 0.7719 - val_loss: -2759.6619\n",
      "Epoch 15/50\n",
      "6/6 [==============================] - 3s - loss: 0.7543 - val_loss: -2759.6619\n",
      "Epoch 16/50\n",
      "6/6 [==============================] - 3s - loss: 0.7370 - val_loss: -2759.6619\n",
      "Epoch 17/50\n",
      "6/6 [==============================] - 3s - loss: 0.7206 - val_loss: -2759.6619\n",
      "Epoch 18/50\n",
      "6/6 [==============================] - 3s - loss: 0.7065 - val_loss: -2759.6619\n",
      "Epoch 19/50\n",
      "6/6 [==============================] - 3s - loss: 0.6925 - val_loss: -2759.6619\n",
      "Epoch 20/50\n",
      "6/6 [==============================] - 3s - loss: 0.6806 - val_loss: -2759.6619\n",
      "Epoch 21/50\n",
      "6/6 [==============================] - 3s - loss: 0.6689 - val_loss: -2759.6619\n",
      "Epoch 22/50\n",
      "6/6 [==============================] - 3s - loss: 0.6588 - val_loss: -2759.6619\n",
      "Epoch 23/50\n",
      "6/6 [==============================] - 3s - loss: 0.6494 - val_loss: -2759.6619\n",
      "Epoch 24/50\n",
      "6/6 [==============================] - 3s - loss: 0.6433 - val_loss: -2759.6619\n",
      "Epoch 25/50\n",
      "6/6 [==============================] - 3s - loss: 0.6376 - val_loss: -2759.6619\n",
      "Epoch 26/50\n",
      "6/6 [==============================] - 3s - loss: 0.6327 - val_loss: -2759.6619\n",
      "Epoch 27/50\n",
      "6/6 [==============================] - 3s - loss: 0.6285 - val_loss: -2759.6619\n",
      "Epoch 28/50\n",
      "6/6 [==============================] - 3s - loss: 0.6266 - val_loss: -2759.6619\n",
      "Epoch 29/50\n",
      "6/6 [==============================] - 3s - loss: 0.6240 - val_loss: -2759.6619\n",
      "Epoch 30/50\n",
      "6/6 [==============================] - 3s - loss: 0.6231 - val_loss: -2759.6619\n",
      "Epoch 31/50\n",
      "6/6 [==============================] - 3s - loss: 0.6224 - val_loss: -2759.6619\n",
      "Epoch 32/50\n",
      "6/6 [==============================] - 4s - loss: 0.6212 - val_loss: -2759.6619\n",
      "Epoch 33/50\n",
      "6/6 [==============================] - 3s - loss: 0.6213 - val_loss: -2759.6619\n",
      "Epoch 34/50\n",
      "6/6 [==============================] - 3s - loss: 0.6203 - val_loss: -2759.6619\n",
      "Epoch 35/50\n",
      "6/6 [==============================] - 3s - loss: 0.6194 - val_loss: -2759.6619\n",
      "Epoch 36/50\n",
      "6/6 [==============================] - 3s - loss: 0.6193 - val_loss: -2759.6619\n",
      "Epoch 37/50\n",
      "6/6 [==============================] - 3s - loss: 0.6185 - val_loss: -2759.6619\n",
      "Epoch 38/50\n",
      "6/6 [==============================] - 3s - loss: 0.6172 - val_loss: -2759.6619\n",
      "Epoch 39/50\n",
      "6/6 [==============================] - 3s - loss: 0.6186 - val_loss: -2759.6619\n",
      "Epoch 40/50\n",
      "6/6 [==============================] - 3s - loss: 0.6179 - val_loss: -2759.6619\n",
      "Epoch 41/50\n",
      "6/6 [==============================] - 3s - loss: 0.6164 - val_loss: -2759.6619\n",
      "Epoch 42/50\n",
      "6/6 [==============================] - 3s - loss: 0.6169 - val_loss: -2759.6619\n",
      "Epoch 43/50\n",
      "6/6 [==============================] - 3s - loss: 0.6158 - val_loss: -2759.6619\n",
      "Epoch 44/50\n",
      "6/6 [==============================] - 3s - loss: 0.6139 - val_loss: -2759.6619\n",
      "Epoch 45/50\n",
      "6/6 [==============================] - 3s - loss: 0.6151 - val_loss: -2759.6619\n",
      "Epoch 46/50\n",
      "6/6 [==============================] - 3s - loss: 0.6148 - val_loss: -2759.6619\n",
      "Epoch 47/50\n",
      "6/6 [==============================] - 3s - loss: 0.6147 - val_loss: -2759.6619\n",
      "Epoch 48/50\n",
      "6/6 [==============================] - 3s - loss: 0.6150 - val_loss: -2759.6619\n",
      "Epoch 49/50\n",
      "6/6 [==============================] - 3s - loss: 0.6142 - val_loss: -2759.6619\n",
      "Epoch 50/50\n",
      "6/6 [==============================] - 3s - loss: 0.6125 - val_loss: -2759.6619\n"
     ]
    },
    {
     "data": {
      "text/plain": [
       "<keras.callbacks.History at 0x12864dd8>"
      ]
     },
     "execution_count": 8,
     "metadata": {},
     "output_type": "execute_result"
    }
   ],
   "source": [
    "model.fit(X_train_data, Y_train_data, batch_size=batch_size, nb_epoch=nb_epoch,\n",
    "          verbose=1, validation_data=(X_test_data, Y_test_data))"
   ]
  },
  {
   "cell_type": "code",
   "execution_count": 9,
   "metadata": {
    "collapsed": false
   },
   "outputs": [
    {
     "name": "stdout",
     "output_type": "stream",
     "text": [
      "Test score: 0.605596184731\n",
      "Test accuracy: 0.605596184731\n"
     ]
    }
   ],
   "source": [
    "score = model.evaluate(X_train_data, Y_train_data, verbose=0)\n",
    "print('Test score:', score)\n",
    "print('Test accuracy:', score)"
   ]
  },
  {
   "cell_type": "code",
   "execution_count": 10,
   "metadata": {
    "collapsed": true
   },
   "outputs": [],
   "source": [
    "pred_data = model.predict(X_test_data)"
   ]
  },
  {
   "cell_type": "code",
   "execution_count": 16,
   "metadata": {
    "collapsed": false
   },
   "outputs": [
    {
     "data": {
      "image/png": "[encoded data removed]",
      "text/plain": [
       "<matplotlib.figure.Figure at 0x29563be0>"
      ]
     },
     "metadata": {},
     "output_type": "display_data"
    },
    {
     "data": {
      "image/png": "[encoded data removed]",
      "text/plain": [
       "<matplotlib.figure.Figure at 0x29656fd0>"
      ]
     },
     "metadata": {},
     "output_type": "display_data"
    }
   ],
   "source": [
    "#plot_image = np.concatenate((X_train_data[0][0]*255, Y_train_data[0][0]*255), axis=1)\n",
    "plt.imshow(X_test_data[0][0]*255, cmap = cm.Greys_r)\n",
    "plt.show()\n",
    "plt.imshow(pred_data[0][0]*255, cmap = cm.Greys_r)\n",
    "plt.show()"
   ]
  },
  {
   "cell_type": "code",
   "execution_count": 12,
   "metadata": {
    "collapsed": false
   },
   "outputs": [
    {
     "data": {
      "image/png": "[encoded data removed]",
      "text/plain": [
       "<PIL.Image.Image image mode=L size=100x100 at 0xC684BE0>"
      ]
     },
     "execution_count": 12,
     "metadata": {},
     "output_type": "execute_result"
    }
   ],
   "source": [
    "trainInpGrayImg"
   ]
  },
  {
   "cell_type": "code",
   "execution_count": 13,
   "metadata": {
    "collapsed": false
   },
   "outputs": [
    {
     "data": {
      "image/png": "[encoded data removed]",
      "text/plain": [
       "<PIL.Image.Image image mode=L size=100x100 at 0xCC79DA0>"
      ]
     },
     "execution_count": 13,
     "metadata": {},
     "output_type": "execute_result"
    }
   ],
   "source": [
    "trainInpEdgeImg"
   ]
  },
  {
   "cell_type": "code",
   "execution_count": 14,
   "metadata": {
    "collapsed": false
   },
   "outputs": [
    {
     "data": {
      "image/png": "[encoded data removed]",
      "text/plain": [
       "<PIL.Image.Image image mode=L size=100x100 at 0x28F53DD8>"
      ]
     },
     "execution_count": 14,
     "metadata": {},
     "output_type": "execute_result"
    }
   ],
   "source": [
    "prdImg = Image.fromarray(pred_data[0][0], 'L')\n",
    "prdImg"
   ]
  },
  {
   "cell_type": "code",
   "execution_count": null,
   "metadata": {
    "collapsed": true
   },
   "outputs": [],
   "source": []
  }
 ],
 "metadata": {
  "kernelspec": {
   "display_name": "Python 2",
   "language": "python",
   "name": "python2"
  },
  "language_info": {
   "codemirror_mode": {
    "name": "ipython",
    "version": 2
   },
   "file_extension": ".py",
   "mimetype": "text/x-python",
   "name": "python",
   "nbconvert_exporter": "python",
   "pygments_lexer": "ipython2",
   "version": "2.7.13"
  }
 },
 "nbformat": 4,
 "nbformat_minor": 2
}
