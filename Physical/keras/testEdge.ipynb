{
 "cells": [
  {
   "cell_type": "code",
   "execution_count": 1,
   "metadata": {
    "collapsed": false
   },
   "outputs": [
    {
     "name": "stderr",
     "output_type": "stream",
     "text": [
      "Using Theano backend.\n"
     ]
    }
   ],
   "source": [
    "import os\n",
    "os.environ[\"KERAS_BACKEND\"] = \"theano\"\n",
    "\n",
    "from __future__ import print_function\n",
    "import numpy as np\n",
    "np.random.seed(1337)  # for reproducibility\n",
    "\n",
    "from keras.datasets import mnist\n",
    "from keras.models import Sequential\n",
    "from keras.layers import Dense, Dropout, Activation, Flatten\n",
    "from keras.layers import Convolution2D, MaxPooling2D\n",
    "from keras.layers.normalization import BatchNormalization\n",
    "from keras.utils import np_utils\n",
    "from keras import backend as K\n",
    "import numpy as np\n",
    "import matplotlib.pyplot as plt\n",
    "import matplotlib.cm as cm\n",
    "\n",
    "import PIL\n",
    "from PIL import Image, ImageFilter\n",
    "import requests\n",
    "from io import BytesIO"
   ]
  },
  {
   "cell_type": "code",
   "execution_count": 2,
   "metadata": {
    "collapsed": true
   },
   "outputs": [],
   "source": [
    "batch_size = 128\n",
    "nb_classes = 10\n",
    "nb_epoch = 50\n",
    "\n",
    "# input image dimensions\n",
    "img_rows, img_cols = 100, 100\n",
    "# number of convolutional filters to use\n",
    "nb_filters = 1\n",
    "# size of pooling area for max pooling\n",
    "pool_size = (2, 2)\n",
    "# convolution kernel size\n",
    "kernel_size = (3, 3)"
   ]
  },
  {
   "cell_type": "code",
   "execution_count": 3,
   "metadata": {
    "collapsed": false
   },
   "outputs": [
    {
     "name": "stdout",
     "output_type": "stream",
     "text": [
      "http://www.loc.gov/rr/scitech/subjectguides/images/tesla-new.jpg\n",
      "https://static1.squarespace.com/static/51cdd10de4b08819bd7bc9b4/525d89c2e4b0f8245cabfc96/53cfd660e4b089801fe7e3d9/1458152617516/SciSource_BK0929.jpg?format=750w\n",
      "https://static1.squarespace.com/static/51cdd10de4b08819bd7bc9b4/525d89c2e4b0f8245cabfc96/53cfd28be4b0c47638e2f540/1458152692173/SciSource_BN4337.jpg?format=750w\n",
      "https://static1.squarespace.com/static/51cdd10de4b08819bd7bc9b4/525d89c2e4b0f8245cabfc96/53cfd532e4b0141d9ac95e95/1458152729573/SciSource_BK0945.jpg?format=750w\n",
      "https://static1.squarespace.com/static/51cdd10de4b08819bd7bc9b4/525d89c2e4b0f8245cabfc96/5400dbd4e4b0fc8cd2ef213e/1458152745999/SciSource_BU1440.jpg?format=750w\n"
     ]
    }
   ],
   "source": [
    "X_train_data = np.random.random((6,1, img_rows, img_cols))\n",
    "Y_train_data = np.random.random((6,1, img_rows, img_cols))\n",
    "\n",
    "with open(\"../../Environment/Informations/Category/Portraits/trainImages/images.txt\") as f:\n",
    "    infoFileContents = f.readlines()\n",
    "    for l in range(len(infoFileContents)):\n",
    "        infoLine = infoFileContents[l].lstrip().rstrip()\n",
    "        \n",
    "        print (infoLine)\n",
    "        response = requests.get(infoLine)\n",
    "        trainInpImg = Image.open(BytesIO(response.content))\n",
    "        trainInpGrayImg = trainInpImg.convert(\"L\")\n",
    "        trainInpGrayImg = trainInpGrayImg.resize((img_rows,img_cols), PIL.Image.ANTIALIAS)\n",
    "        trainInpGreyImgArray = np.asarray(trainInpGrayImg, dtype=np.float32)\n",
    "        Y_train_data[l,0,:,:] = trainInpGreyImgArray\n",
    "        \n",
    "        trainInpEdgeImg = trainInpImg.convert(\"L\")\n",
    "        trainInpEdgeImg = trainInpEdgeImg.resize((img_rows,img_cols), PIL.Image.ANTIALIAS)\n",
    "        trainInpEdgeImg = trainInpEdgeImg.filter(ImageFilter.FIND_EDGES)\n",
    "\n",
    "        trainInpEdgeImgArray = np.asarray(trainInpEdgeImg, dtype=np.float32)\n",
    "        X_train_data[l,0,:,:] = trainInpEdgeImgArray\n",
    "\n",
    "X_test_data = np.random.random((2,1, img_rows, img_cols))\n",
    "Y_test_data = np.random.random((2,1, img_rows, img_cols))        \n",
    "\n",
    "with open(\"../../Environment/Informations/Category/Portraits/testImages/images.txt\") as f:\n",
    "    infoFileContents = f.readlines()\n",
    "    for l in range(len(infoFileContents)):\n",
    "        infoLine = infoFileContents[l].lstrip().rstrip()\n",
    "        \n",
    "        print (infoLine)\n",
    "        response = requests.get(infoLine)\n",
    "        trainInpImg = Image.open(BytesIO(response.content))\n",
    "        trainInpGrayImg = trainInpImg.convert(\"L\")\n",
    "        trainInpGrayImg = trainInpGrayImg.resize((img_rows,img_cols), PIL.Image.ANTIALIAS)\n",
    "        trainInpGreyImgArray = np.asarray(trainInpGrayImg, dtype=np.float32)\n",
    "        Y_test_data[l,0,:,:] = trainInpGreyImgArray\n",
    "        \n",
    "        trainInpEdgeImg = trainInpImg.convert(\"L\")\n",
    "        trainInpEdgeImg = trainInpEdgeImg.resize((img_rows,img_cols), PIL.Image.ANTIALIAS)\n",
    "        trainInpEdgeImg = trainInpEdgeImg.filter(ImageFilter.FIND_EDGES)\n",
    "        trainInpEdgeImgArray = np.asarray(trainInpEdgeImg, dtype=np.float32)\n",
    "        X_test_data[l,0,:,:] = trainInpEdgeImgArray\n",
    "        "
   ]
  },
  {
   "cell_type": "code",
   "execution_count": 4,
   "metadata": {
    "collapsed": false
   },
   "outputs": [
    {
     "name": "stdout",
     "output_type": "stream",
     "text": [
      "X_train shape: (6L, 1L, 100L, 100L)\n",
      "6 train samples\n",
      "Y_train shape: (6L, 1L, 100L, 100L)\n",
      "6 train samples\n"
     ]
    }
   ],
   "source": [
    "X_train_data = X_train_data.astype('float32')\n",
    "X_train_data /= 255\n",
    "print('X_train shape:', X_train_data.shape)\n",
    "print(X_train_data.shape[0], 'train samples')\n",
    "Y_train_data = Y_train_data.astype('float32')\n",
    "Y_train_data /= 255\n",
    "print('Y_train shape:', Y_train_data.shape)\n",
    "print(Y_train_data.shape[0], 'train samples')"
   ]
  },
  {
   "cell_type": "code",
   "execution_count": 5,
   "metadata": {
    "collapsed": false
   },
   "outputs": [],
   "source": [
    "if K.image_dim_ordering() == 'th':\n",
    "    input_shape = (1, img_rows, img_cols)\n",
    "else:\n",
    "    input_shape = (img_rows, img_cols, 1)"
   ]
  },
  {
   "cell_type": "code",
   "execution_count": 6,
   "metadata": {
    "collapsed": false
   },
   "outputs": [],
   "source": [
    "model = Sequential()\n",
    "\n",
    "model.add(Convolution2D(nb_filters*100, kernel_size[0], kernel_size[1],\n",
    "                        border_mode='same',\n",
    "                        input_shape=input_shape))\n",
    "model.add(Activation('relu'))\n",
    "model.add(Dropout(0.3))\n",
    "model.add(Convolution2D(nb_filters*100, kernel_size[0], kernel_size[1],\n",
    "                         border_mode='same',\n",
    "                         input_shape=input_shape))\n",
    "model.add(Activation('relu'))\n",
    "model.add(BatchNormalization())\n",
    "model.add(Dropout(0.3))\n",
    "model.add(Convolution2D(nb_filters*100, kernel_size[0], kernel_size[1],\n",
    "                         border_mode='same',\n",
    "                         input_shape=input_shape))\n",
    "model.add(Activation('relu'))\n",
    "model.add(BatchNormalization())\n",
    "model.add(Dropout(0.3))\n",
    "model.add(Convolution2D(nb_filters*100, kernel_size[0], kernel_size[1],\n",
    "                         border_mode='same',\n",
    "                         input_shape=input_shape))\n",
    "model.add(Activation('relu'))\n",
    "model.add(BatchNormalization())\n",
    "model.add(Dropout(0.3))\n",
    "model.add(Convolution2D(nb_filters, kernel_size[0], kernel_size[1],\n",
    "                         border_mode='same',\n",
    "                         input_shape=input_shape))\n",
    "model.add(Activation('relu'))"
   ]
  },
  {
   "cell_type": "code",
   "execution_count": 7,
   "metadata": {
    "collapsed": true
   },
   "outputs": [],
   "source": [
    "model.compile(loss='binary_crossentropy',\n",
    "              optimizer='adadelta')"
   ]
  },
  {
   "cell_type": "code",
   "execution_count": 8,
   "metadata": {
    "collapsed": false
   },
   "outputs": [
    {
     "name": "stdout",
     "output_type": "stream",
     "text": [
      "Train on 6 samples, validate on 2 samples\n",
      "Epoch 1/50\n",
      "6/6 [==============================] - 5s - loss: 3.1629 - val_loss: 1807.2064\n",
      "Epoch 2/50\n",
      "6/6 [==============================] - 5s - loss: 2.8614 - val_loss: 2035.8955\n",
      "Epoch 3/50\n",
      "6/6 [==============================] - 5s - loss: 2.8410 - val_loss: 2624.9983\n",
      "Epoch 4/50\n",
      "6/6 [==============================] - 5s - loss: 2.8315 - val_loss: 2659.1416\n",
      "Epoch 5/50\n",
      "6/6 [==============================] - 5s - loss: 2.8206 - val_loss: 2790.5073\n",
      "Epoch 6/50\n",
      "6/6 [==============================] - 5s - loss: 2.7742 - val_loss: 2798.9697\n",
      "Epoch 7/50\n",
      "6/6 [==============================] - 5s - loss: 2.8276 - val_loss: 2766.2930\n",
      "Epoch 8/50\n",
      "6/6 [==============================] - 5s - loss: 2.7293 - val_loss: 2728.2666\n",
      "Epoch 9/50\n",
      "6/6 [==============================] - 6s - loss: 2.7454 - val_loss: 2655.0225\n",
      "Epoch 10/50\n",
      "6/6 [==============================] - 5s - loss: 2.6753 - val_loss: 2655.7734\n",
      "Epoch 11/50\n",
      "6/6 [==============================] - 5s - loss: 2.6601 - val_loss: 2800.6162\n",
      "Epoch 12/50\n",
      "6/6 [==============================] - 5s - loss: 3.6137 - val_loss: 2660.6328\n",
      "Epoch 13/50\n",
      "6/6 [==============================] - 5s - loss: 2.7834 - val_loss: 2718.8757\n",
      "Epoch 14/50\n",
      "6/6 [==============================] - 6s - loss: 2.7875 - val_loss: 2662.5171\n",
      "Epoch 15/50\n",
      "6/6 [==============================] - 6s - loss: 2.7783 - val_loss: 2663.4956\n",
      "Epoch 16/50\n",
      "6/6 [==============================] - 5s - loss: 2.6546 - val_loss: 2553.0942\n",
      "Epoch 17/50\n",
      "6/6 [==============================] - 5s - loss: 2.6291 - val_loss: -1264.9209\n",
      "Epoch 18/50\n",
      "6/6 [==============================] - 6s - loss: 2.9158 - val_loss: -1162.2283\n",
      "Epoch 19/50\n",
      "6/6 [==============================] - 6s - loss: 2.9388 - val_loss: 134.0144\n",
      "Epoch 20/50\n",
      "6/6 [==============================] - 5s - loss: 2.7157 - val_loss: 372.6260\n",
      "Epoch 21/50\n",
      "6/6 [==============================] - 6s - loss: 2.7089 - val_loss: 2603.1128\n",
      "Epoch 22/50\n",
      "6/6 [==============================] - 5s - loss: 2.6009 - val_loss: 2634.7593\n",
      "Epoch 23/50\n",
      "6/6 [==============================] - 5s - loss: 2.5953 - val_loss: 2651.6296\n",
      "Epoch 24/50\n",
      "6/6 [==============================] - 5s - loss: 2.5539 - val_loss: 2630.8965\n",
      "Epoch 25/50\n",
      "6/6 [==============================] - 6s - loss: 2.5260 - val_loss: 2624.3735\n",
      "Epoch 26/50\n",
      "6/6 [==============================] - 6s - loss: 2.4989 - val_loss: 2620.3110\n",
      "Epoch 27/50\n",
      "6/6 [==============================] - 7s - loss: 2.5038 - val_loss: 2638.7380\n",
      "Epoch 28/50\n",
      "6/6 [==============================] - 6s - loss: 2.5143 - val_loss: 2643.5767\n",
      "Epoch 29/50\n",
      "6/6 [==============================] - 6s - loss: 2.4526 - val_loss: 2652.6289\n",
      "Epoch 30/50\n",
      "6/6 [==============================] - 6s - loss: 2.4283 - val_loss: 2683.6338\n",
      "Epoch 31/50\n",
      "6/6 [==============================] - 6s - loss: 2.4455 - val_loss: 2781.1230\n",
      "Epoch 32/50\n",
      "6/6 [==============================] - 6s - loss: 2.5691 - val_loss: 2777.3652\n",
      "Epoch 33/50\n",
      "6/6 [==============================] - 6s - loss: 2.5228 - val_loss: 2780.4380\n",
      "Epoch 34/50\n",
      "6/6 [==============================] - 6s - loss: 2.5512 - val_loss: 2770.2056\n",
      "Epoch 35/50\n",
      "6/6 [==============================] - 6s - loss: 2.4580 - val_loss: 2761.8169\n",
      "Epoch 36/50\n",
      "6/6 [==============================] - 6s - loss: 2.4176 - val_loss: 2756.5139\n",
      "Epoch 37/50\n",
      "6/6 [==============================] - 6s - loss: 2.4156 - val_loss: 2751.3940\n",
      "Epoch 38/50\n",
      "6/6 [==============================] - 7s - loss: 2.4026 - val_loss: 2757.0872\n",
      "Epoch 39/50\n",
      "6/6 [==============================] - 6s - loss: 2.3988 - val_loss: 2754.2593\n",
      "Epoch 40/50\n",
      "6/6 [==============================] - 6s - loss: 2.3917 - val_loss: 2757.1392\n",
      "Epoch 41/50\n",
      "6/6 [==============================] - 6s - loss: 2.3805 - val_loss: 2745.2847\n",
      "Epoch 42/50\n",
      "6/6 [==============================] - 6s - loss: 2.3781 - val_loss: 2758.5930\n",
      "Epoch 43/50\n",
      "6/6 [==============================] - 5s - loss: 2.3787 - val_loss: 2757.8286\n",
      "Epoch 44/50\n",
      "6/6 [==============================] - 6s - loss: 2.3557 - val_loss: 2758.9780\n",
      "Epoch 45/50\n",
      "6/6 [==============================] - 6s - loss: 2.3607 - val_loss: 2573.1836\n",
      "Epoch 46/50\n",
      "6/6 [==============================] - 5s - loss: 2.3178 - val_loss: 1983.5659\n",
      "Epoch 47/50\n",
      "6/6 [==============================] - 5s - loss: 2.3411 - val_loss: 1974.3682\n",
      "Epoch 48/50\n",
      "6/6 [==============================] - 5s - loss: 2.2926 - val_loss: 2278.0483\n",
      "Epoch 49/50\n",
      "6/6 [==============================] - 6s - loss: 2.2866 - val_loss: -69.0839\n",
      "Epoch 50/50\n",
      "6/6 [==============================] - 6s - loss: 2.4212 - val_loss: 389.6051\n"
     ]
    },
    {
     "data": {
      "text/plain": [
       "<keras.callbacks.History at 0x13d98668>"
      ]
     },
     "execution_count": 8,
     "metadata": {},
     "output_type": "execute_result"
    }
   ],
   "source": [
    "model.fit(X_train_data, Y_train_data, batch_size=batch_size, nb_epoch=nb_epoch,\n",
    "          verbose=1, validation_data=(X_test_data, Y_test_data))"
   ]
  },
  {
   "cell_type": "code",
   "execution_count": 9,
   "metadata": {
    "collapsed": false
   },
   "outputs": [
    {
     "name": "stdout",
     "output_type": "stream",
     "text": [
      "Test score: 0.519426822662\n",
      "Test accuracy: 0.519426822662\n"
     ]
    }
   ],
   "source": [
    "score = model.evaluate(X_train_data, Y_train_data, verbose=0)\n",
    "print('Test score:', score)\n",
    "print('Test accuracy:', score)"
   ]
  },
  {
   "cell_type": "code",
   "execution_count": 10,
   "metadata": {
    "collapsed": true
   },
   "outputs": [],
   "source": [
    "pred_data = model.predict(X_test_data)"
   ]
  },
  {
   "cell_type": "code",
   "execution_count": 11,
   "metadata": {
    "collapsed": false
   },
   "outputs": [
    {
     "data": {
      "image/png": "[encoded data removed]",
      "text/plain": [
       "<matplotlib.figure.Figure at 0x13d98a58>"
      ]
     },
     "metadata": {},
     "output_type": "display_data"
    },
    {
     "data": {
      "image/png": "[encoded data removed]",
      "text/plain": [
       "<matplotlib.figure.Figure at 0xc4dfcc0>"
      ]
     },
     "metadata": {},
     "output_type": "display_data"
    }
   ],
   "source": [
    "#plot_image = np.concatenate((X_train_data[0][0]*255, Y_train_data[0][0]*255), axis=1)\n",
    "plt.imshow(X_test_data[0][0]*255, cmap = cm.Greys_r)\n",
    "plt.show()\n",
    "plt.imshow(pred_data[0][0]*255, cmap = cm.Greys_r)\n",
    "plt.show()"
   ]
  },
  {
   "cell_type": "code",
   "execution_count": 12,
   "metadata": {
    "collapsed": false
   },
   "outputs": [
    {
     "data": {
      "image/png": "[encoded data removed]",
      "text/plain": [
       "<PIL.Image.Image image mode=L size=100x100 at 0xCC8A828>"
      ]
     },
     "execution_count": 12,
     "metadata": {},
     "output_type": "execute_result"
    }
   ],
   "source": [
    "trainInpGrayImg"
   ]
  },
  {
   "cell_type": "code",
   "execution_count": 13,
   "metadata": {
    "collapsed": false
   },
   "outputs": [
    {
     "data": {
      "image/png": "[encoded data removed]",
      "text/plain": [
       "<PIL.Image.Image image mode=L size=100x100 at 0xCA4CA90>"
      ]
     },
     "execution_count": 13,
     "metadata": {},
     "output_type": "execute_result"
    }
   ],
   "source": [
    "trainInpEdgeImg"
   ]
  },
  {
   "cell_type": "code",
   "execution_count": 14,
   "metadata": {
    "collapsed": false
   },
   "outputs": [
    {
     "data": {
      "image/png": "[encoded data removed]",
      "text/plain": [
       "<PIL.Image.Image image mode=L size=100x100 at 0x2E46D358>"
      ]
     },
     "execution_count": 14,
     "metadata": {},
     "output_type": "execute_result"
    }
   ],
   "source": [
    "prdImg = Image.fromarray(pred_data[0][0], 'L')\n",
    "prdImg"
   ]
  },
  {
   "cell_type": "code",
   "execution_count": null,
   "metadata": {
    "collapsed": true
   },
   "outputs": [],
   "source": []
  }
 ],
 "metadata": {
  "kernelspec": {
   "display_name": "Python 2",
   "language": "python",
   "name": "python2"
  },
  "language_info": {
   "codemirror_mode": {
    "name": "ipython",
    "version": 2
   },
   "file_extension": ".py",
   "mimetype": "text/x-python",
   "name": "python",
   "nbconvert_exporter": "python",
   "pygments_lexer": "ipython2",
   "version": "2.7.13"
  }
 },
 "nbformat": 4,
 "nbformat_minor": 2
}
