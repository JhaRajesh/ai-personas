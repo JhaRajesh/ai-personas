{
 "cells": [
  {
   "cell_type": "code",
   "execution_count": 2,
   "metadata": {
    "collapsed": false
   },
   "outputs": [
    {
     "name": "stderr",
     "output_type": "stream",
     "text": [
      "Using Theano backend.\n"
     ]
    }
   ],
   "source": [
    "import os\n",
    "os.environ[\"KERAS_BACKEND\"] = \"theano\"\n",
    "\n",
    "import imp\n",
    "import logging\n",
    "from __future__ import print_function\n",
    "import numpy as np\n",
    "\n",
    "from keras.datasets import mnist\n",
    "from keras.models import Sequential\n",
    "from keras.layers import Dense, Dropout, Activation, Flatten\n",
    "from keras.layers import Convolution2D, MaxPooling2D\n",
    "from keras.layers.normalization import BatchNormalization\n",
    "from keras.utils import np_utils\n",
    "from keras import backend as K\n",
    "import numpy as np\n",
    "import matplotlib.pyplot as plt\n",
    "import matplotlib.cm as cm\n",
    "\n",
    "import PIL\n",
    "from PIL import Image, ImageFilter\n",
    "import requests\n",
    "from io import BytesIO\n",
    "\n",
    "#------------- Logging configuration ------------------#\n",
    "logging.basicConfig()\n",
    "logger = logging.getLogger('Extractor')\n",
    "logger.setLevel(logging.DEBUG)\n",
    "#------------------------------------------------------#"
   ]
  },
  {
   "cell_type": "code",
   "execution_count": 3,
   "metadata": {
    "collapsed": false
   },
   "outputs": [
    {
     "ename": "TypeError",
     "evalue": "testExtractor() takes exactly 4 arguments (3 given)",
     "output_type": "error",
     "traceback": [
      "\u001b[0;31m---------------------------------------------------------------------------\u001b[0m",
      "\u001b[0;31mTypeError\u001b[0m                                 Traceback (most recent call last)",
      "\u001b[0;32m<ipython-input-3-bfb6f500d6ff>\u001b[0m in \u001b[0;36m<module>\u001b[0;34m()\u001b[0m\n\u001b[1;32m     71\u001b[0m \u001b[1;33m\u001b[0m\u001b[0m\n\u001b[1;32m     72\u001b[0m \u001b[0mtst\u001b[0m \u001b[1;33m=\u001b[0m \u001b[0mTest\u001b[0m\u001b[1;33m(\u001b[0m\u001b[1;33m)\u001b[0m\u001b[1;33m\u001b[0m\u001b[0m\n\u001b[0;32m---> 73\u001b[0;31m \u001b[0mtst\u001b[0m\u001b[1;33m.\u001b[0m\u001b[0mtestExtractor\u001b[0m\u001b[1;33m(\u001b[0m\u001b[0mPERSONA_BLUEPRINT\u001b[0m\u001b[1;33m,\u001b[0m \u001b[0mPERSONA_DEF\u001b[0m\u001b[1;33m)\u001b[0m\u001b[1;33m\u001b[0m\u001b[0m\n\u001b[0m",
      "\u001b[0;31mTypeError\u001b[0m: testExtractor() takes exactly 4 arguments (3 given)"
     ]
    }
   ],
   "source": [
    "INSTALLATION_PATH = \"C:\\\\Users\\\\rames\\\\Documents\\\\GitHub\\\\ai-personas\\\\\"\n",
    "PYTHON_EXTENSION = \".py\"\n",
    "PROTO_PYTHON_EXTENSION = \"_pb2.py\"\n",
    "PROTO_DEF_EXTENSION = \".bin\"\n",
    "PERSONA_VERSION = \"0_1\"\n",
    "EXTRACTOR_MODULE = \"../../Environment/Informations/Process/Extract/Extractor.py\"\n",
    "INFORMATION_BLUEPRINT = \"../../Environment/Informations/informationBlueprint\" + PROTO_PYTHON_EXTENSION\n",
    "\n",
    "PERSONA_NAME_QUALIFIER = \"PersonaDefinition\"\n",
    "PERSONA_BLUEPRINT = \"../../Personas/personaBlueprint/version_1/personBlueprint\" + PROTO_PYTHON_EXTENSION\n",
    "PERSONA_NAME = \"Khandhasamy\" + PERSONA_NAME_QUALIFIER + PROTO_DEF_EXTENSION\n",
    "PERSONA_DEF = \"../../Personas/Artist/Portraits/sketchToGreyImage/Khandhasamy/Evolution_1/age_1/\" + PERSONA_NAME\n",
    "\n",
    "class KerasPhysical(object):\n",
    "    \n",
    "    def __init__(self):\n",
    "        return \n",
    "        \n",
    "    def getPersonaBlueprint(self, personaBlueprintPath): \n",
    "        #persona blueprint path\n",
    "        persona_blueprint_path = os.path.abspath(os.path.join(personaBlueprintPath))\n",
    "        logger.debug(\"Persona blueprint path: \" + persona_blueprint_path)\n",
    "        #persona blueprint\n",
    "        personaBlueprint = imp.load_source('Persona', persona_blueprint_path).Persona() \n",
    "        return personaBlueprint\n",
    "    \n",
    "    def loadPersona(self, personaBlueprintPath, personaDefPath):\n",
    "        # persona blueprint\n",
    "        persona = self.getPersonaBlueprint(personaBlueprintPath)\n",
    "        #load persona\n",
    "        persona_path = os.path.abspath(os.path.join(personaDefPath))\n",
    "        logger.debug(\"Persona definition path:\" + persona_path)\n",
    "        f = open(personaDefPath, \"rb\")\n",
    "        persona.ParseFromString(f.read())\n",
    "        f.close()        \n",
    "        return persona   \n",
    "    \n",
    "    def getInformationBlueprint(self, version):\n",
    "        logger.debug(\"get information blueprint path\")\n",
    "        information_blueprint_path = os.path.abspath(os.path.join(INFORMATION_BLUEPRINT))\n",
    "        logger.debug(\"information blue print path: \" + information_blueprint_path)\n",
    "        logger.debug(\"import information blueprint\")\n",
    "        informationBlueprint = imp.load_source('Information', information_blueprint_path).Information()\n",
    "        return informationBlueprint\n",
    "    \n",
    "    def loadInformationDefinition(self, version, sourceName):\n",
    "        logger.debug(\"get source path\")\n",
    "        source_path = os.path.abspath(os.path.join(sourceName))\n",
    "        logger.debug(\"source path: \" + source_path)\n",
    "        f = open(source_path, \"rb\")\n",
    "        information = self.getInformationBlueprint(version)\n",
    "        information.ParseFromString(f.read())\n",
    "        f.close()\n",
    "        return information    \n",
    "    \n",
    "    def loadExtractor(self, version, source):\n",
    "        logger.debug(\"get extractor path\")\n",
    "        extractor_path = os.path.abspath(os.path.join(EXTRACTOR_MODULE))\n",
    "        logger.debug(\"extractor path: \" + extractor_path)\n",
    "        logger.debug(\"import extractor\")\n",
    "        extractor = imp.load_source('Extractor', extractor_path).Extractor(INFORMATION_BLUEPRINT, source.sourceName)\n",
    "        return extractor\n",
    "    \n",
    "    def getExtractedData(self, version, source):\n",
    "        information = self.loadInformationDefinition(informationBlueprintPath, source.sourceName)\n",
    "        return\n",
    "\n",
    "class Test(object):\n",
    "    \n",
    "    \n",
    "    def __init__(self):\n",
    "        return \n",
    "    \n",
    "    def testExtractor(self, personaBlueprintPath, personaDefPath, informationBlueprintPath):\n",
    "        kerasPhysical = KerasPhysical()\n",
    "        persona = kerasPhysical.loadPersona(personaBlueprintPath, personaDefPath)   \n",
    "        for environment in persona.age.environments:\n",
    "            for source in environment.library.sources:\n",
    "                kerasPhysical.getExtractor(source)\n",
    "        return\n",
    "    \n",
    "tst = Test()\n",
    "tst.testExtractor(PERSONA_BLUEPRINT, PERSONA_DEF)"
   ]
  },
  {
   "cell_type": "code",
   "execution_count": null,
   "metadata": {
    "collapsed": true
   },
   "outputs": [],
   "source": []
  }
 ],
 "metadata": {
  "kernelspec": {
   "display_name": "Python 2",
   "language": "python",
   "name": "python2"
  },
  "language_info": {
   "codemirror_mode": {
    "name": "ipython",
    "version": 2
   },
   "file_extension": ".py",
   "mimetype": "text/x-python",
   "name": "python",
   "nbconvert_exporter": "python",
   "pygments_lexer": "ipython2",
   "version": "2.7.13"
  }
 },
 "nbformat": 4,
 "nbformat_minor": 2
}
