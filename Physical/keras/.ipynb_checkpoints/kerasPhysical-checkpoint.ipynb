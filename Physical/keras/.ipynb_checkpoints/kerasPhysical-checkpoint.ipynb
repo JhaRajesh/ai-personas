{
 "cells": [
  {
   "cell_type": "code",
   "execution_count": 6,
   "metadata": {
    "collapsed": false
   },
   "outputs": [],
   "source": [
    "import os\n",
    "os.environ[\"KERAS_BACKEND\"] = \"theano\"\n",
    "\n",
    "import imp\n",
    "import logging\n",
    "from __future__ import print_function\n",
    "import numpy as np\n",
    "\n",
    "from keras.datasets import mnist\n",
    "from keras.models import Sequential\n",
    "from keras.layers import Dense, Dropout, Activation, Flatten\n",
    "from keras.layers import Convolution2D, MaxPooling2D\n",
    "from keras.layers.normalization import BatchNormalization\n",
    "from keras.utils import np_utils\n",
    "from keras import backend as K\n",
    "import numpy as np\n",
    "import matplotlib.pyplot as plt\n",
    "import matplotlib.cm as cm\n",
    "\n",
    "import PIL\n",
    "from PIL import Image, ImageFilter\n",
    "import requests\n",
    "from io import BytesIO\n",
    "\n",
    "#------------- Logging configuration ------------------#\n",
    "logging.basicConfig()\n",
    "logger = logging.getLogger('Extractor')\n",
    "logger.setLevel(logging.DEBUG)\n",
    "#------------------------------------------------------#"
   ]
  },
  {
   "cell_type": "code",
   "execution_count": 9,
   "metadata": {
    "collapsed": false
   },
   "outputs": [
    {
     "name": "stderr",
     "output_type": "stream",
     "text": [
      "DEBUG:Extractor:Persona blueprint path: C:\\Users\\rames\\Documents\\GitHub\\ai-personas\\Personas\\personaBlueprint\\version_1\\personBlueprint_pb2.py\n",
      "DEBUG:Extractor:Persona definition path:C:\\Users\\rames\\Documents\\GitHub\\ai-personas\\Personas\\Artist\\Portraits\\sketchToGreyImage\\Khandhasamy\\Evolution_1\\age_1\\KhandhasamyPersonaDefinition.bin\n"
     ]
    }
   ],
   "source": [
    "INSTALLATION_PATH = \"C:\\\\Users\\\\rames\\\\Documents\\\\GitHub\\\\ai-personas\\\\\"\n",
    "PYTHON_EXTENSION = \".py\"\n",
    "PROTO_PYTHON_EXTENSION = \"_pb2.py\"\n",
    "PROTO_DEF_EXTENSION = \".bin\"\n",
    "INFORMATION_BLUEPRINT = \"../../Environment/Informations/informationBlueprint\" + PROTO_PYTHON_EXTENSION\n",
    "\n",
    "PERSONA_NAME_QUALIFIER = \"PersonaDefinition\"\n",
    "PERSONA_BLUEPRINT = \"../../Personas/personaBlueprint/version_1/personBlueprint\" + PROTO_PYTHON_EXTENSION\n",
    "PERSONA_NAME = \"Khandhasamy\" + PERSONA_NAME_QUALIFIER + PROTO_DEF_EXTENSION\n",
    "PERSONA_DEF = \"../../Personas/Artist/Portraits/sketchToGreyImage/Khandhasamy/Evolution_1/age_1/\" + PERSONA_NAME\n",
    "\n",
    "class KerasPhysical(object):\n",
    "    \n",
    "    def __init__(self):\n",
    "        return \n",
    "        \n",
    "    def getPersonaBlueprint(self, personaBlueprintPath): \n",
    "        #persona blueprint path\n",
    "        persona_blueprint_path = os.path.abspath(os.path.join(personaBlueprintPath))\n",
    "        logger.debug(\"Persona blueprint path: \" + persona_blueprint_path)\n",
    "        #persona blueprint\n",
    "        personaBlueprint = imp.load_source('Persona', persona_blueprint_path).Persona() \n",
    "        return personaBlueprint\n",
    "    \n",
    "    def loadPersona(self, personaBlueprintPath, personaDefPath):\n",
    "        # persona blueprint\n",
    "        persona = self.getPersonaBlueprint(personaBlueprintPath)\n",
    "        #load persona\n",
    "        persona_path = os.path.abspath(os.path.join(personaDefPath))\n",
    "        logger.debug(\"Persona definition path:\" + persona_path)\n",
    "        f = open(personaDefPath, \"rb\")\n",
    "        persona.ParseFromString(f.read())\n",
    "        f.close()        \n",
    "        return persona   \n",
    "    \n",
    "    def getInformationBlueprint(self, informationBlueprintPath):\n",
    "        logger.debug(\"get information blueprint path\")\n",
    "        information_blueprint_path = os.path.abspath(os.path.join(informationBlueprintPath))\n",
    "        logger.debug(\"information blue print path: \" + information_blueprint_path)\n",
    "        logger.debug(\"import information blueprint\")\n",
    "        informationBlueprint = imp.load_source('Information', information_blueprint_path).Information()\n",
    "        return informationBlueprint\n",
    "    \n",
    "    def loadInformationDefinition(self, informationBlueprintPath, sourceName):\n",
    "        logger.debug(\"get source path\")\n",
    "        source_path = os.path.abspath(os.path.join(sourceName))\n",
    "        logger.debug(\"source path: \" + source_path)\n",
    "        f = open(source_path, \"rb\")\n",
    "        information = self.getInformationBlueprint(informationBlueprintPath)\n",
    "        information.ParseFromString(f.read())\n",
    "        f.close()\n",
    "        return information    \n",
    "    \n",
    "    def getExtractor(self, informationBlueprint, source):\n",
    "        \n",
    "        return\n",
    "\n",
    "class Test(object):\n",
    "    \n",
    "    \n",
    "    def __init__(self):\n",
    "        return \n",
    "    \n",
    "    def testExtractor(self, personaBlueprintPath, personaDefPath, informationBlueprintPath):\n",
    "        kerasPhysical = KerasPhysical()\n",
    "        persona = kerasPhysical.loadPersona(personaBlueprintPath, personaDefPath)   \n",
    "        for environment in persona.age.environments:\n",
    "            for source in environment.library.sources:\n",
    "                kerasPhysical.getExtractor(source)\n",
    "        return\n",
    "    \n",
    "tst = Test()\n",
    "tst.testExtractor(PERSONA_BLUEPRINT, PERSONA_DEF)"
   ]
  },
  {
   "cell_type": "code",
   "execution_count": null,
   "metadata": {
    "collapsed": true
   },
   "outputs": [],
   "source": []
  }
 ],
 "metadata": {
  "kernelspec": {
   "display_name": "Python 2",
   "language": "python",
   "name": "python2"
  },
  "language_info": {
   "codemirror_mode": {
    "name": "ipython",
    "version": 2
   },
   "file_extension": ".py",
   "mimetype": "text/x-python",
   "name": "python",
   "nbconvert_exporter": "python",
   "pygments_lexer": "ipython2",
   "version": "2.7.13"
  }
 },
 "nbformat": 4,
 "nbformat_minor": 2
}
