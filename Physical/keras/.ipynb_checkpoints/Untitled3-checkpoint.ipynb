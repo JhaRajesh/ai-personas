{
 "cells": [
  {
   "cell_type": "code",
   "execution_count": 1,
   "metadata": {
    "collapsed": false
   },
   "outputs": [
    {
     "name": "stderr",
     "output_type": "stream",
     "text": [
      "Using Theano backend.\n"
     ]
    }
   ],
   "source": [
    "import os\n",
    "os.environ[\"KERAS_BACKEND\"] = \"theano\"\n",
    "\n",
    "from __future__ import print_function\n",
    "import numpy as np\n",
    "np.random.seed(1337)  # for reproducibility\n",
    "\n",
    "from keras.datasets import mnist\n",
    "from keras.models import Sequential\n",
    "from keras.layers import Dense, Dropout, Activation, Flatten\n",
    "from keras.layers import Convolution2D, MaxPooling2D\n",
    "from keras.utils import np_utils\n",
    "from keras import backend as K\n",
    "import numpy as np\n",
    "import matplotlib.pyplot as plt\n",
    "import matplotlib.cm as cm\n",
    "\n",
    "import PIL\n",
    "from PIL import Image, ImageFilter\n",
    "import requests\n",
    "from io import BytesIO"
   ]
  },
  {
   "cell_type": "code",
   "execution_count": 2,
   "metadata": {
    "collapsed": true
   },
   "outputs": [],
   "source": [
    "batch_size = 128\n",
    "nb_classes = 10\n",
    "nb_epoch = 1000\n",
    "\n",
    "# input image dimensions\n",
    "img_rows, img_cols = 100, 100\n",
    "# number of convolutional filters to use\n",
    "nb_filters = 1\n",
    "# size of pooling area for max pooling\n",
    "pool_size = (2, 2)\n",
    "# convolution kernel size\n",
    "kernel_size = (2, 2)"
   ]
  },
  {
   "cell_type": "code",
   "execution_count": 3,
   "metadata": {
    "collapsed": false
   },
   "outputs": [],
   "source": [
    "X_train_data = np.random.random((6,1, img_rows, img_cols))\n",
    "Y_train_data = np.random.random((6,1, img_rows, img_cols))\n",
    "\n",
    "with open(\"../../Environment/Informations/Content/Portraits/trainImages/images.txt\") as f:\n",
    "    infoFileContents = f.readlines()\n",
    "    for l in range(len(infoFileContents)):\n",
    "        infoLine = infoFileContents[l].lstrip().rstrip()\n",
    "            \n",
    "        response = requests.get(infoLine)\n",
    "        trainInpImg = Image.open(BytesIO(response.content))\n",
    "        trainInpGrayImg = trainInpImg.convert(\"L\")\n",
    "        trainInpGrayImg = trainInpGrayImg.resize((100,100), PIL.Image.ANTIALIAS)\n",
    "        trainInpGreyImgArray = np.asarray(trainInpGrayImg, dtype=np.float32)\n",
    "        Y_train_data[l,0,:,:] = trainInpGreyImgArray\n",
    "        \n",
    "        trainInpEdgeImg = trainInpImg.convert(\"L\")\n",
    "        trainInpEdgeImg = trainInpEdgeImg.resize((100,100), PIL.Image.ANTIALIAS)\n",
    "        trainInpEdgeImg = trainInpEdgeImg.filter(ImageFilter.FIND_EDGES)\n",
    "\n",
    "        trainInpEdgeImgArray = np.asarray(trainInpEdgeImg, dtype=np.float32)\n",
    "        X_train_data[l,0,:,:] = trainInpEdgeImgArray\n",
    "\n",
    "X_test_data = np.random.random((2,1, img_rows, img_cols))\n",
    "Y_test_data = np.random.random((2,1, img_rows, img_cols))        \n",
    "\n",
    "with open(\"../../Environment/Informations/Content/Portraits/testImages/images.txt\") as f:\n",
    "    infoFileContents = f.readlines()\n",
    "    for l in range(len(infoFileContents)):\n",
    "        infoLine = infoFileContents[l].lstrip().rstrip()\n",
    "            \n",
    "        response = requests.get(infoLine)\n",
    "        trainInpImg = Image.open(BytesIO(response.content))\n",
    "        trainInpGrayImg = trainInpImg.convert(\"L\")\n",
    "        trainInpGrayImg = trainInpGrayImg.resize((100,100), PIL.Image.ANTIALIAS)\n",
    "        trainInpGreyImgArray = np.asarray(trainInpGrayImg, dtype=np.float32)\n",
    "        Y_test_data[l,0,:,:] = trainInpGreyImgArray\n",
    "        \n",
    "        trainInpEdgeImg = trainInpImg.convert(\"L\")\n",
    "        trainInpEdgeImg = trainInpEdgeImg.resize((100,100), PIL.Image.ANTIALIAS)\n",
    "        trainInpEdgeImg = trainInpEdgeImg.filter(ImageFilter.FIND_EDGES)\n",
    "        trainInpEdgeImgArray = np.asarray(trainInpEdgeImg, dtype=np.float32)\n",
    "        X_test_data[l,0,:,:] = trainInpEdgeImgArray\n",
    "        "
   ]
  },
  {
   "cell_type": "code",
   "execution_count": 4,
   "metadata": {
    "collapsed": false
   },
   "outputs": [
    {
     "name": "stdout",
     "output_type": "stream",
     "text": [
      "X_train shape: (6L, 1L, 100L, 100L)\n",
      "6 train samples\n",
      "Y_train shape: (6L, 1L, 100L, 100L)\n",
      "6 train samples\n"
     ]
    }
   ],
   "source": [
    "X_train_data = X_train_data.astype('float32')\n",
    "X_train_data /= 255\n",
    "print('X_train shape:', X_train_data.shape)\n",
    "print(X_train_data.shape[0], 'train samples')\n",
    "Y_train_data = Y_train_data.astype('float32')\n",
    "Y_train_data /= 255\n",
    "print('Y_train shape:', Y_train_data.shape)\n",
    "print(Y_train_data.shape[0], 'train samples')"
   ]
  },
  {
   "cell_type": "code",
   "execution_count": 5,
   "metadata": {
    "collapsed": false
   },
   "outputs": [],
   "source": [
    "if K.image_dim_ordering() == 'th':\n",
    "    input_shape = (1, img_rows, img_cols)\n",
    "else:\n",
    "    input_shape = (img_rows, img_cols, 1)"
   ]
  },
  {
   "cell_type": "code",
   "execution_count": 6,
   "metadata": {
    "collapsed": false
   },
   "outputs": [],
   "source": [
    "model = Sequential()\n",
    "\n",
    "model.add(Convolution2D(nb_filters*100, kernel_size[0], kernel_size[1],\n",
    "                        border_mode='same',\n",
    "                        input_shape=input_shape))\n",
    "model.add(Activation('relu'))\n",
    "model.add(Convolution2D(nb_filters*50, kernel_size[0], kernel_size[1],\n",
    "                         border_mode='same',\n",
    "                         input_shape=input_shape))\n",
    "model.add(Activation('relu'))\n",
    "model.add(Convolution2D(nb_filters, kernel_size[0], kernel_size[1],\n",
    "                         border_mode='same',\n",
    "                         input_shape=input_shape))\n",
    "model.add(Activation('relu'))"
   ]
  },
  {
   "cell_type": "code",
   "execution_count": 7,
   "metadata": {
    "collapsed": true
   },
   "outputs": [],
   "source": [
    "model.compile(loss='binary_crossentropy',\n",
    "              optimizer='adadelta')"
   ]
  },
  {
   "cell_type": "code",
   "execution_count": 8,
   "metadata": {
    "collapsed": false
   },
   "outputs": [
    {
     "name": "stdout",
     "output_type": "stream",
     "text": [
      "Train on 6 samples, validate on 2 samples\n",
      "Epoch 1/100\n",
      "6/6 [==============================] - 0s - loss: 3.8379 - val_loss: 432.5225\n",
      "Epoch 2/100\n",
      "6/6 [==============================] - 0s - loss: 2.0673 - val_loss: -600.2405\n",
      "Epoch 3/100\n",
      "6/6 [==============================] - 0s - loss: 1.5319 - val_loss: -900.6365\n",
      "Epoch 4/100\n",
      "6/6 [==============================] - 0s - loss: 1.4054 - val_loss: -1063.0315\n",
      "Epoch 5/100\n",
      "6/6 [==============================] - 0s - loss: 1.3343 - val_loss: -1209.3993\n",
      "Epoch 6/100\n",
      "6/6 [==============================] - 0s - loss: 1.2782 - val_loss: -1309.6367\n",
      "Epoch 7/100\n",
      "6/6 [==============================] - 0s - loss: 1.2314 - val_loss: -1562.5298\n",
      "Epoch 8/100\n",
      "6/6 [==============================] - 0s - loss: 1.1742 - val_loss: -1621.2318\n",
      "Epoch 9/100\n",
      "6/6 [==============================] - 0s - loss: 1.1567 - val_loss: -1684.3904\n",
      "Epoch 10/100\n",
      "6/6 [==============================] - 0s - loss: 1.1402 - val_loss: -1744.3257\n",
      "Epoch 11/100\n",
      "6/6 [==============================] - 0s - loss: 1.1245 - val_loss: -1805.1200\n",
      "Epoch 12/100\n",
      "6/6 [==============================] - 0s - loss: 1.1090 - val_loss: -1874.0818\n",
      "Epoch 13/100\n",
      "6/6 [==============================] - 0s - loss: 1.0937 - val_loss: -1948.6082\n",
      "Epoch 14/100\n",
      "6/6 [==============================] - 0s - loss: 1.0783 - val_loss: -2024.8528\n",
      "Epoch 15/100\n",
      "6/6 [==============================] - 0s - loss: 1.0622 - val_loss: -2112.2747\n",
      "Epoch 16/100\n",
      "6/6 [==============================] - 0s - loss: 1.0452 - val_loss: -2201.8538\n",
      "Epoch 17/100\n",
      "6/6 [==============================] - 0s - loss: 1.0275 - val_loss: -2293.7769\n",
      "Epoch 18/100\n",
      "6/6 [==============================] - 0s - loss: 1.0095 - val_loss: -2381.0161\n",
      "Epoch 19/100\n",
      "6/6 [==============================] - 0s - loss: 0.9916 - val_loss: -2450.7671\n",
      "Epoch 20/100\n",
      "6/6 [==============================] - 0s - loss: 0.9740 - val_loss: -2512.7917\n",
      "Epoch 21/100\n",
      "6/6 [==============================] - 0s - loss: 0.9567 - val_loss: -2561.8540\n",
      "Epoch 22/100\n",
      "6/6 [==============================] - 0s - loss: 0.9394 - val_loss: -2603.2993\n",
      "Epoch 23/100\n",
      "6/6 [==============================] - 0s - loss: 0.9224 - val_loss: -2638.0398\n",
      "Epoch 24/100\n",
      "6/6 [==============================] - 0s - loss: 0.9054 - val_loss: -2663.5024\n",
      "Epoch 25/100\n",
      "6/6 [==============================] - 0s - loss: 0.8884 - val_loss: -2685.1174\n",
      "Epoch 26/100\n",
      "6/6 [==============================] - 0s - loss: 0.8716 - val_loss: -2700.9692\n",
      "Epoch 27/100\n",
      "6/6 [==============================] - 0s - loss: 0.8547 - val_loss: -2714.2761\n",
      "Epoch 28/100\n",
      "6/6 [==============================] - 0s - loss: 0.8379 - val_loss: -2723.3452\n",
      "Epoch 29/100\n",
      "6/6 [==============================] - 0s - loss: 0.8207 - val_loss: -2731.5105\n",
      "Epoch 30/100\n",
      "6/6 [==============================] - 0s - loss: 0.8033 - val_loss: -2738.7603\n",
      "Epoch 31/100\n",
      "6/6 [==============================] - 0s - loss: 0.7858 - val_loss: -2744.3044\n",
      "Epoch 32/100\n",
      "6/6 [==============================] - 0s - loss: 0.7684 - val_loss: -2748.1433\n",
      "Epoch 33/100\n",
      "6/6 [==============================] - 0s - loss: 0.7515 - val_loss: -2750.6128\n",
      "Epoch 34/100\n",
      "6/6 [==============================] - 0s - loss: 0.7357 - val_loss: -2752.9709\n",
      "Epoch 35/100\n",
      "6/6 [==============================] - 0s - loss: 0.7213 - val_loss: -2755.1392\n",
      "Epoch 36/100\n",
      "6/6 [==============================] - 0s - loss: 0.7084 - val_loss: -2756.8992\n",
      "Epoch 37/100\n",
      "6/6 [==============================] - 0s - loss: 0.6970 - val_loss: -2757.5015\n",
      "Epoch 38/100\n",
      "6/6 [==============================] - 0s - loss: 0.6873 - val_loss: -2758.4043\n",
      "Epoch 39/100\n",
      "6/6 [==============================] - 0s - loss: 0.6791 - val_loss: -2758.5691\n",
      "Epoch 40/100\n",
      "6/6 [==============================] - 0s - loss: 0.6724 - val_loss: -2758.5891\n",
      "Epoch 41/100\n",
      "6/6 [==============================] - 0s - loss: 0.6669 - val_loss: -2758.6152\n",
      "Epoch 42/100\n",
      "6/6 [==============================] - 0s - loss: 0.6629 - val_loss: -2758.6519\n",
      "Epoch 43/100\n",
      "6/6 [==============================] - 0s - loss: 0.6597 - val_loss: -2758.7734\n",
      "Epoch 44/100\n",
      "6/6 [==============================] - 0s - loss: 0.6579 - val_loss: -2758.8081\n",
      "Epoch 45/100\n",
      "6/6 [==============================] - 0s - loss: 0.6555 - val_loss: -2758.7961\n",
      "Epoch 46/100\n",
      "6/6 [==============================] - 0s - loss: 0.6533 - val_loss: -2758.9417\n",
      "Epoch 47/100\n",
      "6/6 [==============================] - 0s - loss: 0.6512 - val_loss: -2758.9473\n",
      "Epoch 48/100\n",
      "6/6 [==============================] - 0s - loss: 0.6493 - val_loss: -2758.9531\n",
      "Epoch 49/100\n",
      "6/6 [==============================] - 0s - loss: 0.6474 - val_loss: -2758.9551\n",
      "Epoch 50/100\n",
      "6/6 [==============================] - 0s - loss: 0.6456 - val_loss: -2758.9639\n",
      "Epoch 51/100\n",
      "6/6 [==============================] - 0s - loss: 0.6438 - val_loss: -2758.9688\n",
      "Epoch 52/100\n",
      "6/6 [==============================] - 0s - loss: 0.6421 - val_loss: -2758.9568\n",
      "Epoch 53/100\n",
      "6/6 [==============================] - 0s - loss: 0.6396 - val_loss: -2758.7622\n",
      "Epoch 54/100\n",
      "6/6 [==============================] - 0s - loss: 0.6377 - val_loss: -2758.7742\n",
      "Epoch 55/100\n",
      "6/6 [==============================] - 0s - loss: 0.6361 - val_loss: -2758.7869\n",
      "Epoch 56/100\n",
      "6/6 [==============================] - 0s - loss: 0.6345 - val_loss: -2758.7961\n",
      "Epoch 57/100\n",
      "6/6 [==============================] - 0s - loss: 0.6331 - val_loss: -2758.8142\n",
      "Epoch 58/100\n",
      "6/6 [==============================] - 0s - loss: 0.6317 - val_loss: -2758.9331\n",
      "Epoch 59/100\n",
      "6/6 [==============================] - 0s - loss: 0.6304 - val_loss: -2758.9351\n",
      "Epoch 60/100\n",
      "6/6 [==============================] - 0s - loss: 0.6292 - val_loss: -2758.9365\n",
      "Epoch 61/100\n",
      "6/6 [==============================] - 0s - loss: 0.6279 - val_loss: -2758.9326\n",
      "Epoch 62/100\n",
      "6/6 [==============================] - 0s - loss: 0.6268 - val_loss: -2758.9343\n",
      "Epoch 63/100\n",
      "6/6 [==============================] - 0s - loss: 0.6257 - val_loss: -2758.9355\n",
      "Epoch 64/100\n",
      "6/6 [==============================] - 0s - loss: 0.6247 - val_loss: -2758.9363\n",
      "Epoch 65/100\n",
      "6/6 [==============================] - 0s - loss: 0.6238 - val_loss: -2758.9368\n",
      "Epoch 66/100\n",
      "6/6 [==============================] - 0s - loss: 0.6229 - val_loss: -2758.9375\n",
      "Epoch 67/100\n",
      "6/6 [==============================] - 0s - loss: 0.6220 - val_loss: -2758.9380\n",
      "Epoch 68/100\n",
      "6/6 [==============================] - 0s - loss: 0.6213 - val_loss: -2758.9385\n",
      "Epoch 69/100\n",
      "6/6 [==============================] - 0s - loss: 0.6205 - val_loss: -2758.9390\n",
      "Epoch 70/100\n",
      "6/6 [==============================] - 0s - loss: 0.6198 - val_loss: -2758.9387\n",
      "Epoch 71/100\n",
      "6/6 [==============================] - 0s - loss: 0.6192 - val_loss: -2758.9387\n",
      "Epoch 72/100\n",
      "6/6 [==============================] - 0s - loss: 0.6185 - val_loss: -2758.9385\n",
      "Epoch 73/100\n",
      "6/6 [==============================] - 0s - loss: 0.6179 - val_loss: -2758.9385\n",
      "Epoch 74/100\n",
      "6/6 [==============================] - 0s - loss: 0.6173 - val_loss: -2758.9380\n",
      "Epoch 75/100\n",
      "6/6 [==============================] - 0s - loss: 0.6168 - val_loss: -2758.9387\n",
      "Epoch 76/100\n",
      "6/6 [==============================] - 0s - loss: 0.6162 - val_loss: -2758.9392\n",
      "Epoch 77/100\n",
      "6/6 [==============================] - 0s - loss: 0.6158 - val_loss: -2758.9404\n",
      "Epoch 78/100\n",
      "6/6 [==============================] - 0s - loss: 0.6153 - val_loss: -2758.9412\n",
      "Epoch 79/100\n",
      "6/6 [==============================] - 0s - loss: 0.6148 - val_loss: -2758.9421\n",
      "Epoch 80/100\n",
      "6/6 [==============================] - 0s - loss: 0.6144 - val_loss: -2758.9429\n",
      "Epoch 81/100\n",
      "6/6 [==============================] - 0s - loss: 0.6140 - val_loss: -2758.8103\n",
      "Epoch 82/100\n",
      "6/6 [==============================] - 0s - loss: 0.6136 - val_loss: -2758.8015\n",
      "Epoch 83/100\n",
      "6/6 [==============================] - 0s - loss: 0.6133 - val_loss: -2758.7969\n",
      "Epoch 84/100\n",
      "6/6 [==============================] - 0s - loss: 0.6129 - val_loss: -2758.7935\n",
      "Epoch 85/100\n",
      "6/6 [==============================] - 0s - loss: 0.6126 - val_loss: -2758.7922\n",
      "Epoch 86/100\n",
      "6/6 [==============================] - 0s - loss: 0.6123 - val_loss: -2758.7908\n",
      "Epoch 87/100\n",
      "6/6 [==============================] - 0s - loss: 0.6120 - val_loss: -2758.7900\n",
      "Epoch 88/100\n",
      "6/6 [==============================] - 0s - loss: 0.6117 - val_loss: -2758.7891\n",
      "Epoch 89/100\n",
      "6/6 [==============================] - 0s - loss: 0.6114 - val_loss: -2758.7883\n",
      "Epoch 90/100\n",
      "6/6 [==============================] - 0s - loss: 0.6112 - val_loss: -2758.7878\n",
      "Epoch 91/100\n",
      "6/6 [==============================] - 0s - loss: 0.6109 - val_loss: -2758.7876\n",
      "Epoch 92/100\n",
      "6/6 [==============================] - 0s - loss: 0.6107 - val_loss: -2758.7869\n",
      "Epoch 93/100\n",
      "6/6 [==============================] - 0s - loss: 0.6105 - val_loss: -2758.7866\n",
      "Epoch 94/100\n",
      "6/6 [==============================] - 0s - loss: 0.6103 - val_loss: -2758.7859\n",
      "Epoch 95/100\n",
      "6/6 [==============================] - 0s - loss: 0.6101 - val_loss: -2758.7859\n",
      "Epoch 96/100\n",
      "6/6 [==============================] - 0s - loss: 0.6099 - val_loss: -2758.7859\n",
      "Epoch 97/100\n",
      "6/6 [==============================] - 0s - loss: 0.6097 - val_loss: -2758.7856\n",
      "Epoch 98/100\n",
      "6/6 [==============================] - 0s - loss: 0.6095 - val_loss: -2758.7856\n",
      "Epoch 99/100\n",
      "6/6 [==============================] - 0s - loss: 0.6093 - val_loss: -2758.7859\n",
      "Epoch 100/100\n",
      "6/6 [==============================] - 0s - loss: 0.6092 - val_loss: -2758.7859\n"
     ]
    },
    {
     "data": {
      "text/plain": [
       "<keras.callbacks.History at 0xd2e4b00>"
      ]
     },
     "execution_count": 8,
     "metadata": {},
     "output_type": "execute_result"
    }
   ],
   "source": [
    "model.fit(X_train_data, Y_train_data, batch_size=batch_size, nb_epoch=nb_epoch,\n",
    "          verbose=1, validation_data=(X_test_data, Y_test_data))"
   ]
  },
  {
   "cell_type": "code",
   "execution_count": 9,
   "metadata": {
    "collapsed": false
   },
   "outputs": [
    {
     "name": "stdout",
     "output_type": "stream",
     "text": [
      "Test score: 0.609013259411\n",
      "Test accuracy: 0.609013259411\n"
     ]
    }
   ],
   "source": [
    "score = model.evaluate(X_train_data, Y_train_data, verbose=0)\n",
    "print('Test score:', score)\n",
    "print('Test accuracy:', score)"
   ]
  },
  {
   "cell_type": "code",
   "execution_count": 10,
   "metadata": {
    "collapsed": true
   },
   "outputs": [],
   "source": [
    "pred_data = model.predict(X_test_data)"
   ]
  },
  {
   "cell_type": "code",
   "execution_count": 12,
   "metadata": {
    "collapsed": false
   },
   "outputs": [
    {
     "data": {
      "image/png": "[encoded data removed]",
      "text/plain": [
       "<matplotlib.figure.Figure at 0x147220f0>"
      ]
     },
     "metadata": {},
     "output_type": "display_data"
    }
   ],
   "source": [
    "plot_image = np.concatenate((X_test_data[0][0]*255, pred_data[0][0]*255), axis=1)\n",
    "plt.imshow(plot_image, cmap = cm.Greys_r)\n",
    "plt.show()"
   ]
  },
  {
   "cell_type": "code",
   "execution_count": null,
   "metadata": {
    "collapsed": false
   },
   "outputs": [],
   "source": [
    "trainInpGrayImg"
   ]
  },
  {
   "cell_type": "code",
   "execution_count": null,
   "metadata": {
    "collapsed": false
   },
   "outputs": [],
   "source": [
    "trainInpEdgeImg"
   ]
  },
  {
   "cell_type": "code",
   "execution_count": null,
   "metadata": {
    "collapsed": false
   },
   "outputs": [],
   "source": [
    "prdImg = Image.fromarray(pred_data[0][0], 'L')\n",
    "prdImg"
   ]
  },
  {
   "cell_type": "code",
   "execution_count": null,
   "metadata": {
    "collapsed": true
   },
   "outputs": [],
   "source": []
  }
 ],
 "metadata": {
  "kernelspec": {
   "display_name": "Python 2",
   "language": "python",
   "name": "python2"
  },
  "language_info": {
   "codemirror_mode": {
    "name": "ipython",
    "version": 2
   },
   "file_extension": ".py",
   "mimetype": "text/x-python",
   "name": "python",
   "nbconvert_exporter": "python",
   "pygments_lexer": "ipython2",
   "version": "2.7.13"
  }
 },
 "nbformat": 4,
 "nbformat_minor": 2
}
