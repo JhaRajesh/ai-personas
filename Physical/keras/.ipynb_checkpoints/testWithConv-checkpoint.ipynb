{
 "cells": [
  {
   "cell_type": "code",
   "execution_count": 1,
   "metadata": {
    "collapsed": false
   },
   "outputs": [
    {
     "name": "stderr",
     "output_type": "stream",
     "text": [
      "Using Theano backend.\n"
     ]
    }
   ],
   "source": [
    "import os\n",
    "os.environ[\"KERAS_BACKEND\"] = \"theano\"\n",
    "\n",
    "from __future__ import print_function\n",
    "import numpy as np\n",
    "np.random.seed(1337)  # for reproducibility\n",
    "\n",
    "from keras.datasets import mnist\n",
    "from keras.models import Sequential\n",
    "from keras.layers import Dense, Dropout, Activation, Flatten\n",
    "from keras.layers import Convolution2D, MaxPooling2D\n",
    "from keras.utils import np_utils\n",
    "from keras import backend as K\n",
    "import numpy as np\n",
    "import matplotlib.pyplot as plt\n",
    "import matplotlib.cm as cm"
   ]
  },
  {
   "cell_type": "code",
   "execution_count": 2,
   "metadata": {
    "collapsed": true
   },
   "outputs": [],
   "source": [
    "batch_size = 128\n",
    "nb_classes = 10\n",
    "nb_epoch = 100\n",
    "\n",
    "# input image dimensions\n",
    "img_rows, img_cols = 28, 28\n",
    "# number of convolutional filters to use\n",
    "nb_filters = 1\n",
    "# size of pooling area for max pooling\n",
    "pool_size = (2, 2)\n",
    "# convolution kernel size\n",
    "kernel_size = (3, 3)"
   ]
  },
  {
   "cell_type": "code",
   "execution_count": 3,
   "metadata": {
    "collapsed": true
   },
   "outputs": [],
   "source": [
    "# the data, shuffled and split between train and test sets\n",
    "(X_train, y_train), (X_test, y_test) = mnist.load_data()"
   ]
  },
  {
   "cell_type": "code",
   "execution_count": 4,
   "metadata": {
    "collapsed": false
   },
   "outputs": [],
   "source": [
    "if K.image_dim_ordering() == 'th':\n",
    "    X_train = X_train.reshape(X_train.shape[0], 1, img_rows, img_cols)\n",
    "    X_test = X_test.reshape(X_test.shape[0], 1, img_rows, img_cols)\n",
    "    input_shape = (1, img_rows, img_cols)\n",
    "else:\n",
    "    X_train = X_train.reshape(X_train.shape[0], img_rows, img_cols, 1)\n",
    "    X_test = X_test.reshape(X_test.shape[0], img_rows, img_cols, 1)\n",
    "    input_shape = (img_rows, img_cols, 1)\n",
    "X_train_data = np.random.random((3,1, img_rows, img_cols))\n",
    "X_train_data[0,:,:,:] = X_train[0,:,:,:]\n",
    "X_train_data[1,:,:,:] = X_train[1,:,:,:]\n",
    "X_train_data[2,:,:,:] = X_train[2,:,:,:]"
   ]
  },
  {
   "cell_type": "code",
   "execution_count": 5,
   "metadata": {
    "collapsed": false
   },
   "outputs": [
    {
     "name": "stdout",
     "output_type": "stream",
     "text": [
      "X_train shape: (3L, 1L, 28L, 28L)\n",
      "3 train samples\n"
     ]
    }
   ],
   "source": [
    "X_train_data = X_train_data.astype('float32')\n",
    "X_train_data /= 255\n",
    "print('X_train shape:', X_train_data.shape)\n",
    "print(X_train_data.shape[0], 'train samples')"
   ]
  },
  {
   "cell_type": "code",
   "execution_count": 6,
   "metadata": {
    "collapsed": false
   },
   "outputs": [],
   "source": [
    "model = Sequential()\n",
    "\n",
    "model.add(Convolution2D(nb_filters*100, kernel_size[0], kernel_size[1],\n",
    "                        border_mode='same',\n",
    "                        input_shape=input_shape))\n",
    "model.add(Activation('relu'))\n",
    "model.add(Convolution2D(nb_filters, kernel_size[0], kernel_size[1],\n",
    "                         border_mode='same',\n",
    "                         input_shape=input_shape))\n",
    "model.add(Activation('relu'))"
   ]
  },
  {
   "cell_type": "code",
   "execution_count": 7,
   "metadata": {
    "collapsed": true
   },
   "outputs": [],
   "source": [
    "model.compile(loss='binary_crossentropy',\n",
    "              optimizer='adadelta')"
   ]
  },
  {
   "cell_type": "code",
   "execution_count": 8,
   "metadata": {
    "collapsed": false
   },
   "outputs": [
    {
     "name": "stdout",
     "output_type": "stream",
     "text": [
      "Train on 3 samples, validate on 3 samples\n",
      "Epoch 1/100\n",
      "3/3 [==============================] - 0s - loss: 0.3062 - val_loss: 0.2781\n",
      "Epoch 2/100\n",
      "3/3 [==============================] - 0s - loss: 0.2781 - val_loss: 0.2588\n",
      "Epoch 3/100\n",
      "3/3 [==============================] - 0s - loss: 0.2588 - val_loss: 0.2446\n",
      "Epoch 4/100\n",
      "3/3 [==============================] - 0s - loss: 0.2446 - val_loss: 0.2333\n",
      "Epoch 5/100\n",
      "3/3 [==============================] - 0s - loss: 0.2333 - val_loss: 0.2240\n",
      "Epoch 6/100\n",
      "3/3 [==============================] - 0s - loss: 0.2240 - val_loss: 0.2158\n",
      "Epoch 7/100\n",
      "3/3 [==============================] - 0s - loss: 0.2158 - val_loss: 0.2087\n",
      "Epoch 8/100\n",
      "3/3 [==============================] - 0s - loss: 0.2087 - val_loss: 0.2024\n",
      "Epoch 9/100\n",
      "3/3 [==============================] - 0s - loss: 0.2024 - val_loss: 0.1966\n",
      "Epoch 10/100\n",
      "3/3 [==============================] - 0s - loss: 0.1966 - val_loss: 0.1913\n",
      "Epoch 11/100\n",
      "3/3 [==============================] - 0s - loss: 0.1913 - val_loss: 0.1864\n",
      "Epoch 12/100\n",
      "3/3 [==============================] - 0s - loss: 0.1864 - val_loss: 0.1818\n",
      "Epoch 13/100\n",
      "3/3 [==============================] - 0s - loss: 0.1818 - val_loss: 0.1775\n",
      "Epoch 14/100\n",
      "3/3 [==============================] - 0s - loss: 0.1775 - val_loss: 0.1733\n",
      "Epoch 15/100\n",
      "3/3 [==============================] - 0s - loss: 0.1733 - val_loss: 0.1694\n",
      "Epoch 16/100\n",
      "3/3 [==============================] - 0s - loss: 0.1694 - val_loss: 0.1656\n",
      "Epoch 17/100\n",
      "3/3 [==============================] - 0s - loss: 0.1656 - val_loss: 0.1620\n",
      "Epoch 18/100\n",
      "3/3 [==============================] - 0s - loss: 0.1620 - val_loss: 0.1585\n",
      "Epoch 19/100\n",
      "3/3 [==============================] - 0s - loss: 0.1585 - val_loss: 0.1551\n",
      "Epoch 20/100\n",
      "3/3 [==============================] - 0s - loss: 0.1551 - val_loss: 0.1519\n",
      "Epoch 21/100\n",
      "3/3 [==============================] - 0s - loss: 0.1519 - val_loss: 0.1487\n",
      "Epoch 22/100\n",
      "3/3 [==============================] - 0s - loss: 0.1487 - val_loss: 0.1457\n",
      "Epoch 23/100\n",
      "3/3 [==============================] - 0s - loss: 0.1457 - val_loss: 0.1427\n",
      "Epoch 24/100\n",
      "3/3 [==============================] - 0s - loss: 0.1427 - val_loss: 0.1399\n",
      "Epoch 25/100\n",
      "3/3 [==============================] - 0s - loss: 0.1399 - val_loss: 0.1371\n",
      "Epoch 26/100\n",
      "3/3 [==============================] - 0s - loss: 0.1371 - val_loss: 0.1343\n",
      "Epoch 27/100\n",
      "3/3 [==============================] - 0s - loss: 0.1343 - val_loss: 0.1316\n",
      "Epoch 28/100\n",
      "3/3 [==============================] - 0s - loss: 0.1316 - val_loss: 0.1290\n",
      "Epoch 29/100\n",
      "3/3 [==============================] - 0s - loss: 0.1290 - val_loss: 0.1263\n",
      "Epoch 30/100\n",
      "3/3 [==============================] - 0s - loss: 0.1263 - val_loss: 0.1237\n",
      "Epoch 31/100\n",
      "3/3 [==============================] - 0s - loss: 0.1237 - val_loss: 0.1212\n",
      "Epoch 32/100\n",
      "3/3 [==============================] - 0s - loss: 0.1212 - val_loss: 0.1186\n",
      "Epoch 33/100\n",
      "3/3 [==============================] - 0s - loss: 0.1186 - val_loss: 0.1161\n",
      "Epoch 34/100\n",
      "3/3 [==============================] - 0s - loss: 0.1161 - val_loss: 0.1136\n",
      "Epoch 35/100\n",
      "3/3 [==============================] - 0s - loss: 0.1136 - val_loss: 0.1112\n",
      "Epoch 36/100\n",
      "3/3 [==============================] - 0s - loss: 0.1112 - val_loss: 0.1088\n",
      "Epoch 37/100\n",
      "3/3 [==============================] - 0s - loss: 0.1088 - val_loss: 0.1064\n",
      "Epoch 38/100\n",
      "3/3 [==============================] - 0s - loss: 0.1064 - val_loss: 0.1041\n",
      "Epoch 39/100\n",
      "3/3 [==============================] - 0s - loss: 0.1041 - val_loss: 0.1018\n",
      "Epoch 40/100\n",
      "3/3 [==============================] - 0s - loss: 0.1018 - val_loss: 0.0995\n",
      "Epoch 41/100\n",
      "3/3 [==============================] - 0s - loss: 0.0995 - val_loss: 0.0972\n",
      "Epoch 42/100\n",
      "3/3 [==============================] - 0s - loss: 0.0972 - val_loss: 0.0951\n",
      "Epoch 43/100\n",
      "3/3 [==============================] - 0s - loss: 0.0951 - val_loss: 0.0931\n",
      "Epoch 44/100\n",
      "3/3 [==============================] - 0s - loss: 0.0931 - val_loss: 0.0915\n",
      "Epoch 45/100\n",
      "3/3 [==============================] - 0s - loss: 0.0915 - val_loss: 0.0933\n",
      "Epoch 46/100\n",
      "3/3 [==============================] - 0s - loss: 0.0933 - val_loss: 0.0909\n",
      "Epoch 47/100\n",
      "3/3 [==============================] - 0s - loss: 0.0909 - val_loss: 0.0891\n",
      "Epoch 48/100\n",
      "3/3 [==============================] - 0s - loss: 0.0891 - val_loss: 0.0880\n",
      "Epoch 49/100\n",
      "3/3 [==============================] - 0s - loss: 0.0880 - val_loss: 0.0869\n",
      "Epoch 50/100\n",
      "3/3 [==============================] - 0s - loss: 0.0869 - val_loss: 0.0860\n",
      "Epoch 51/100\n",
      "3/3 [==============================] - 0s - loss: 0.0860 - val_loss: 0.0858\n",
      "Epoch 52/100\n",
      "3/3 [==============================] - 0s - loss: 0.0858 - val_loss: 0.0848\n",
      "Epoch 53/100\n",
      "3/3 [==============================] - 0s - loss: 0.0848 - val_loss: 0.0839\n",
      "Epoch 54/100\n",
      "3/3 [==============================] - 0s - loss: 0.0839 - val_loss: 0.0835\n",
      "Epoch 55/100\n",
      "3/3 [==============================] - 0s - loss: 0.0835 - val_loss: 0.0827\n",
      "Epoch 56/100\n",
      "3/3 [==============================] - 0s - loss: 0.0827 - val_loss: 0.0818\n",
      "Epoch 57/100\n",
      "3/3 [==============================] - 0s - loss: 0.0818 - val_loss: 0.0811\n",
      "Epoch 58/100\n",
      "3/3 [==============================] - 0s - loss: 0.0811 - val_loss: 0.0805\n",
      "Epoch 59/100\n",
      "3/3 [==============================] - 0s - loss: 0.0805 - val_loss: 0.0800\n",
      "Epoch 60/100\n",
      "3/3 [==============================] - 0s - loss: 0.0800 - val_loss: 0.0799\n",
      "Epoch 61/100\n",
      "3/3 [==============================] - 0s - loss: 0.0799 - val_loss: 0.0794\n",
      "Epoch 62/100\n",
      "3/3 [==============================] - 0s - loss: 0.0794 - val_loss: 0.0791\n",
      "Epoch 63/100\n",
      "3/3 [==============================] - 0s - loss: 0.0791 - val_loss: 0.0790\n",
      "Epoch 64/100\n",
      "3/3 [==============================] - 0s - loss: 0.0790 - val_loss: 0.0789\n",
      "Epoch 65/100\n",
      "3/3 [==============================] - 0s - loss: 0.0789 - val_loss: 0.0785\n",
      "Epoch 66/100\n",
      "3/3 [==============================] - 0s - loss: 0.0785 - val_loss: 0.0784\n",
      "Epoch 67/100\n",
      "3/3 [==============================] - 0s - loss: 0.0784 - val_loss: 0.0781\n",
      "Epoch 68/100\n",
      "3/3 [==============================] - 0s - loss: 0.0781 - val_loss: 0.0796\n",
      "Epoch 69/100\n",
      "3/3 [==============================] - 0s - loss: 0.0796 - val_loss: 0.0777\n",
      "Epoch 70/100\n",
      "3/3 [==============================] - 0s - loss: 0.0777 - val_loss: 0.0778\n",
      "Epoch 71/100\n",
      "3/3 [==============================] - 0s - loss: 0.0778 - val_loss: 0.0773\n",
      "Epoch 72/100\n",
      "3/3 [==============================] - 0s - loss: 0.0773 - val_loss: 0.0775\n",
      "Epoch 73/100\n",
      "3/3 [==============================] - 0s - loss: 0.0775 - val_loss: 0.0774\n",
      "Epoch 74/100\n",
      "3/3 [==============================] - 0s - loss: 0.0774 - val_loss: 0.0772\n",
      "Epoch 75/100\n",
      "3/3 [==============================] - 0s - loss: 0.0772 - val_loss: 0.0786\n",
      "Epoch 76/100\n",
      "3/3 [==============================] - 0s - loss: 0.0786 - val_loss: 0.0775\n",
      "Epoch 77/100\n",
      "3/3 [==============================] - 0s - loss: 0.0775 - val_loss: 0.0772\n",
      "Epoch 78/100\n",
      "3/3 [==============================] - 0s - loss: 0.0772 - val_loss: 0.0771\n",
      "Epoch 79/100\n",
      "3/3 [==============================] - 0s - loss: 0.0771 - val_loss: 0.0773\n",
      "Epoch 80/100\n",
      "3/3 [==============================] - 0s - loss: 0.0773 - val_loss: 0.0770\n",
      "Epoch 81/100\n",
      "3/3 [==============================] - 0s - loss: 0.0770 - val_loss: 0.0766\n",
      "Epoch 82/100\n",
      "3/3 [==============================] - 0s - loss: 0.0766 - val_loss: 0.0768\n",
      "Epoch 83/100\n",
      "3/3 [==============================] - 0s - loss: 0.0768 - val_loss: 0.0767\n",
      "Epoch 84/100\n",
      "3/3 [==============================] - 0s - loss: 0.0767 - val_loss: 0.0763\n",
      "Epoch 85/100\n",
      "3/3 [==============================] - 0s - loss: 0.0763 - val_loss: 0.0762\n",
      "Epoch 86/100\n",
      "3/3 [==============================] - 0s - loss: 0.0762 - val_loss: 0.0822\n",
      "Epoch 87/100\n",
      "3/3 [==============================] - 0s - loss: 0.0822 - val_loss: 0.0780\n",
      "Epoch 88/100\n",
      "3/3 [==============================] - 0s - loss: 0.0780 - val_loss: 0.0762\n",
      "Epoch 89/100\n",
      "3/3 [==============================] - 0s - loss: 0.0762 - val_loss: 0.0761\n",
      "Epoch 90/100\n",
      "3/3 [==============================] - 0s - loss: 0.0761 - val_loss: 0.0760\n",
      "Epoch 91/100\n",
      "3/3 [==============================] - 0s - loss: 0.0760 - val_loss: 0.0763\n",
      "Epoch 92/100\n",
      "3/3 [==============================] - 0s - loss: 0.0763 - val_loss: 0.0762\n",
      "Epoch 93/100\n",
      "3/3 [==============================] - 0s - loss: 0.0762 - val_loss: 0.0759\n",
      "Epoch 94/100\n",
      "3/3 [==============================] - 0s - loss: 0.0759 - val_loss: 0.0761\n",
      "Epoch 95/100\n",
      "3/3 [==============================] - 0s - loss: 0.0761 - val_loss: 0.0758\n",
      "Epoch 96/100\n",
      "3/3 [==============================] - 0s - loss: 0.0758 - val_loss: 0.0778\n",
      "Epoch 97/100\n",
      "3/3 [==============================] - 0s - loss: 0.0778 - val_loss: 0.0759\n",
      "Epoch 98/100\n",
      "3/3 [==============================] - 0s - loss: 0.0759 - val_loss: 0.0759\n",
      "Epoch 99/100\n",
      "3/3 [==============================] - 0s - loss: 0.0759 - val_loss: 0.0758\n",
      "Epoch 100/100\n",
      "3/3 [==============================] - 0s - loss: 0.0758 - val_loss: 0.0757\n"
     ]
    },
    {
     "data": {
      "text/plain": [
       "<keras.callbacks.History at 0x10b2e710>"
      ]
     },
     "execution_count": 8,
     "metadata": {},
     "output_type": "execute_result"
    }
   ],
   "source": [
    "model.fit(X_train_data, X_train_data, batch_size=batch_size, nb_epoch=nb_epoch,\n",
    "          verbose=1, validation_data=(X_train_data, X_train_data))"
   ]
  },
  {
   "cell_type": "code",
   "execution_count": 9,
   "metadata": {
    "collapsed": false
   },
   "outputs": [
    {
     "name": "stdout",
     "output_type": "stream",
     "text": [
      "Test score: 0.0756545886397\n",
      "Test accuracy: 0.0756545886397\n"
     ]
    }
   ],
   "source": [
    "score = model.evaluate(X_train_data, X_train_data, verbose=0)\n",
    "print('Test score:', score)\n",
    "print('Test accuracy:', score)"
   ]
  },
  {
   "cell_type": "code",
   "execution_count": 10,
   "metadata": {
    "collapsed": true
   },
   "outputs": [],
   "source": [
    " pred_data = model.predict(X_train_data)"
   ]
  },
  {
   "cell_type": "code",
   "execution_count": 11,
   "metadata": {
    "collapsed": false
   },
   "outputs": [
    {
     "data": {
      "text/plain": [
       "array([[[[ 0.,  0.,  0., ...,  0.,  0.,  0.],\n",
       "         [ 0.,  0.,  0., ...,  0.,  0.,  0.],\n",
       "         [ 0.,  0.,  0., ...,  0.,  0.,  0.],\n",
       "         ..., \n",
       "         [ 0.,  0.,  0., ...,  0.,  0.,  0.],\n",
       "         [ 0.,  0.,  0., ...,  0.,  0.,  0.],\n",
       "         [ 0.,  0.,  0., ...,  0.,  0.,  0.]]],\n",
       "\n",
       "\n",
       "       [[[ 0.,  0.,  0., ...,  0.,  0.,  0.],\n",
       "         [ 0.,  0.,  0., ...,  0.,  0.,  0.],\n",
       "         [ 0.,  0.,  0., ...,  0.,  0.,  0.],\n",
       "         ..., \n",
       "         [ 0.,  0.,  0., ...,  0.,  0.,  0.],\n",
       "         [ 0.,  0.,  0., ...,  0.,  0.,  0.],\n",
       "         [ 0.,  0.,  0., ...,  0.,  0.,  0.]]],\n",
       "\n",
       "\n",
       "       [[[ 0.,  0.,  0., ...,  0.,  0.,  0.],\n",
       "         [ 0.,  0.,  0., ...,  0.,  0.,  0.],\n",
       "         [ 0.,  0.,  0., ...,  0.,  0.,  0.],\n",
       "         ..., \n",
       "         [ 0.,  0.,  0., ...,  0.,  0.,  0.],\n",
       "         [ 0.,  0.,  0., ...,  0.,  0.,  0.],\n",
       "         [ 0.,  0.,  0., ...,  0.,  0.,  0.]]]], dtype=float32)"
      ]
     },
     "execution_count": 11,
     "metadata": {},
     "output_type": "execute_result"
    }
   ],
   "source": [
    "pred_data"
   ]
  },
  {
   "cell_type": "code",
   "execution_count": 14,
   "metadata": {
    "collapsed": false
   },
   "outputs": [
    {
     "data": {
      "image/png": "[encoded data removed]",
      "text/plain": [
       "<matplotlib.figure.Figure at 0x1576de10>"
      ]
     },
     "metadata": {},
     "output_type": "display_data"
    }
   ],
   "source": [
    "plot_image = np.concatenate((X_train_data[1][0]*255, pred_data[1][0]*255), axis=1)\n",
    "plt.imshow(plot_image, cmap = cm.Greys_r)\n",
    "plt.show()"
   ]
  },
  {
   "cell_type": "code",
   "execution_count": null,
   "metadata": {
    "collapsed": true
   },
   "outputs": [],
   "source": []
  },
  {
   "cell_type": "code",
   "execution_count": null,
   "metadata": {
    "collapsed": true
   },
   "outputs": [],
   "source": []
  }
 ],
 "metadata": {
  "kernelspec": {
   "display_name": "Python 2",
   "language": "python",
   "name": "python2"
  },
  "language_info": {
   "codemirror_mode": {
    "name": "ipython",
    "version": 2
   },
   "file_extension": ".py",
   "mimetype": "text/x-python",
   "name": "python",
   "nbconvert_exporter": "python",
   "pygments_lexer": "ipython2",
   "version": "2.7.13"
  }
 },
 "nbformat": 4,
 "nbformat_minor": 2
}
