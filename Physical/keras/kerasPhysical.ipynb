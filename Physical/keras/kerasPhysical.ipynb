{
 "cells": [
  {
   "cell_type": "code",
   "execution_count": 1,
   "metadata": {
    "collapsed": false
   },
   "outputs": [
    {
     "name": "stderr",
     "output_type": "stream",
     "text": [
      "Using Theano backend.\n"
     ]
    }
   ],
   "source": [
    "import os\n",
    "os.environ[\"KERAS_BACKEND\"] = \"theano\"\n",
    "\n",
    "from __future__ import print_function\n",
    "import numpy as np\n",
    "\n",
    "from keras.datasets import mnist\n",
    "from keras.models import Sequential\n",
    "from keras.layers import Dense, Dropout, Activation, Flatten\n",
    "from keras.layers import Convolution2D, MaxPooling2D\n",
    "from keras.layers.normalization import BatchNormalization\n",
    "from keras.utils import np_utils\n",
    "from keras import backend as K\n",
    "import numpy as np\n",
    "import matplotlib.pyplot as plt\n",
    "import matplotlib.cm as cm\n",
    "\n",
    "import PIL\n",
    "from PIL import Image, ImageFilter\n",
    "import requests\n",
    "from io import BytesIO\n",
    "\n",
    "import imp"
   ]
  },
  {
   "cell_type": "code",
   "execution_count": 7,
   "metadata": {
    "collapsed": false
   },
   "outputs": [
    {
     "name": "stdout",
     "output_type": "stream",
     "text": [
      "C:\\Users\\rames\\Documents\\GitHub\\ai-personas\\Personas\\personaDefinition_pb2.py\n",
      "imageInput\n",
      "(50L, 50L)\n",
      "http://www.loc.gov/rr/scitech/subjectguides/images/tesla-new.jpg\n",
      "(50L, 50L)\n",
      "https://static1.squarespace.com/static/51cdd10de4b08819bd7bc9b4/525d89c2e4b0f8245cabfc96/53cfd660e4b089801fe7e3d9/1458152617516/SciSource_BK0929.jpg?format=750w\n",
      "(50L, 50L)\n",
      "https://static1.squarespace.com/static/51cdd10de4b08819bd7bc9b4/525d89c2e4b0f8245cabfc96/53cfd28be4b0c47638e2f540/1458152692173/SciSource_BN4337.jpg?format=750w\n",
      "(50L, 50L)\n",
      "https://static1.squarespace.com/static/51cdd10de4b08819bd7bc9b4/525d89c2e4b0f8245cabfc96/5400dbd4e4b0fc8cd2ef213e/1458152745999/SciSource_BU1440.jpg?format=750w\n",
      "input\n",
      "conv2D\n",
      "activation\n",
      "dropout\n",
      "conv2D\n",
      "activation\n",
      "dropout\n",
      "conv2D\n",
      "activation\n",
      "(50L, 50L)\n",
      "http://www.loc.gov/rr/scitech/subjectguides/images/tesla-new.jpg\n",
      "(50L, 50L)\n",
      "https://static1.squarespace.com/static/51cdd10de4b08819bd7bc9b4/525d89c2e4b0f8245cabfc96/53cfd660e4b089801fe7e3d9/1458152617516/SciSource_BK0929.jpg?format=750w\n",
      "(50L, 50L)\n",
      "https://static1.squarespace.com/static/51cdd10de4b08819bd7bc9b4/525d89c2e4b0f8245cabfc96/53cfd28be4b0c47638e2f540/1458152692173/SciSource_BN4337.jpg?format=750w\n",
      "output\n",
      "(3L, 1L, 50L, 50L)\n",
      "(3L, 1L, 50L, 50L)\n",
      "3\n",
      "Train on 3 samples, validate on 3 samples\n",
      "Epoch 1/50\n",
      "3/3 [==============================] - 0s - loss: 271.5081 - val_loss: -401.7292\n",
      "Epoch 2/50\n",
      "3/3 [==============================] - 0s - loss: -159.7114 - val_loss: -407.7341\n",
      "Epoch 3/50\n",
      "3/3 [==============================] - 0s - loss: -384.3957 - val_loss: -407.7407\n",
      "Epoch 4/50\n",
      "3/3 [==============================] - 0s - loss: -378.8870 - val_loss: -407.7647\n",
      "Epoch 5/50\n",
      "3/3 [==============================] - 0s - loss: -395.5670 - val_loss: -407.7724\n",
      "Epoch 6/50\n",
      "3/3 [==============================] - 0s - loss: -399.0108 - val_loss: -407.7782\n",
      "Epoch 7/50\n",
      "3/3 [==============================] - 0s - loss: -399.7912 - val_loss: -407.7850\n",
      "Epoch 8/50\n",
      "3/3 [==============================] - 0s - loss: -400.6541 - val_loss: -407.7925\n",
      "Epoch 9/50\n",
      "3/3 [==============================] - 0s - loss: -401.8719 - val_loss: -407.8012\n",
      "Epoch 10/50\n",
      "3/3 [==============================] - 0s - loss: -401.4793 - val_loss: -407.8092\n",
      "Epoch 11/50\n",
      "3/3 [==============================] - 0s - loss: -405.4692 - val_loss: -407.8158\n",
      "Epoch 12/50\n",
      "3/3 [==============================] - 0s - loss: -403.2145 - val_loss: -407.8184\n",
      "Epoch 13/50\n",
      "3/3 [==============================] - 0s - loss: -402.4111 - val_loss: -407.8269\n",
      "Epoch 14/50\n",
      "3/3 [==============================] - 0s - loss: -404.7957 - val_loss: -407.8313\n",
      "Epoch 15/50\n",
      "3/3 [==============================] - 0s - loss: -403.6826 - val_loss: -407.8337\n",
      "Epoch 16/50\n",
      "3/3 [==============================] - 0s - loss: -402.4535 - val_loss: -407.8386\n",
      "Epoch 17/50\n",
      "3/3 [==============================] - 0s - loss: -405.7085 - val_loss: -407.8470\n",
      "Epoch 18/50\n",
      "3/3 [==============================] - 0s - loss: -406.0335 - val_loss: -407.8477\n",
      "Epoch 19/50\n",
      "3/3 [==============================] - 0s - loss: -405.6033 - val_loss: -407.8484\n",
      "Epoch 20/50\n",
      "3/3 [==============================] - 0s - loss: -405.2188 - val_loss: -407.8504\n",
      "Epoch 21/50\n",
      "3/3 [==============================] - 0s - loss: -405.6502 - val_loss: -407.8520\n",
      "Epoch 22/50\n",
      "3/3 [==============================] - 0s - loss: -405.6748 - val_loss: -407.8532\n",
      "Epoch 23/50\n",
      "3/3 [==============================] - 0s - loss: -405.1140 - val_loss: -407.8562\n",
      "Epoch 24/50\n",
      "3/3 [==============================] - 0s - loss: -407.4103 - val_loss: -407.8568\n",
      "Epoch 25/50\n",
      "3/3 [==============================] - 0s - loss: -406.4093 - val_loss: -407.8576\n",
      "Epoch 26/50\n",
      "3/3 [==============================] - 0s - loss: -406.6905 - val_loss: -407.8586\n",
      "Epoch 27/50\n",
      "3/3 [==============================] - 0s - loss: -404.6269 - val_loss: -407.8604\n",
      "Epoch 28/50\n",
      "3/3 [==============================] - 0s - loss: -406.6571 - val_loss: -407.8743\n",
      "Epoch 29/50\n",
      "3/3 [==============================] - 0s - loss: -407.5553 - val_loss: -407.8814\n",
      "Epoch 30/50\n",
      "3/3 [==============================] - 0s - loss: -407.6731 - val_loss: -407.8830\n",
      "Epoch 31/50\n",
      "3/3 [==============================] - 0s - loss: -407.5535 - val_loss: -407.8834\n",
      "Epoch 32/50\n",
      "3/3 [==============================] - 0s - loss: -407.1699 - val_loss: -407.8844\n",
      "Epoch 33/50\n",
      "3/3 [==============================] - 0s - loss: -406.9314 - val_loss: -407.8849\n",
      "Epoch 34/50\n",
      "3/3 [==============================] - 0s - loss: -407.7488 - val_loss: -407.8854\n",
      "Epoch 35/50\n",
      "3/3 [==============================] - 0s - loss: -406.1660 - val_loss: -407.8930\n",
      "Epoch 36/50\n",
      "3/3 [==============================] - 0s - loss: -407.8768 - val_loss: -407.8934\n",
      "Epoch 37/50\n",
      "3/3 [==============================] - 0s - loss: -407.4354 - val_loss: -407.8947\n",
      "Epoch 38/50\n",
      "3/3 [==============================] - 0s - loss: -407.4912 - val_loss: -407.8952\n",
      "Epoch 39/50\n",
      "3/3 [==============================] - 0s - loss: -407.7433 - val_loss: -407.8957\n",
      "Epoch 40/50\n",
      "3/3 [==============================] - 0s - loss: -407.5432 - val_loss: -407.8961\n",
      "Epoch 41/50\n",
      "3/3 [==============================] - 0s - loss: -406.7417 - val_loss: -407.9083\n",
      "Epoch 42/50\n",
      "3/3 [==============================] - 0s - loss: -407.8888 - val_loss: -407.9086\n",
      "Epoch 43/50\n",
      "3/3 [==============================] - 0s - loss: -407.6128 - val_loss: -407.9088\n",
      "Epoch 44/50\n",
      "3/3 [==============================] - 0s - loss: -407.2698 - val_loss: -407.9091\n",
      "Epoch 45/50\n",
      "3/3 [==============================] - 0s - loss: -407.4230 - val_loss: -407.9094\n",
      "Epoch 46/50\n",
      "3/3 [==============================] - 0s - loss: -407.8950 - val_loss: -407.9097\n",
      "Epoch 47/50\n",
      "3/3 [==============================] - 0s - loss: -406.8921 - val_loss: -407.9099\n",
      "Epoch 48/50\n",
      "3/3 [==============================] - 0s - loss: -407.8673 - val_loss: -407.9102\n",
      "Epoch 49/50\n",
      "3/3 [==============================] - 0s - loss: -407.2821 - val_loss: -407.9106\n",
      "Epoch 50/50\n",
      "3/3 [==============================] - 0s - loss: -407.8133 - val_loss: -407.9109\n"
     ]
    },
    {
     "data": {
      "image/png": "[encoded data removed]",
      "text/plain": [
       "<matplotlib.figure.Figure at 0x15052d68>"
      ]
     },
     "metadata": {},
     "output_type": "display_data"
    },
    {
     "data": {
      "image/png": "[encoded data removed]",
      "text/plain": [
       "<matplotlib.figure.Figure at 0x1d46d6d8>"
      ]
     },
     "metadata": {},
     "output_type": "display_data"
    }
   ],
   "source": [
    "#persona definition\n",
    "persona_definition_path = os.path.abspath(os.path.join('..', '..', 'Personas', 'personaDefinition_pb2.py'))\n",
    "print (persona_definition_path)\n",
    "#import persona proto modules\n",
    "persona = imp.load_source('Persona', persona_definition_path).Persona()\n",
    "\n",
    "#load persona\n",
    "personaName = \"Khandhasamy\"\n",
    "personaCategory = ['Artist', 'Portraits', 'sketchToGreyImage'] \n",
    "personaPath = os.path.join('..', '..', 'Personas')\n",
    "for category in personaCategory:\n",
    "    personaPath = os.path.join(personaPath, category)\n",
    "\n",
    "#persona file\n",
    "persona_abs_path = os.path.abspath(os.path.join(personaPath, personaName , personaName + '.bin'))\n",
    "f = open(persona_abs_path, \"rb\")\n",
    "persona.ParseFromString(f.read())\n",
    "\n",
    "def getInformationSource(persona, layer):\n",
    "    for environment in persona.age.environments:\n",
    "        for information in environment.informations:\n",
    "            for informationConnectedLayerName in information.connectedLayerName:\n",
    "                if (layer.layerName == informationConnectedLayerName):\n",
    "                    #print (information.informationSource)\n",
    "                    return getExtractor(information)\n",
    "\n",
    "def getExtractor(information):\n",
    "    #information definition\n",
    "    information_definition_path = os.path.abspath(os.path.join('..', '..', 'Environment', information.informationSource + \"_pb2.py\"))\n",
    "    informationModule = imp.load_source('Information', information_definition_path).Information()  \n",
    "    information_file_path = os.path.abspath(os.path.join('..', '..', 'Environment', information.informationSource + \".bin\"))\n",
    "    informationFile = open(information_file_path, \"rb\")\n",
    "    informationModule.ParseFromString(informationFile.read())\n",
    "    #load extractor\n",
    "    information_extractor_path = os.path.abspath(os.path.join('..', '..', 'Environment/Informations/Process/Extract/' + informationModule.extractor + \".py\"))\n",
    "    extractorModule = imp.load_source(informationModule.extractor, information_extractor_path).ImageURLExtractor(informationModule)\n",
    "    #print (informationModule.extractor)\n",
    "    return extractorModule\n",
    "\n",
    "LAYER_CONVOLUTION = \"layerConvolution\"\n",
    "LAYER_ACTIVATION = \"layerActivation\"\n",
    "LAYER_DROPOUT = \"layerDropout\"\n",
    "\n",
    "model = Sequential()\n",
    "\n",
    "def runPersona(persona):\n",
    "    x_train_data = None\n",
    "    y_train_data = None\n",
    "    x_test_data = None\n",
    "    input_shape = None\n",
    "    batch_size = None\n",
    "\n",
    "    for dna in persona.DNAs:\n",
    "        for inputLayer in dna.inputs:\n",
    "            print (inputLayer.layerName)\n",
    "            inputTransform = inputLayer.inputTransform\n",
    "            #get information source\n",
    "            information = getInformationSource(persona, inputLayer)\n",
    "\n",
    "            x_train_data = information.getTrainingData(inputTransform)\n",
    "            x_test_data = information.getTestData(inputTransform)\n",
    "            print (\"input\")\n",
    "            \n",
    "        for layer in dna.layers:\n",
    "            if (LAYER_CONVOLUTION == layer.WhichOneof(\"SubLayer\")):\n",
    "                nb_filters = layer.layerConvolution.filters\n",
    "                convDimension = layer.layerConvolution.convolutionDimension\n",
    "                borderMode = layer.layerConvolution.borderMode\n",
    "                kernelSize = layer.layerConvolution.kernelSize\n",
    "                inputShape = layer.layerConvolution.inputShape\n",
    "                if K.image_dim_ordering() == 'th':\n",
    "                    conv_input_shape = (inputShape[0], inputShape[1], inputShape[2])\n",
    "                else:\n",
    "                    conv_input_shape = (inputShape[1], inputShape[2], inputShape[0])\n",
    "                if convDimension == 2:\n",
    "                    model.add(Convolution2D(nb_filters, kernelSize[0], kernelSize[1],\n",
    "                        border_mode=borderMode,\n",
    "                        input_shape=conv_input_shape))\n",
    "                    print (\"conv2D\")\n",
    "            if (LAYER_ACTIVATION == layer.WhichOneof(\"SubLayer\")):  \n",
    "                activationType = layer.layerActivation.activationType\n",
    "                model.add(Activation(activationType))\n",
    "                print (\"activation\")\n",
    "            if (LAYER_DROPOUT == layer.WhichOneof(\"SubLayer\")):\n",
    "                dropoutPercentage = layer.layerDropout.dropPercentage\n",
    "                model.add(Dropout(dropoutPercentage))\n",
    "                print (\"dropout\")\n",
    "                \n",
    "        for outputLayer in dna.outputs:\n",
    "            #print (outputLayer.layerName)\n",
    "            inputTransform = outputLayer.inputTransform\n",
    "            #get information source\n",
    "            information = getInformationSource(persona, outputLayer)\n",
    "            #train data\n",
    "            y_train_data = information.getTrainingData(inputTransform)\n",
    "            print (\"output\")\n",
    "    \n",
    "    #compile model\n",
    "    model.compile(loss='binary_crossentropy', optimizer='adadelta')\n",
    "    \n",
    "    print (x_train_data.shape)\n",
    "    print (y_train_data.shape)\n",
    "\n",
    "    \n",
    "    #learning\n",
    "    batch_size = persona.age.learningBatchSize\n",
    "    print (batch_size)\n",
    "    nb_epoch = 50\n",
    "    model.fit(x_train_data, y_train_data, batch_size=batch_size, nb_epoch=nb_epoch,\n",
    "          verbose=1, validation_data=(x_train_data, y_train_data))\n",
    "    \n",
    "    #output for action data\n",
    "    y_test_data = model.predict(x_test_data)\n",
    "    \n",
    "    plt.imshow(x_test_data[0][0]*255, cmap = cm.Greys_r)\n",
    "    plt.show()\n",
    "    plt.imshow(y_test_data[0][0]*255, cmap = cm.Greys_r)\n",
    "    plt.show()\n",
    "\n",
    "runPersona(persona)\n",
    "\n"
   ]
  },
  {
   "cell_type": "code",
   "execution_count": null,
   "metadata": {
    "collapsed": true
   },
   "outputs": [],
   "source": [
    "batch_size = 128\n",
    "nb_classes = 10\n",
    "nb_epoch = 50\n",
    "\n",
    "# input image dimensions\n",
    "img_rows, img_cols = 100, 100\n",
    "# number of convolutional filters to use\n",
    "nb_filters = 1\n",
    "# size of pooling area for max pooling\n",
    "pool_size = (2, 2)\n",
    "# convolution kernel size\n",
    "kernel_size = (3, 3)"
   ]
  },
  {
   "cell_type": "code",
   "execution_count": null,
   "metadata": {
    "collapsed": false
   },
   "outputs": [],
   "source": [
    "\n",
    "\n",
    "# X_train_data = np.random.random((6,1, img_rows, img_cols))\n",
    "# Y_train_data = np.random.random((6,1, img_rows, img_cols))\n",
    "\n",
    "# with open(\"../../Environment/Informations/Category/Portraits/trainImages/images.txt\") as f:\n",
    "#     infoFileContents = f.readlines()\n",
    "#     for l in range(len(infoFileContents)):\n",
    "#         infoLine = infoFileContents[l].lstrip().rstrip()\n",
    "        \n",
    "#         print (infoLine)\n",
    "#         response = requests.get(infoLine)\n",
    "#         trainInpImg = Image.open(BytesIO(response.content))\n",
    "#         trainInpGrayImg = trainInpImg.convert(\"L\")\n",
    "#         trainInpGrayImg = trainInpGrayImg.resize((img_rows,img_cols), PIL.Image.ANTIALIAS)\n",
    "#         trainInpGreyImgArray = np.asarray(trainInpGrayImg, dtype=np.float32)\n",
    "#         Y_train_data[l,0,:,:] = trainInpGreyImgArray\n",
    "        \n",
    "#         trainInpEdgeImg = trainInpImg.convert(\"L\")\n",
    "#         trainInpEdgeImg = trainInpEdgeImg.resize((img_rows,img_cols), PIL.Image.ANTIALIAS)\n",
    "#         trainInpEdgeImg = trainInpEdgeImg.filter(ImageFilter.FIND_EDGES)\n",
    "\n",
    "#         trainInpEdgeImgArray = np.asarray(trainInpEdgeImg, dtype=np.float32)\n",
    "#         X_train_data[l,0,:,:] = trainInpEdgeImgArray\n",
    "\n",
    "# X_test_data = np.random.random((2,1, img_rows, img_cols))\n",
    "# Y_test_data = np.random.random((2,1, img_rows, img_cols))        \n",
    "\n",
    "# with open(\"../../Environment/Informations/Category/Portraits/testImages/images.txt\") as f:\n",
    "#     infoFileContents = f.readlines()\n",
    "#     for l in range(len(infoFileContents)):\n",
    "#         infoLine = infoFileContents[l].lstrip().rstrip()\n",
    "        \n",
    "#         print (infoLine)\n",
    "#         response = requests.get(infoLine)\n",
    "#         trainInpImg = Image.open(BytesIO(response.content))\n",
    "#         trainInpGrayImg = trainInpImg.convert(\"L\")\n",
    "#         trainInpGrayImg = trainInpGrayImg.resize((img_rows,img_cols), PIL.Image.ANTIALIAS)\n",
    "#         trainInpGreyImgArray = np.asarray(trainInpGrayImg, dtype=np.float32)\n",
    "#         Y_test_data[l,0,:,:] = trainInpGreyImgArray\n",
    "        \n",
    "#         trainInpEdgeImg = trainInpImg.convert(\"L\")\n",
    "#         trainInpEdgeImg = trainInpEdgeImg.resize((img_rows,img_cols), PIL.Image.ANTIALIAS)\n",
    "#         trainInpEdgeImg = trainInpEdgeImg.filter(ImageFilter.FIND_EDGES)\n",
    "#         trainInpEdgeImgArray = np.asarray(trainInpEdgeImg, dtype=np.float32)\n",
    "#         X_test_data[l,0,:,:] = trainInpEdgeImgArray\n",
    "        "
   ]
  },
  {
   "cell_type": "code",
   "execution_count": null,
   "metadata": {
    "collapsed": false
   },
   "outputs": [],
   "source": [
    "X_train_data = X_train_data.astype('float32')\n",
    "X_train_data /= 255\n",
    "print('X_train shape:', X_train_data.shape)\n",
    "print(X_train_data.shape[0], 'train samples')\n",
    "Y_train_data = Y_train_data.astype('float32')\n",
    "Y_train_data /= 255\n",
    "print('Y_train shape:', Y_train_data.shape)\n",
    "print(Y_train_data.shape[0], 'train samples')"
   ]
  },
  {
   "cell_type": "code",
   "execution_count": null,
   "metadata": {
    "collapsed": false
   },
   "outputs": [],
   "source": [
    "if K.image_dim_ordering() == 'th':\n",
    "    input_shape = (1, img_rows, img_cols)\n",
    "else:\n",
    "    input_shape = (img_rows, img_cols, 1)"
   ]
  },
  {
   "cell_type": "code",
   "execution_count": null,
   "metadata": {
    "collapsed": false
   },
   "outputs": [],
   "source": [
    "model = Sequential()\n",
    "\n",
    "model.add(Convolution2D(nb_filters*100, kernel_size[0], kernel_size[1],\n",
    "                        border_mode='same',\n",
    "                        input_shape=input_shape))\n",
    "model.add(Activation('relu'))\n",
    "model.add(Dropout(0.3))\n",
    "model.add(Convolution2D(nb_filters*100, kernel_size[0], kernel_size[1],\n",
    "                         border_mode='same',\n",
    "                         input_shape=input_shape))\n",
    "model.add(Activation('relu'))\n",
    "model.add(BatchNormalization())\n",
    "model.add(Dropout(0.3))\n",
    "model.add(Convolution2D(nb_filters*100, kernel_size[0], kernel_size[1],\n",
    "                         border_mode='same',\n",
    "                         input_shape=input_shape))\n",
    "model.add(Activation('relu'))\n",
    "model.add(BatchNormalization())\n",
    "model.add(Dropout(0.3))\n",
    "model.add(Convolution2D(nb_filters*100, kernel_size[0], kernel_size[1],\n",
    "                         border_mode='same',\n",
    "                         input_shape=input_shape))\n",
    "model.add(Activation('relu'))\n",
    "model.add(BatchNormalization())\n",
    "model.add(Dropout(0.3))\n",
    "model.add(Convolution2D(nb_filters, kernel_size[0], kernel_size[1],\n",
    "                         border_mode='same',\n",
    "                         input_shape=input_shape))\n",
    "model.add(Activation('relu'))"
   ]
  },
  {
   "cell_type": "code",
   "execution_count": null,
   "metadata": {
    "collapsed": true
   },
   "outputs": [],
   "source": [
    "model.compile(loss='binary_crossentropy',\n",
    "              optimizer='adadelta')"
   ]
  },
  {
   "cell_type": "code",
   "execution_count": null,
   "metadata": {
    "collapsed": false
   },
   "outputs": [],
   "source": [
    "model.fit(X_train_data, Y_train_data, batch_size=batch_size, nb_epoch=nb_epoch,\n",
    "          verbose=1, validation_data=(X_test_data, Y_test_data))"
   ]
  },
  {
   "cell_type": "code",
   "execution_count": null,
   "metadata": {
    "collapsed": false
   },
   "outputs": [],
   "source": [
    "score = model.evaluate(X_train_data, Y_train_data, verbose=0)\n",
    "print('Test score:', score)\n",
    "print('Test accuracy:', score)"
   ]
  },
  {
   "cell_type": "code",
   "execution_count": null,
   "metadata": {
    "collapsed": true
   },
   "outputs": [],
   "source": [
    "pred_data = model.predict(X_test_data)"
   ]
  },
  {
   "cell_type": "code",
   "execution_count": null,
   "metadata": {
    "collapsed": false
   },
   "outputs": [],
   "source": [
    "#plot_image = np.concatenate((X_train_data[0][0]*255, Y_train_data[0][0]*255), axis=1)\n",
    "plt.imshow(X_test_data[0][0]*255, cmap = cm.Greys_r)\n",
    "plt.show()\n",
    "plt.imshow(pred_data[0][0]*255, cmap = cm.Greys_r)\n",
    "plt.show()"
   ]
  },
  {
   "cell_type": "code",
   "execution_count": null,
   "metadata": {
    "collapsed": false
   },
   "outputs": [],
   "source": [
    "trainInpGrayImg"
   ]
  },
  {
   "cell_type": "code",
   "execution_count": null,
   "metadata": {
    "collapsed": false
   },
   "outputs": [],
   "source": [
    "trainInpEdgeImg"
   ]
  },
  {
   "cell_type": "code",
   "execution_count": null,
   "metadata": {
    "collapsed": false
   },
   "outputs": [],
   "source": [
    "prdImg = Image.fromarray(pred_data[0][0], 'L')\n",
    "prdImg"
   ]
  },
  {
   "cell_type": "code",
   "execution_count": null,
   "metadata": {
    "collapsed": true
   },
   "outputs": [],
   "source": []
  }
 ],
 "metadata": {
  "kernelspec": {
   "display_name": "Python 2",
   "language": "python",
   "name": "python2"
  },
  "language_info": {
   "codemirror_mode": {
    "name": "ipython",
    "version": 2
   },
   "file_extension": ".py",
   "mimetype": "text/x-python",
   "name": "python",
   "nbconvert_exporter": "python",
   "pygments_lexer": "ipython2",
   "version": "2.7.13"
  }
 },
 "nbformat": 4,
 "nbformat_minor": 2
}
