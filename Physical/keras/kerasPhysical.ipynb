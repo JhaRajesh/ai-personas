{
 "cells": [
  {
   "cell_type": "code",
   "execution_count": 28,
   "metadata": {
    "collapsed": false
   },
   "outputs": [],
   "source": [
    "import os\n",
    "os.environ[\"KERAS_BACKEND\"] = \"theano\"\n",
    "\n",
    "import imp\n",
    "import logging\n",
    "from __future__ import print_function\n",
    "import numpy as np\n",
    "\n",
    "from keras.datasets import mnist\n",
    "from keras.models import Sequential\n",
    "from keras.layers import Dense, Dropout, Activation, Flatten\n",
    "from keras.layers import Convolution2D, MaxPooling2D\n",
    "from keras.layers.normalization import BatchNormalization\n",
    "from keras.utils import np_utils\n",
    "from keras import backend as K\n",
    "import numpy as np\n",
    "import matplotlib.pyplot as plt\n",
    "import matplotlib.cm as cm\n",
    "\n",
    "import PIL\n",
    "from PIL import Image, ImageFilter\n",
    "import requests\n",
    "from io import BytesIO\n",
    "\n",
    "#------------- Logging configuration ------------------#\n",
    "logging.basicConfig()\n",
    "logger = logging.getLogger('Extractor')\n",
    "logger.setLevel(logging.DEBUG)\n",
    "#------------------------------------------------------#"
   ]
  },
  {
   "cell_type": "code",
   "execution_count": 31,
   "metadata": {
    "collapsed": false
   },
   "outputs": [
    {
     "name": "stderr",
     "output_type": "stream",
     "text": [
      "DEBUG:Extractor:Persona blueprint path: C:\\Users\\rames\\Documents\\GitHub\\ai-personas\\Personas\\personaBlueprint\\version_1\\personBlueprint_pb2.py\n",
      "DEBUG:Extractor:Persona definition path:C:\\Users\\rames\\Documents\\GitHub\\ai-personas\\Personas\\Artist\\Portraits\\sketchToGreyImage\\Khandhasamy\\Evolution_1\\age_1\\KhandhasamyPersonaDefinition.bin\n",
      "DEBUG:Extractor:TEST source name: Environment\\Informations\\Category\\Portraits\\scientists.bin\n",
      "DEBUG:Extractor:get extractor path\n",
      "DEBUG:Extractor:extractor path: C:\\Users\\rames\\Documents\\GitHub\\ai-personas\\Environment\\Informations\\Process\\Extract\\Extractor.py\n",
      "DEBUG:Extractor:import extractor\n",
      "DEBUG:Extractor:TEST - Persona blueprint path: C:\\Users\\rames\\Documents\\Personas\\personaBlueprint\\version_1\\personBlueprint_pb2.py\n"
     ]
    },
    {
     "ename": "IOError",
     "evalue": "[Errno 2] No such file or directory",
     "output_type": "error",
     "traceback": [
      "\u001b[0;31m---------------------------------------------------------------------------\u001b[0m",
      "\u001b[0;31mIOError\u001b[0m                                   Traceback (most recent call last)",
      "\u001b[0;32m<ipython-input-31-5e179f2d966a>\u001b[0m in \u001b[0;36m<module>\u001b[0;34m()\u001b[0m\n\u001b[1;32m     67\u001b[0m \u001b[1;33m\u001b[0m\u001b[0m\n\u001b[1;32m     68\u001b[0m \u001b[0mtst\u001b[0m \u001b[1;33m=\u001b[0m \u001b[0mTest\u001b[0m\u001b[1;33m(\u001b[0m\u001b[1;33m)\u001b[0m\u001b[1;33m\u001b[0m\u001b[0m\n\u001b[0;32m---> 69\u001b[0;31m \u001b[0mtst\u001b[0m\u001b[1;33m.\u001b[0m\u001b[0mtestExtractor\u001b[0m\u001b[1;33m(\u001b[0m\u001b[0mPERSONA_BLUEPRINT\u001b[0m\u001b[1;33m,\u001b[0m \u001b[0mPERSONA_DEF\u001b[0m\u001b[1;33m,\u001b[0m \u001b[0mPERSONA_VERSION\u001b[0m\u001b[1;33m)\u001b[0m\u001b[1;33m\u001b[0m\u001b[0m\n\u001b[0m",
      "\u001b[0;32m<ipython-input-31-5e179f2d966a>\u001b[0m in \u001b[0;36mtestExtractor\u001b[0;34m(self, personaBlueprintPath, personaDefPath, version)\u001b[0m\n\u001b[1;32m     61\u001b[0m             \u001b[1;32mfor\u001b[0m \u001b[0msource\u001b[0m \u001b[1;32min\u001b[0m \u001b[0menvironment\u001b[0m\u001b[1;33m.\u001b[0m\u001b[0mlibrary\u001b[0m\u001b[1;33m.\u001b[0m\u001b[0msources\u001b[0m\u001b[1;33m:\u001b[0m\u001b[1;33m\u001b[0m\u001b[0m\n\u001b[1;32m     62\u001b[0m                 \u001b[0mlogger\u001b[0m\u001b[1;33m.\u001b[0m\u001b[0mdebug\u001b[0m\u001b[1;33m(\u001b[0m\u001b[1;34m\"TEST source name: \"\u001b[0m \u001b[1;33m+\u001b[0m \u001b[0msource\u001b[0m\u001b[1;33m.\u001b[0m\u001b[0msourceName\u001b[0m\u001b[1;33m)\u001b[0m\u001b[1;33m\u001b[0m\u001b[0m\n\u001b[0;32m---> 63\u001b[0;31m                 \u001b[0mextractor\u001b[0m \u001b[1;33m=\u001b[0m \u001b[0mkerasPhysical\u001b[0m\u001b[1;33m.\u001b[0m\u001b[0mgetExtractor\u001b[0m\u001b[1;33m(\u001b[0m\u001b[0mversion\u001b[0m\u001b[1;33m,\u001b[0m \u001b[0msource\u001b[0m\u001b[1;33m)\u001b[0m\u001b[1;33m\u001b[0m\u001b[0m\n\u001b[0m\u001b[1;32m     64\u001b[0m                 \u001b[0msourceConnectionLayer\u001b[0m \u001b[1;33m=\u001b[0m \u001b[0msource\u001b[0m\u001b[1;33m.\u001b[0m\u001b[0msourceConnectionLayers\u001b[0m\u001b[1;33m[\u001b[0m\u001b[1;36m0\u001b[0m\u001b[1;33m]\u001b[0m\u001b[1;33m\u001b[0m\u001b[0m\n\u001b[1;32m     65\u001b[0m                 \u001b[0mextractor\u001b[0m\u001b[1;33m.\u001b[0m\u001b[0mgetTeachingData\u001b[0m\u001b[1;33m(\u001b[0m\u001b[0msourceConnectionLayer\u001b[0m\u001b[1;33m)\u001b[0m\u001b[1;33m\u001b[0m\u001b[0m\n",
      "\u001b[0;32m<ipython-input-31-5e179f2d966a>\u001b[0m in \u001b[0;36mgetExtractor\u001b[0;34m(self, version, source)\u001b[0m\n\u001b[1;32m     47\u001b[0m         \u001b[0mlogger\u001b[0m\u001b[1;33m.\u001b[0m\u001b[0mdebug\u001b[0m\u001b[1;33m(\u001b[0m\u001b[1;34m\"extractor path: \"\u001b[0m \u001b[1;33m+\u001b[0m \u001b[0mextractor_path\u001b[0m\u001b[1;33m)\u001b[0m\u001b[1;33m\u001b[0m\u001b[0m\n\u001b[1;32m     48\u001b[0m         \u001b[0mlogger\u001b[0m\u001b[1;33m.\u001b[0m\u001b[0mdebug\u001b[0m\u001b[1;33m(\u001b[0m\u001b[1;34m\"import extractor\"\u001b[0m\u001b[1;33m)\u001b[0m\u001b[1;33m\u001b[0m\u001b[0m\n\u001b[0;32m---> 49\u001b[0;31m         \u001b[0mextractor\u001b[0m \u001b[1;33m=\u001b[0m \u001b[0mimp\u001b[0m\u001b[1;33m.\u001b[0m\u001b[0mload_source\u001b[0m\u001b[1;33m(\u001b[0m\u001b[1;34m'Extractor'\u001b[0m\u001b[1;33m,\u001b[0m \u001b[0mextractor_path\u001b[0m\u001b[1;33m)\u001b[0m\u001b[1;33m.\u001b[0m\u001b[0mExtractor\u001b[0m\u001b[1;33m(\u001b[0m\u001b[0mversion\u001b[0m\u001b[1;33m,\u001b[0m \u001b[0msource\u001b[0m\u001b[1;33m.\u001b[0m\u001b[0msourceName\u001b[0m\u001b[1;33m)\u001b[0m\u001b[1;33m\u001b[0m\u001b[0m\n\u001b[0m\u001b[1;32m     50\u001b[0m         \u001b[1;32mreturn\u001b[0m \u001b[0mextractor\u001b[0m\u001b[1;33m\u001b[0m\u001b[0m\n\u001b[1;32m     51\u001b[0m \u001b[1;33m\u001b[0m\u001b[0m\n",
      "\u001b[0;32mC:\\Users\\rames\\Documents\\GitHub\\ai-personas\\Environment\\Informations\\Process\\Extract\\Extractor.py\u001b[0m in \u001b[0;36m<module>\u001b[0;34m()\u001b[0m\n\u001b[1;32m    125\u001b[0m \u001b[1;33m\u001b[0m\u001b[0m\n\u001b[1;32m    126\u001b[0m \u001b[0mtst\u001b[0m \u001b[1;33m=\u001b[0m \u001b[0mtest\u001b[0m\u001b[1;33m(\u001b[0m\u001b[1;33m)\u001b[0m\u001b[1;33m\u001b[0m\u001b[0m\n\u001b[0;32m--> 127\u001b[0;31m \u001b[0mtst\u001b[0m\u001b[1;33m.\u001b[0m\u001b[0mtestExtractedData\u001b[0m\u001b[1;33m(\u001b[0m\u001b[0mTEST_PERSONA_BLUEPRINT\u001b[0m\u001b[1;33m,\u001b[0m \u001b[0mTEST_PERSONA_DEF\u001b[0m\u001b[1;33m)\u001b[0m\u001b[1;33m\u001b[0m\u001b[0m\n\u001b[0m\u001b[1;32m    128\u001b[0m \u001b[1;33m\u001b[0m\u001b[0m\n\u001b[1;32m    129\u001b[0m \u001b[1;33m\u001b[0m\u001b[0m\n",
      "\u001b[0;32mC:\\Users\\rames\\Documents\\GitHub\\ai-personas\\Environment\\Informations\\Process\\Extract\\Extractor.py\u001b[0m in \u001b[0;36mtestExtractedData\u001b[0;34m(self, personaBlueprintPath, personaDefPath)\u001b[0m\n\u001b[1;32m    111\u001b[0m \u001b[1;33m\u001b[0m\u001b[0m\n\u001b[1;32m    112\u001b[0m     \u001b[1;32mdef\u001b[0m \u001b[0mtestExtractedData\u001b[0m\u001b[1;33m(\u001b[0m\u001b[0mself\u001b[0m\u001b[1;33m,\u001b[0m \u001b[0mpersonaBlueprintPath\u001b[0m\u001b[1;33m,\u001b[0m \u001b[0mpersonaDefPath\u001b[0m\u001b[1;33m)\u001b[0m\u001b[1;33m:\u001b[0m\u001b[1;33m\u001b[0m\u001b[0m\n\u001b[0;32m--> 113\u001b[0;31m         \u001b[0mpersona\u001b[0m \u001b[1;33m=\u001b[0m \u001b[0mself\u001b[0m\u001b[1;33m.\u001b[0m\u001b[0mloadPersona\u001b[0m\u001b[1;33m(\u001b[0m\u001b[0mpersonaBlueprintPath\u001b[0m\u001b[1;33m,\u001b[0m \u001b[0mpersonaDefPath\u001b[0m\u001b[1;33m)\u001b[0m\u001b[1;33m\u001b[0m\u001b[0m\n\u001b[0m\u001b[1;32m    114\u001b[0m         \u001b[1;31m#get source name\u001b[0m\u001b[1;33m\u001b[0m\u001b[1;33m\u001b[0m\u001b[0m\n\u001b[1;32m    115\u001b[0m         \u001b[0menvironment\u001b[0m \u001b[1;33m=\u001b[0m \u001b[0mpersona\u001b[0m\u001b[1;33m.\u001b[0m\u001b[0mage\u001b[0m\u001b[1;33m.\u001b[0m\u001b[0menvironments\u001b[0m\u001b[1;33m[\u001b[0m\u001b[1;36m0\u001b[0m\u001b[1;33m]\u001b[0m\u001b[1;33m\u001b[0m\u001b[0m\n",
      "\u001b[0;32mC:\\Users\\rames\\Documents\\GitHub\\ai-personas\\Environment\\Informations\\Process\\Extract\\Extractor.py\u001b[0m in \u001b[0;36mloadPersona\u001b[0;34m(self, personaBlueprintPath, personaDefPath)\u001b[0m\n\u001b[1;32m    101\u001b[0m     \u001b[1;32mdef\u001b[0m \u001b[0mloadPersona\u001b[0m\u001b[1;33m(\u001b[0m\u001b[0mself\u001b[0m\u001b[1;33m,\u001b[0m \u001b[0mpersonaBlueprintPath\u001b[0m\u001b[1;33m,\u001b[0m \u001b[0mpersonaDefPath\u001b[0m\u001b[1;33m)\u001b[0m\u001b[1;33m:\u001b[0m\u001b[1;33m\u001b[0m\u001b[0m\n\u001b[1;32m    102\u001b[0m         \u001b[1;31m# persona blueprint\u001b[0m\u001b[1;33m\u001b[0m\u001b[1;33m\u001b[0m\u001b[0m\n\u001b[0;32m--> 103\u001b[0;31m         \u001b[0mpersona\u001b[0m \u001b[1;33m=\u001b[0m \u001b[0mself\u001b[0m\u001b[1;33m.\u001b[0m\u001b[0mgetPersonaBlueprint\u001b[0m\u001b[1;33m(\u001b[0m\u001b[0mpersonaBlueprintPath\u001b[0m\u001b[1;33m)\u001b[0m\u001b[1;33m\u001b[0m\u001b[0m\n\u001b[0m\u001b[1;32m    104\u001b[0m         \u001b[1;31m#load persona\u001b[0m\u001b[1;33m\u001b[0m\u001b[1;33m\u001b[0m\u001b[0m\n\u001b[1;32m    105\u001b[0m         \u001b[0mpersona_path\u001b[0m \u001b[1;33m=\u001b[0m \u001b[0mos\u001b[0m\u001b[1;33m.\u001b[0m\u001b[0mpath\u001b[0m\u001b[1;33m.\u001b[0m\u001b[0mabspath\u001b[0m\u001b[1;33m(\u001b[0m\u001b[0mos\u001b[0m\u001b[1;33m.\u001b[0m\u001b[0mpath\u001b[0m\u001b[1;33m.\u001b[0m\u001b[0mjoin\u001b[0m\u001b[1;33m(\u001b[0m\u001b[0mpersonaDefPath\u001b[0m\u001b[1;33m)\u001b[0m\u001b[1;33m)\u001b[0m\u001b[1;33m\u001b[0m\u001b[0m\n",
      "\u001b[0;32mC:\\Users\\rames\\Documents\\GitHub\\ai-personas\\Environment\\Informations\\Process\\Extract\\Extractor.py\u001b[0m in \u001b[0;36mgetPersonaBlueprint\u001b[0;34m(self, personaBlueprintPath)\u001b[0m\n\u001b[1;32m     96\u001b[0m         \u001b[0mlogger\u001b[0m\u001b[1;33m.\u001b[0m\u001b[0mdebug\u001b[0m\u001b[1;33m(\u001b[0m\u001b[1;34m\"TEST - Persona blueprint path: \"\u001b[0m \u001b[1;33m+\u001b[0m \u001b[0mpersona_blueprint_path\u001b[0m\u001b[1;33m)\u001b[0m\u001b[1;33m\u001b[0m\u001b[0m\n\u001b[1;32m     97\u001b[0m         \u001b[1;31m#persona blueprint\u001b[0m\u001b[1;33m\u001b[0m\u001b[1;33m\u001b[0m\u001b[0m\n\u001b[0;32m---> 98\u001b[0;31m         \u001b[0mpersonaBlueprint\u001b[0m \u001b[1;33m=\u001b[0m \u001b[0mimp\u001b[0m\u001b[1;33m.\u001b[0m\u001b[0mload_source\u001b[0m\u001b[1;33m(\u001b[0m\u001b[1;34m'Persona'\u001b[0m\u001b[1;33m,\u001b[0m \u001b[0mpersona_blueprint_path\u001b[0m\u001b[1;33m)\u001b[0m\u001b[1;33m.\u001b[0m\u001b[0mPersona\u001b[0m\u001b[1;33m(\u001b[0m\u001b[1;33m)\u001b[0m\u001b[1;33m\u001b[0m\u001b[0m\n\u001b[0m\u001b[1;32m     99\u001b[0m         \u001b[1;32mreturn\u001b[0m \u001b[0mpersonaBlueprint\u001b[0m\u001b[1;33m\u001b[0m\u001b[0m\n\u001b[1;32m    100\u001b[0m \u001b[1;33m\u001b[0m\u001b[0m\n",
      "\u001b[0;31mIOError\u001b[0m: [Errno 2] No such file or directory"
     ]
    }
   ],
   "source": [
    "INSTALLATION_PATH = \"C:\\\\Users\\\\rames\\\\Documents\\\\GitHub\\\\ai-personas\\\\\"\n",
    "PYTHON_EXTENSION = \".py\"\n",
    "PROTO_PYTHON_EXTENSION = \"_pb2.py\"\n",
    "PROTO_DEF_EXTENSION = \".bin\"\n",
    "PERSONA_VERSION = \"1\"\n",
    "EXTRACTOR_MODULE = \"../../Environment/Informations/Process/Extract/Extractor.py\"\n",
    "INFORMATION_BLUEPRINT = \"../../Environment/Informations/informationBlueprint\" + PROTO_PYTHON_EXTENSION\n",
    "\n",
    "PERSONA_NAME_QUALIFIER = \"PersonaDefinition\"\n",
    "PERSONA_BLUEPRINT_BASE = \"../../Personas/personaBlueprint/version_\" \n",
    "PERSONA_BLUEPRINT_NAME = \"/personBlueprint\" + PROTO_PYTHON_EXTENSION\n",
    "PERSONA_NAME = \"Khandhasamy\" + PERSONA_NAME_QUALIFIER + PROTO_DEF_EXTENSION\n",
    "PERSONA_DEF = \"../../Personas/Artist/Portraits/sketchToGreyImage/Khandhasamy/Evolution_1/age_1/\" + PERSONA_NAME\n",
    "\n",
    "class KerasPhysical(object):\n",
    "    \n",
    "    def __init__(self):\n",
    "        return \n",
    "    \n",
    "    ''' Load persona blue print (aka persona prototype). \n",
    "        Blue print path is constant. It won't change normally. From given version number, load respective persona blue print.\n",
    "    '''\n",
    "    def getPersonaBlueprint(self, version): \n",
    "        #persona blueprint path\n",
    "        persona_blueprint_path = os.path.abspath(os.path.join(PERSONA_BLUEPRINT_BASE + str(version) + PERSONA_BLUEPRINT_NAME ))\n",
    "        logger.debug(\"Persona blueprint path: \" + persona_blueprint_path)\n",
    "        #persona blueprint\n",
    "        personaBlueprint = imp.load_source('Persona', persona_blueprint_path).Persona() \n",
    "        return personaBlueprint\n",
    "    \n",
    "    ''' Load persona definition for given version persona blue print.\n",
    "    '''\n",
    "    def loadPersona(self, version, personaDefPath):\n",
    "        # persona blueprint\n",
    "        persona = self.getPersonaBlueprint(version)\n",
    "        #load persona\n",
    "        persona_path = os.path.abspath(os.path.join(personaDefPath))\n",
    "        logger.debug(\"Persona definition path:\" + persona_path)\n",
    "        f = open(personaDefPath, \"rb\")\n",
    "        persona.ParseFromString(f.read())\n",
    "        f.close()        \n",
    "        return persona   \n",
    "    \n",
    "    def getExtractor(self, version, source):\n",
    "        logger.debug(\"get extractor path\")\n",
    "        extractor_path = os.path.abspath(os.path.join(EXTRACTOR_MODULE))\n",
    "        logger.debug(\"extractor path: \" + extractor_path)\n",
    "        logger.debug(\"import extractor\")\n",
    "        extractor = imp.load_source('Extractor', extractor_path).Extractor(version, source.sourceName)\n",
    "        return extractor\n",
    "\n",
    "class Test(object):\n",
    "    \n",
    "    def __init__(self):\n",
    "        return \n",
    "    \n",
    "    def testExtractor(self, personaBlueprintPath, personaDefPath, version):\n",
    "        kerasPhysical = KerasPhysical()\n",
    "        persona = kerasPhysical.loadPersona(version, personaDefPath)   \n",
    "        for environment in persona.age.environments:\n",
    "            for source in environment.library.sources:\n",
    "                logger.debug(\"TEST source name: \" + source.sourceName)\n",
    "                extractor = kerasPhysical.getExtractor(version, source)\n",
    "                sourceConnectionLayer = source.sourceConnectionLayers[0]\n",
    "                extractor.getTeachingData(sourceConnectionLayer)\n",
    "        return\n",
    "    \n",
    "tst = Test()\n",
    "tst.testExtractor(PERSONA_BLUEPRINT, PERSONA_DEF, PERSONA_VERSION)"
   ]
  },
  {
   "cell_type": "code",
   "execution_count": null,
   "metadata": {
    "collapsed": true
   },
   "outputs": [],
   "source": []
  },
  {
   "cell_type": "code",
   "execution_count": null,
   "metadata": {
    "collapsed": true
   },
   "outputs": [],
   "source": []
  }
 ],
 "metadata": {
  "kernelspec": {
   "display_name": "Python 2",
   "language": "python",
   "name": "python2"
  },
  "language_info": {
   "codemirror_mode": {
    "name": "ipython",
    "version": 2
   },
   "file_extension": ".py",
   "mimetype": "text/x-python",
   "name": "python",
   "nbconvert_exporter": "python",
   "pygments_lexer": "ipython2",
   "version": "2.7.13"
  }
 },
 "nbformat": 4,
 "nbformat_minor": 2
}
