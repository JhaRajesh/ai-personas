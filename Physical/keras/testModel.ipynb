{
 "cells": [
  {
   "cell_type": "code",
   "execution_count": 1,
   "metadata": {
    "collapsed": false
   },
   "outputs": [
    {
     "name": "stderr",
     "output_type": "stream",
     "text": [
      "Using Theano backend.\n"
     ]
    }
   ],
   "source": [
    "import os\n",
    "os.environ[\"KERAS_BACKEND\"] = \"theano\"\n",
    "\n",
    "from __future__ import print_function\n",
    "import numpy as np\n",
    "np.random.seed(1337)  # for reproducibility\n",
    "\n",
    "from keras.datasets import mnist\n",
    "from keras.models import Sequential\n",
    "from keras.layers import Dense, Dropout, Activation, Flatten\n",
    "from keras.layers import Convolution2D, MaxPooling2D\n",
    "from keras.layers.normalization import BatchNormalization\n",
    "from keras.utils import np_utils\n",
    "from keras import backend as K\n",
    "import numpy as np\n",
    "import matplotlib.pyplot as plt\n",
    "import matplotlib.cm as cm\n",
    "\n",
    "import PIL\n",
    "from PIL import Image, ImageFilter\n",
    "import requests\n",
    "from io import BytesIO"
   ]
  },
  {
   "cell_type": "code",
   "execution_count": 2,
   "metadata": {
    "collapsed": true
   },
   "outputs": [],
   "source": [
    "batch_size = 128\n",
    "nb_classes = 10\n",
    "nb_epoch = 50\n",
    "\n",
    "# input image dimensions\n",
    "img_rows, img_cols = 100, 100\n",
    "# number of convolutional filters to use\n",
    "nb_filters = 1\n",
    "# size of pooling area for max pooling\n",
    "pool_size = (2, 2)\n",
    "# convolution kernel size\n",
    "kernel_size = (3, 3)"
   ]
  },
  {
   "cell_type": "code",
   "execution_count": 3,
   "metadata": {
    "collapsed": false
   },
   "outputs": [
    {
     "name": "stdout",
     "output_type": "stream",
     "text": [
      "http://www.loc.gov/rr/scitech/subjectguides/images/tesla-new.jpg\n",
      "https://static1.squarespace.com/static/51cdd10de4b08819bd7bc9b4/525d89c2e4b0f8245cabfc96/53cfd660e4b089801fe7e3d9/1458152617516/SciSource_BK0929.jpg?format=750w\n",
      "https://static1.squarespace.com/static/51cdd10de4b08819bd7bc9b4/525d89c2e4b0f8245cabfc96/53cfd28be4b0c47638e2f540/1458152692173/SciSource_BN4337.jpg?format=750w\n",
      "https://static1.squarespace.com/static/51cdd10de4b08819bd7bc9b4/525d89c2e4b0f8245cabfc96/53cfd532e4b0141d9ac95e95/1458152729573/SciSource_BK0945.jpg?format=750w\n",
      "https://static1.squarespace.com/static/51cdd10de4b08819bd7bc9b4/525d89c2e4b0f8245cabfc96/5400dbd4e4b0fc8cd2ef213e/1458152745999/SciSource_BU1440.jpg?format=750w\n"
     ]
    }
   ],
   "source": [
    "X_train_data = np.random.random((6,1, img_rows, img_cols))\n",
    "Y_train_data = np.random.random((6,1, img_rows, img_cols))\n",
    "\n",
    "with open(\"../../Environment/Informations/Category/Portraits/trainImages/images.txt\") as f:\n",
    "    infoFileContents = f.readlines()\n",
    "    for l in range(len(infoFileContents)):\n",
    "        infoLine = infoFileContents[l].lstrip().rstrip()\n",
    "        \n",
    "        print (infoLine)\n",
    "        response = requests.get(infoLine)\n",
    "        trainInpImg = Image.open(BytesIO(response.content))\n",
    "        trainInpGrayImg = trainInpImg.convert(\"L\")\n",
    "        trainInpGrayImg = trainInpGrayImg.resize((img_rows,img_cols), PIL.Image.ANTIALIAS)\n",
    "        trainInpGreyImgArray = np.asarray(trainInpGrayImg, dtype=np.float32)\n",
    "        Y_train_data[l,0,:,:] = trainInpGreyImgArray\n",
    "        \n",
    "        trainInpEdgeImg = trainInpImg.convert(\"L\")\n",
    "        trainInpEdgeImg = trainInpEdgeImg.resize((img_rows,img_cols), PIL.Image.ANTIALIAS)\n",
    "        trainInpEdgeImg = trainInpEdgeImg.filter(ImageFilter.FIND_EDGES)\n",
    "\n",
    "        trainInpEdgeImgArray = np.asarray(trainInpEdgeImg, dtype=np.float32)\n",
    "        X_train_data[l,0,:,:] = trainInpEdgeImgArray\n",
    "\n",
    "X_test_data = np.random.random((2,1, img_rows, img_cols))\n",
    "Y_test_data = np.random.random((2,1, img_rows, img_cols))        \n",
    "\n",
    "with open(\"../../Environment/Informations/Category/Portraits/testImages/images.txt\") as f:\n",
    "    infoFileContents = f.readlines()\n",
    "    for l in range(len(infoFileContents)):\n",
    "        infoLine = infoFileContents[l].lstrip().rstrip()\n",
    "        \n",
    "        print (infoLine)\n",
    "        response = requests.get(infoLine)\n",
    "        trainInpImg = Image.open(BytesIO(response.content))\n",
    "        trainInpGrayImg = trainInpImg.convert(\"L\")\n",
    "        trainInpGrayImg = trainInpGrayImg.resize((img_rows,img_cols), PIL.Image.ANTIALIAS)\n",
    "        trainInpGreyImgArray = np.asarray(trainInpGrayImg, dtype=np.float32)\n",
    "        Y_test_data[l,0,:,:] = trainInpGreyImgArray\n",
    "        \n",
    "        trainInpEdgeImg = trainInpImg.convert(\"L\")\n",
    "        trainInpEdgeImg = trainInpEdgeImg.resize((img_rows,img_cols), PIL.Image.ANTIALIAS)\n",
    "        trainInpEdgeImg = trainInpEdgeImg.filter(ImageFilter.FIND_EDGES)\n",
    "        trainInpEdgeImgArray = np.asarray(trainInpEdgeImg, dtype=np.float32)\n",
    "        X_test_data[l,0,:,:] = trainInpEdgeImgArray\n",
    "        "
   ]
  },
  {
   "cell_type": "code",
   "execution_count": 4,
   "metadata": {
    "collapsed": false
   },
   "outputs": [
    {
     "name": "stdout",
     "output_type": "stream",
     "text": [
      "X_train shape: (6L, 1L, 100L, 100L)\n",
      "6 train samples\n",
      "Y_train shape: (6L, 1L, 100L, 100L)\n",
      "6 train samples\n"
     ]
    }
   ],
   "source": [
    "X_train_data = X_train_data.astype('float32')\n",
    "X_train_data /= 255\n",
    "print('X_train shape:', X_train_data.shape)\n",
    "print(X_train_data.shape[0], 'train samples')\n",
    "Y_train_data = Y_train_data.astype('float32')\n",
    "Y_train_data /= 255\n",
    "print('Y_train shape:', Y_train_data.shape)\n",
    "print(Y_train_data.shape[0], 'train samples')"
   ]
  },
  {
   "cell_type": "code",
   "execution_count": 5,
   "metadata": {
    "collapsed": false
   },
   "outputs": [],
   "source": [
    "if K.image_dim_ordering() == 'th':\n",
    "    input_shape = (1, img_rows, img_cols)\n",
    "else:\n",
    "    input_shape = (img_rows, img_cols, 1)"
   ]
  },
  {
   "cell_type": "code",
   "execution_count": 6,
   "metadata": {
    "collapsed": false
   },
   "outputs": [
    {
     "name": "stderr",
     "output_type": "stream",
     "text": [
      "WARNING (theano.gof.cmodule): ModuleCache.refresh() Found key without dll in cache, deleting it. C:\\Users\\rames\\AppData\\Local\\Theano\\compiledir_Windows-10-10.0.14393-Intel64_Family_6_Model_142_Stepping_9_GenuineIntel-2.7.13-64\\tmpeahz5z\\key.pkl\n",
      "WARNING (theano.gof.compilelock): Overriding existing lock by dead process '12408' (I am process '12936')\n"
     ]
    }
   ],
   "source": [
    "model = Sequential()\n",
    "\n",
    "model.add(Convolution2D(nb_filters*100, kernel_size[0], kernel_size[1],\n",
    "                        border_mode='same',\n",
    "                        input_shape=input_shape))\n",
    "model.add(Activation('relu'))\n",
    "model.add(Dropout(0.3))\n",
    "model.add(Convolution2D(nb_filters*100, kernel_size[0], kernel_size[1],\n",
    "                         border_mode='same',\n",
    "                         input_shape=input_shape))\n",
    "model.add(Activation('relu'))\n",
    "model.add(BatchNormalization())\n",
    "model.add(Dropout(0.3))\n",
    "model.add(Convolution2D(nb_filters*100, kernel_size[0], kernel_size[1],\n",
    "                         border_mode='same',\n",
    "                         input_shape=input_shape))\n",
    "model.add(Activation('relu'))\n",
    "model.add(Dropout(0.3))\n",
    "model.add(Convolution2D(nb_filters*100, kernel_size[0], kernel_size[1],\n",
    "                         border_mode='same',\n",
    "                         input_shape=input_shape))\n",
    "model.add(Activation('relu'))\n",
    "model.add(Dropout(0.3))\n",
    "model.add(Convolution2D(nb_filters, kernel_size[0], kernel_size[1],\n",
    "                         border_mode='same',\n",
    "                         input_shape=input_shape))\n",
    "model.add(Activation('relu'))"
   ]
  },
  {
   "cell_type": "code",
   "execution_count": 7,
   "metadata": {
    "collapsed": true
   },
   "outputs": [],
   "source": [
    "model.compile(loss='binary_crossentropy',\n",
    "              optimizer='adadelta')"
   ]
  },
  {
   "cell_type": "code",
   "execution_count": 8,
   "metadata": {
    "collapsed": false
   },
   "outputs": [
    {
     "name": "stdout",
     "output_type": "stream",
     "text": [
      "Train on 6 samples, validate on 2 samples\n",
      "Epoch 1/50\n",
      "6/6 [==============================] - 3s - loss: 2.1402 - val_loss: -1524.6567\n",
      "Epoch 2/50\n",
      "6/6 [==============================] - 3s - loss: 1.4450 - val_loss: -1638.5039\n",
      "Epoch 3/50\n",
      "6/6 [==============================] - 3s - loss: 1.3487 - val_loss: -1423.1562\n",
      "Epoch 4/50\n",
      "6/6 [==============================] - 3s - loss: 1.2727 - val_loss: -347.5121\n",
      "Epoch 5/50\n",
      "6/6 [==============================] - 3s - loss: 1.3769 - val_loss: -1037.8726\n",
      "Epoch 6/50\n",
      "6/6 [==============================] - 3s - loss: 1.1988 - val_loss: -1051.8152\n",
      "Epoch 7/50\n",
      "6/6 [==============================] - 3s - loss: 1.1585 - val_loss: -1337.6797\n",
      "Epoch 8/50\n",
      "6/6 [==============================] - 3s - loss: 1.1324 - val_loss: -1392.8186\n",
      "Epoch 9/50\n",
      "6/6 [==============================] - 3s - loss: 1.0855 - val_loss: -1043.5074\n",
      "Epoch 10/50\n",
      "6/6 [==============================] - 3s - loss: 1.0539 - val_loss: -1389.9697\n",
      "Epoch 11/50\n",
      "6/6 [==============================] - 3s - loss: 1.0082 - val_loss: -1321.9271\n",
      "Epoch 12/50\n",
      "6/6 [==============================] - 3s - loss: 0.9683 - val_loss: -1261.6072\n",
      "Epoch 13/50\n",
      "6/6 [==============================] - 3s - loss: 0.9272 - val_loss: -1297.5652\n",
      "Epoch 14/50\n",
      "6/6 [==============================] - 3s - loss: 0.9102 - val_loss: -309.9448\n",
      "Epoch 15/50\n",
      "6/6 [==============================] - 3s - loss: 1.0940 - val_loss: -1328.8301\n",
      "Epoch 16/50\n",
      "6/6 [==============================] - 3s - loss: 0.8908 - val_loss: -1315.8506\n",
      "Epoch 17/50\n",
      "6/6 [==============================] - 3s - loss: 0.8482 - val_loss: -197.7104\n",
      "Epoch 18/50\n",
      "6/6 [==============================] - 3s - loss: 0.9413 - val_loss: -1244.3057\n",
      "Epoch 19/50\n",
      "6/6 [==============================] - 3s - loss: 0.8014 - val_loss: 358.0278\n",
      "Epoch 20/50\n",
      "6/6 [==============================] - 3s - loss: 1.0309 - val_loss: -1219.9376\n",
      "Epoch 21/50\n",
      "6/6 [==============================] - 3s - loss: 0.8096 - val_loss: -1520.4817\n",
      "Epoch 22/50\n",
      "6/6 [==============================] - 3s - loss: 0.9057 - val_loss: -696.3967\n",
      "Epoch 23/50\n",
      "6/6 [==============================] - 3s - loss: 0.8662 - val_loss: -932.4262\n",
      "Epoch 24/50\n",
      "6/6 [==============================] - 3s - loss: 0.8317 - val_loss: -1266.9951\n",
      "Epoch 25/50\n",
      "6/6 [==============================] - 3s - loss: 0.7957 - val_loss: -1239.8365\n",
      "Epoch 26/50\n",
      "6/6 [==============================] - 3s - loss: 0.7925 - val_loss: -1380.3115\n",
      "Epoch 27/50\n",
      "6/6 [==============================] - 3s - loss: 0.7777 - val_loss: -1255.5659\n",
      "Epoch 28/50\n",
      "6/6 [==============================] - 4s - loss: 0.7526 - val_loss: -1511.5677\n",
      "Epoch 29/50\n",
      "6/6 [==============================] - 4s - loss: 0.8347 - val_loss: -1353.2144\n",
      "Epoch 30/50\n",
      "6/6 [==============================] - 3s - loss: 0.7505 - val_loss: -1128.9841\n",
      "Epoch 31/50\n",
      "6/6 [==============================] - 3s - loss: 0.7185 - val_loss: -1096.8843\n",
      "Epoch 32/50\n",
      "6/6 [==============================] - 3s - loss: 0.7157 - val_loss: -1496.4602\n",
      "Epoch 33/50\n",
      "6/6 [==============================] - 4s - loss: 0.7671 - val_loss: -1316.7874\n",
      "Epoch 34/50\n",
      "6/6 [==============================] - 4s - loss: 0.7105 - val_loss: -1351.4972\n",
      "Epoch 35/50\n",
      "6/6 [==============================] - 3s - loss: 0.6865 - val_loss: -1312.2883\n",
      "Epoch 36/50\n",
      "6/6 [==============================] - 3s - loss: 0.6806 - val_loss: -1398.3926\n",
      "Epoch 37/50\n",
      "6/6 [==============================] - 3s - loss: 0.6676 - val_loss: -1044.8622\n",
      "Epoch 38/50\n",
      "6/6 [==============================] - 3s - loss: 0.6547 - val_loss: -1089.4384\n",
      "Epoch 39/50\n",
      "6/6 [==============================] - 3s - loss: 0.6272 - val_loss: -1113.4463\n",
      "Epoch 40/50\n",
      "6/6 [==============================] - 3s - loss: 0.6175 - val_loss: -1223.3041\n",
      "Epoch 41/50\n",
      "6/6 [==============================] - 3s - loss: 0.6168 - val_loss: -1014.3994\n",
      "Epoch 42/50\n",
      "6/6 [==============================] - 3s - loss: 0.6136 - val_loss: -1050.9333\n",
      "Epoch 43/50\n",
      "6/6 [==============================] - 3s - loss: 0.5928 - val_loss: -1010.0264\n",
      "Epoch 44/50\n",
      "6/6 [==============================] - 3s - loss: 0.5885 - val_loss: -1077.3741\n",
      "Epoch 45/50\n",
      "6/6 [==============================] - 3s - loss: 0.5728 - val_loss: -1059.6371\n",
      "Epoch 46/50\n",
      "6/6 [==============================] - 3s - loss: 0.5760 - val_loss: -1164.8643\n",
      "Epoch 47/50\n",
      "6/6 [==============================] - 3s - loss: 0.5644 - val_loss: -1171.1617\n",
      "Epoch 48/50\n",
      "6/6 [==============================] - 3s - loss: 0.5599 - val_loss: -1185.0706\n",
      "Epoch 49/50\n",
      "6/6 [==============================] - 3s - loss: 0.5826 - val_loss: -1133.7238\n",
      "Epoch 50/50\n",
      "6/6 [==============================] - 3s - loss: 0.5506 - val_loss: -959.1696\n"
     ]
    },
    {
     "data": {
      "text/plain": [
       "<keras.callbacks.History at 0x12731fd0>"
      ]
     },
     "execution_count": 8,
     "metadata": {},
     "output_type": "execute_result"
    }
   ],
   "source": [
    "model.fit(X_train_data, Y_train_data, batch_size=batch_size, nb_epoch=nb_epoch,\n",
    "          verbose=1, validation_data=(X_test_data, Y_test_data))"
   ]
  },
  {
   "cell_type": "code",
   "execution_count": 9,
   "metadata": {
    "collapsed": false
   },
   "outputs": [
    {
     "name": "stdout",
     "output_type": "stream",
     "text": [
      "Test score: 0.796104609966\n",
      "Test accuracy: 0.796104609966\n"
     ]
    }
   ],
   "source": [
    "score = model.evaluate(X_train_data, Y_train_data, verbose=0)\n",
    "print('Test score:', score)\n",
    "print('Test accuracy:', score)"
   ]
  },
  {
   "cell_type": "code",
   "execution_count": 10,
   "metadata": {
    "collapsed": true
   },
   "outputs": [],
   "source": [
    "pred_data = model.predict(X_test_data)"
   ]
  },
  {
   "cell_type": "code",
   "execution_count": 11,
   "metadata": {
    "collapsed": false
   },
   "outputs": [
    {
     "data": {
      "image/png": "[encoded data removed]",
      "text/plain": [
       "<matplotlib.figure.Figure at 0x26f35be0>"
      ]
     },
     "metadata": {},
     "output_type": "display_data"
    },
    {
     "data": {
      "image/png": "[encoded data removed]",
      "text/plain": [
       "<matplotlib.figure.Figure at 0xc41dcf8>"
      ]
     },
     "metadata": {},
     "output_type": "display_data"
    }
   ],
   "source": [
    "#plot_image = np.concatenate((X_train_data[0][0]*255, Y_train_data[0][0]*255), axis=1)\n",
    "plt.imshow(X_test_data[0][0]*255, cmap = cm.Greys_r)\n",
    "plt.show()\n",
    "plt.imshow(pred_data[0][0]*255, cmap = cm.Greys_r)\n",
    "plt.show()"
   ]
  },
  {
   "cell_type": "code",
   "execution_count": 12,
   "metadata": {
    "collapsed": false
   },
   "outputs": [
    {
     "data": {
      "image/png": "[encoded data removed]",
      "text/plain": [
       "<PIL.Image.Image image mode=L size=100x100 at 0xCCA0898>"
      ]
     },
     "execution_count": 12,
     "metadata": {},
     "output_type": "execute_result"
    }
   ],
   "source": [
    "trainInpGrayImg"
   ]
  },
  {
   "cell_type": "code",
   "execution_count": 13,
   "metadata": {
    "collapsed": false
   },
   "outputs": [
    {
     "data": {
      "image/png": "[encoded data removed]",
      "text/plain": [
       "<PIL.Image.Image image mode=L size=100x100 at 0xCCDEE80>"
      ]
     },
     "execution_count": 13,
     "metadata": {},
     "output_type": "execute_result"
    }
   ],
   "source": [
    "trainInpEdgeImg"
   ]
  },
  {
   "cell_type": "code",
   "execution_count": 14,
   "metadata": {
    "collapsed": false
   },
   "outputs": [
    {
     "data": {
      "image/png": "[encoded data removed]",
      "text/plain": [
       "<PIL.Image.Image image mode=L size=100x100 at 0x2BED07F0>"
      ]
     },
     "execution_count": 14,
     "metadata": {},
     "output_type": "execute_result"
    }
   ],
   "source": [
    "prdImg = Image.fromarray(pred_data[0][0], 'L')\n",
    "prdImg"
   ]
  },
  {
   "cell_type": "code",
   "execution_count": null,
   "metadata": {
    "collapsed": true
   },
   "outputs": [],
   "source": []
  }
 ],
 "metadata": {
  "kernelspec": {
   "display_name": "Python 2",
   "language": "python",
   "name": "python2"
  },
  "language_info": {
   "codemirror_mode": {
    "name": "ipython",
    "version": 2
   },
   "file_extension": ".py",
   "mimetype": "text/x-python",
   "name": "python",
   "nbconvert_exporter": "python",
   "pygments_lexer": "ipython2",
   "version": "2.7.13"
  }
 },
 "nbformat": 4,
 "nbformat_minor": 2
}
