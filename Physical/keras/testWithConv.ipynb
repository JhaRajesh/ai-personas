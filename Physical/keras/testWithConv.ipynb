{
 "cells": [
  {
   "cell_type": "code",
   "execution_count": 1,
   "metadata": {
    "collapsed": false
   },
   "outputs": [
    {
     "name": "stderr",
     "output_type": "stream",
     "text": [
      "Using Theano backend.\n"
     ]
    }
   ],
   "source": [
    "import os\n",
    "os.environ[\"KERAS_BACKEND\"] = \"theano\"\n",
    "\n",
    "from __future__ import print_function\n",
    "import numpy as np\n",
    "np.random.seed(1337)  # for reproducibility\n",
    "\n",
    "from keras.datasets import mnist\n",
    "from keras.models import Sequential\n",
    "from keras.layers import Dense, Dropout, Activation, Flatten\n",
    "from keras.layers import Convolution2D, MaxPooling2D\n",
    "from keras.utils import np_utils\n",
    "from keras import backend as K\n",
    "import numpy as np\n",
    "import matplotlib.pyplot as plt\n",
    "import matplotlib.cm as cm"
   ]
  },
  {
   "cell_type": "code",
   "execution_count": 2,
   "metadata": {
    "collapsed": true
   },
   "outputs": [],
   "source": [
    "batch_size = 128\n",
    "nb_classes = 10\n",
    "nb_epoch = 12\n",
    "\n",
    "# input image dimensions\n",
    "img_rows, img_cols = 28, 28\n",
    "# number of convolutional filters to use\n",
    "nb_filters = 1\n",
    "# size of pooling area for max pooling\n",
    "pool_size = (2, 2)\n",
    "# convolution kernel size\n",
    "kernel_size = (3, 3)"
   ]
  },
  {
   "cell_type": "code",
   "execution_count": 3,
   "metadata": {
    "collapsed": true
   },
   "outputs": [],
   "source": [
    "# the data, shuffled and split between train and test sets\n",
    "(X_train, y_train), (X_test, y_test) = mnist.load_data()"
   ]
  },
  {
   "cell_type": "code",
   "execution_count": 4,
   "metadata": {
    "collapsed": false
   },
   "outputs": [],
   "source": [
    "if K.image_dim_ordering() == 'th':\n",
    "    X_train = X_train.reshape(X_train.shape[0], 1, img_rows, img_cols)\n",
    "    X_test = X_test.reshape(X_test.shape[0], 1, img_rows, img_cols)\n",
    "    input_shape = (1, img_rows, img_cols)\n",
    "else:\n",
    "    X_train = X_train.reshape(X_train.shape[0], img_rows, img_cols, 1)\n",
    "    X_test = X_test.reshape(X_test.shape[0], img_rows, img_cols, 1)\n",
    "    input_shape = (img_rows, img_cols, 1)\n",
    "X_train_data = np.random.random((1,1, img_rows, img_cols))\n",
    "X_train_data[0,:,:,:] = X_train[0,:,:,:]"
   ]
  },
  {
   "cell_type": "code",
   "execution_count": 5,
   "metadata": {
    "collapsed": false
   },
   "outputs": [
    {
     "name": "stdout",
     "output_type": "stream",
     "text": [
      "X_train shape: (1L, 1L, 28L, 28L)\n",
      "1 train samples\n"
     ]
    }
   ],
   "source": [
    "X_train_data = X_train_data.astype('float32')\n",
    "X_train_data /= 255\n",
    "print('X_train shape:', X_train_data.shape)\n",
    "print(X_train_data.shape[0], 'train samples')"
   ]
  },
  {
   "cell_type": "code",
   "execution_count": 6,
   "metadata": {
    "collapsed": false
   },
   "outputs": [],
   "source": [
    "model = Sequential()\n",
    "\n",
    "model.add(Convolution2D(nb_filters*40, kernel_size[0], kernel_size[1],\n",
    "                        border_mode='same',\n",
    "                        input_shape=input_shape))\n",
    "model.add(Activation('relu'))\n",
    "model.add(Convolution2D(nb_filters, kernel_size[0], kernel_size[1],\n",
    "                         border_mode='same',\n",
    "                         input_shape=input_shape))\n",
    "model.add(Activation('relu'))"
   ]
  },
  {
   "cell_type": "code",
   "execution_count": 7,
   "metadata": {
    "collapsed": true
   },
   "outputs": [],
   "source": [
    "model.compile(loss='binary_crossentropy',\n",
    "              optimizer='adadelta')"
   ]
  },
  {
   "cell_type": "code",
   "execution_count": 8,
   "metadata": {
    "collapsed": false
   },
   "outputs": [
    {
     "name": "stdout",
     "output_type": "stream",
     "text": [
      "Train on 1 samples, validate on 1 samples\n",
      "Epoch 1/12\n",
      "1/1 [==============================] - 0s - loss: 0.2215 - val_loss: 0.2106\n",
      "Epoch 2/12\n",
      "1/1 [==============================] - 0s - loss: 0.2106 - val_loss: 0.2019\n",
      "Epoch 3/12\n",
      "1/1 [==============================] - 0s - loss: 0.2019 - val_loss: 0.1949\n",
      "Epoch 4/12\n",
      "1/1 [==============================] - 0s - loss: 0.1949 - val_loss: 0.1889\n",
      "Epoch 5/12\n",
      "1/1 [==============================] - 0s - loss: 0.1889 - val_loss: 0.1833\n",
      "Epoch 6/12\n",
      "1/1 [==============================] - 0s - loss: 0.1833 - val_loss: 0.1783\n",
      "Epoch 7/12\n",
      "1/1 [==============================] - 0s - loss: 0.1783 - val_loss: 0.1738\n",
      "Epoch 8/12\n",
      "1/1 [==============================] - 0s - loss: 0.1738 - val_loss: 0.1696\n",
      "Epoch 9/12\n",
      "1/1 [==============================] - 0s - loss: 0.1696 - val_loss: 0.1657\n",
      "Epoch 10/12\n",
      "1/1 [==============================] - 0s - loss: 0.1657 - val_loss: 0.1620\n",
      "Epoch 11/12\n",
      "1/1 [==============================] - 0s - loss: 0.1620 - val_loss: 0.1584\n",
      "Epoch 12/12\n",
      "1/1 [==============================] - 0s - loss: 0.1584 - val_loss: 0.1551\n"
     ]
    },
    {
     "data": {
      "text/plain": [
       "<keras.callbacks.History at 0x10b62dd8>"
      ]
     },
     "execution_count": 8,
     "metadata": {},
     "output_type": "execute_result"
    }
   ],
   "source": [
    "model.fit(X_train_data, X_train_data, batch_size=batch_size, nb_epoch=nb_epoch,\n",
    "          verbose=1, validation_data=(X_train_data, X_train_data))"
   ]
  },
  {
   "cell_type": "code",
   "execution_count": 9,
   "metadata": {
    "collapsed": false
   },
   "outputs": [
    {
     "name": "stdout",
     "output_type": "stream",
     "text": [
      "Test score: 0.15507671237\n",
      "Test accuracy: 0.15507671237\n"
     ]
    }
   ],
   "source": [
    "score = model.evaluate(X_train_data, X_train_data, verbose=0)\n",
    "print('Test score:', score)\n",
    "print('Test accuracy:', score)"
   ]
  },
  {
   "cell_type": "code",
   "execution_count": 10,
   "metadata": {
    "collapsed": true
   },
   "outputs": [],
   "source": [
    " pred_data = model.predict(X_train_data)"
   ]
  },
  {
   "cell_type": "code",
   "execution_count": 11,
   "metadata": {
    "collapsed": false
   },
   "outputs": [
    {
     "data": {
      "text/plain": [
       "array([[[[  0.00000000e+00,   0.00000000e+00,   0.00000000e+00,\n",
       "            0.00000000e+00,   0.00000000e+00,   0.00000000e+00,\n",
       "            0.00000000e+00,   0.00000000e+00,   0.00000000e+00,\n",
       "            0.00000000e+00,   0.00000000e+00,   0.00000000e+00,\n",
       "            0.00000000e+00,   0.00000000e+00,   0.00000000e+00,\n",
       "            0.00000000e+00,   0.00000000e+00,   0.00000000e+00,\n",
       "            0.00000000e+00,   0.00000000e+00,   0.00000000e+00,\n",
       "            0.00000000e+00,   0.00000000e+00,   0.00000000e+00,\n",
       "            0.00000000e+00,   0.00000000e+00,   0.00000000e+00,\n",
       "            0.00000000e+00],\n",
       "         [  0.00000000e+00,   0.00000000e+00,   0.00000000e+00,\n",
       "            0.00000000e+00,   0.00000000e+00,   0.00000000e+00,\n",
       "            0.00000000e+00,   0.00000000e+00,   0.00000000e+00,\n",
       "            0.00000000e+00,   0.00000000e+00,   0.00000000e+00,\n",
       "            0.00000000e+00,   0.00000000e+00,   0.00000000e+00,\n",
       "            0.00000000e+00,   0.00000000e+00,   0.00000000e+00,\n",
       "            0.00000000e+00,   0.00000000e+00,   0.00000000e+00,\n",
       "            0.00000000e+00,   0.00000000e+00,   0.00000000e+00,\n",
       "            0.00000000e+00,   0.00000000e+00,   0.00000000e+00,\n",
       "            0.00000000e+00],\n",
       "         [  0.00000000e+00,   0.00000000e+00,   0.00000000e+00,\n",
       "            0.00000000e+00,   0.00000000e+00,   0.00000000e+00,\n",
       "            0.00000000e+00,   0.00000000e+00,   0.00000000e+00,\n",
       "            0.00000000e+00,   0.00000000e+00,   0.00000000e+00,\n",
       "            0.00000000e+00,   0.00000000e+00,   0.00000000e+00,\n",
       "            0.00000000e+00,   0.00000000e+00,   0.00000000e+00,\n",
       "            0.00000000e+00,   0.00000000e+00,   0.00000000e+00,\n",
       "            0.00000000e+00,   0.00000000e+00,   0.00000000e+00,\n",
       "            0.00000000e+00,   0.00000000e+00,   0.00000000e+00,\n",
       "            0.00000000e+00],\n",
       "         [  0.00000000e+00,   0.00000000e+00,   0.00000000e+00,\n",
       "            0.00000000e+00,   0.00000000e+00,   0.00000000e+00,\n",
       "            0.00000000e+00,   0.00000000e+00,   0.00000000e+00,\n",
       "            0.00000000e+00,   0.00000000e+00,   0.00000000e+00,\n",
       "            0.00000000e+00,   0.00000000e+00,   0.00000000e+00,\n",
       "            0.00000000e+00,   0.00000000e+00,   0.00000000e+00,\n",
       "            0.00000000e+00,   0.00000000e+00,   0.00000000e+00,\n",
       "            0.00000000e+00,   0.00000000e+00,   5.92514034e-03,\n",
       "            6.92215003e-03,   0.00000000e+00,   0.00000000e+00,\n",
       "            0.00000000e+00],\n",
       "         [  0.00000000e+00,   0.00000000e+00,   0.00000000e+00,\n",
       "            0.00000000e+00,   0.00000000e+00,   0.00000000e+00,\n",
       "            0.00000000e+00,   0.00000000e+00,   0.00000000e+00,\n",
       "            0.00000000e+00,   0.00000000e+00,   0.00000000e+00,\n",
       "            0.00000000e+00,   0.00000000e+00,   0.00000000e+00,\n",
       "            0.00000000e+00,   2.10443698e-02,   1.48592507e-02,\n",
       "            3.94039489e-02,   9.20160115e-03,   5.39250150e-02,\n",
       "            4.53055017e-02,   6.18133210e-02,   8.23580846e-02,\n",
       "            5.40035628e-02,   2.81512141e-02,   0.00000000e+00,\n",
       "            0.00000000e+00],\n",
       "         [  0.00000000e+00,   0.00000000e+00,   0.00000000e+00,\n",
       "            0.00000000e+00,   0.00000000e+00,   0.00000000e+00,\n",
       "            0.00000000e+00,   0.00000000e+00,   0.00000000e+00,\n",
       "            0.00000000e+00,   7.68877147e-03,   2.10541021e-02,\n",
       "            2.88887676e-02,   6.45039454e-02,   9.75974947e-02,\n",
       "            1.58504158e-01,   2.47504488e-01,   2.85138577e-01,\n",
       "            3.14430535e-01,   3.12131166e-01,   3.52377176e-01,\n",
       "            4.43484187e-01,   4.40046459e-01,   3.03878099e-01,\n",
       "            1.45289406e-01,   3.28177661e-02,   0.00000000e+00,\n",
       "            0.00000000e+00],\n",
       "         [  0.00000000e+00,   0.00000000e+00,   0.00000000e+00,\n",
       "            0.00000000e+00,   0.00000000e+00,   0.00000000e+00,\n",
       "            0.00000000e+00,   0.00000000e+00,   5.34335822e-02,\n",
       "            1.14923745e-01,   2.15886384e-01,   2.94870406e-01,\n",
       "            3.87453765e-01,   4.59273189e-01,   4.89203066e-01,\n",
       "            5.17215431e-01,   5.79511940e-01,   5.60680091e-01,\n",
       "            4.64344412e-01,   4.61460918e-01,   5.09742320e-01,\n",
       "            5.44438958e-01,   4.42894757e-01,   2.44825184e-01,\n",
       "            9.32397544e-02,   1.14796925e-02,   0.00000000e+00,\n",
       "            0.00000000e+00],\n",
       "         [  0.00000000e+00,   0.00000000e+00,   0.00000000e+00,\n",
       "            0.00000000e+00,   0.00000000e+00,   5.20216161e-03,\n",
       "            4.37833443e-02,   1.26307383e-01,   3.32367480e-01,\n",
       "            4.23829317e-01,   5.31630933e-01,   5.52381098e-01,\n",
       "            6.47794724e-01,   6.63194597e-01,   6.35529757e-01,\n",
       "            5.80355883e-01,   6.57947183e-01,   5.40084124e-01,\n",
       "            4.64640707e-01,   4.35914397e-01,   3.93326581e-01,\n",
       "            3.52912635e-01,   2.76728421e-01,   1.50328189e-01,\n",
       "            6.14466146e-02,   1.15212407e-02,   0.00000000e+00,\n",
       "            0.00000000e+00],\n",
       "         [  0.00000000e+00,   0.00000000e+00,   0.00000000e+00,\n",
       "            0.00000000e+00,   0.00000000e+00,   1.35126365e-02,\n",
       "            8.71885419e-02,   2.27994636e-01,   4.46173429e-01,\n",
       "            4.97553259e-01,   5.39848387e-01,   6.19995832e-01,\n",
       "            6.57122135e-01,   6.41206205e-01,   5.45675278e-01,\n",
       "            5.40493429e-01,   5.81175566e-01,   4.18113679e-01,\n",
       "            2.90050328e-01,   2.64869839e-01,   2.08236143e-01,\n",
       "            1.86479390e-01,   1.41274244e-01,   9.54512209e-02,\n",
       "            3.89959738e-02,   5.93460957e-03,   0.00000000e+00,\n",
       "            0.00000000e+00],\n",
       "         [  0.00000000e+00,   0.00000000e+00,   0.00000000e+00,\n",
       "            0.00000000e+00,   0.00000000e+00,   8.18635616e-03,\n",
       "            9.05512124e-02,   2.11751848e-01,   3.66995126e-01,\n",
       "            4.24699008e-01,   4.66370285e-01,   5.99298775e-01,\n",
       "            6.00345135e-01,   4.51767653e-01,   4.43513602e-01,\n",
       "            4.08388704e-01,   4.42385823e-01,   3.11864525e-01,\n",
       "            1.77244753e-01,   6.15881234e-02,   4.61324044e-02,\n",
       "            3.97516899e-02,   2.64830180e-02,   1.58363860e-02,\n",
       "            2.78074970e-03,   0.00000000e+00,   0.00000000e+00,\n",
       "            0.00000000e+00],\n",
       "         [  0.00000000e+00,   0.00000000e+00,   0.00000000e+00,\n",
       "            0.00000000e+00,   0.00000000e+00,   1.31268811e-04,\n",
       "            4.22408730e-02,   1.32976145e-01,   1.92834765e-01,\n",
       "            2.98830897e-01,   3.87819469e-01,   4.77713168e-01,\n",
       "            4.79457766e-01,   3.13333422e-01,   2.76732445e-01,\n",
       "            2.45579645e-01,   2.07431614e-01,   1.62435278e-01,\n",
       "            1.24697812e-01,   2.16289368e-02,   0.00000000e+00,\n",
       "            0.00000000e+00,   0.00000000e+00,   0.00000000e+00,\n",
       "            0.00000000e+00,   0.00000000e+00,   0.00000000e+00,\n",
       "            0.00000000e+00],\n",
       "         [  0.00000000e+00,   0.00000000e+00,   0.00000000e+00,\n",
       "            0.00000000e+00,   0.00000000e+00,   0.00000000e+00,\n",
       "            5.52029861e-03,   3.35572287e-02,   5.78061193e-02,\n",
       "            1.02812216e-01,   2.42327601e-01,   3.43941808e-01,\n",
       "            4.43438411e-01,   3.32470208e-01,   1.89643338e-01,\n",
       "            1.19114287e-01,   6.92266300e-02,   4.34744507e-02,\n",
       "            4.95475233e-02,   1.72397736e-02,   0.00000000e+00,\n",
       "            0.00000000e+00,   0.00000000e+00,   0.00000000e+00,\n",
       "            0.00000000e+00,   0.00000000e+00,   0.00000000e+00,\n",
       "            0.00000000e+00],\n",
       "         [  0.00000000e+00,   0.00000000e+00,   0.00000000e+00,\n",
       "            0.00000000e+00,   0.00000000e+00,   0.00000000e+00,\n",
       "            0.00000000e+00,   0.00000000e+00,   1.23754377e-03,\n",
       "            4.83522750e-02,   1.49904042e-01,   2.68491387e-01,\n",
       "            4.12177503e-01,   3.75692040e-01,   2.40032822e-01,\n",
       "            1.71656385e-01,   8.12667608e-02,   4.50583175e-02,\n",
       "            2.99656373e-02,   3.44532193e-04,   0.00000000e+00,\n",
       "            0.00000000e+00,   0.00000000e+00,   0.00000000e+00,\n",
       "            0.00000000e+00,   0.00000000e+00,   0.00000000e+00,\n",
       "            0.00000000e+00],\n",
       "         [  0.00000000e+00,   0.00000000e+00,   0.00000000e+00,\n",
       "            0.00000000e+00,   0.00000000e+00,   0.00000000e+00,\n",
       "            0.00000000e+00,   0.00000000e+00,   0.00000000e+00,\n",
       "            1.39978332e-02,   1.09289035e-01,   1.95589006e-01,\n",
       "            3.34751755e-01,   4.03826207e-01,   3.66741002e-01,\n",
       "            3.09275270e-01,   2.75573820e-01,   1.57158881e-01,\n",
       "            9.31387395e-02,   3.44891511e-02,   6.11896440e-03,\n",
       "            0.00000000e+00,   0.00000000e+00,   0.00000000e+00,\n",
       "            0.00000000e+00,   0.00000000e+00,   0.00000000e+00,\n",
       "            0.00000000e+00],\n",
       "         [  0.00000000e+00,   0.00000000e+00,   0.00000000e+00,\n",
       "            0.00000000e+00,   0.00000000e+00,   0.00000000e+00,\n",
       "            0.00000000e+00,   0.00000000e+00,   0.00000000e+00,\n",
       "            0.00000000e+00,   2.62759104e-02,   1.38972968e-01,\n",
       "            2.25259587e-01,   3.64639312e-01,   4.59342062e-01,\n",
       "            4.34684008e-01,   3.93238753e-01,   3.19337070e-01,\n",
       "            2.21345454e-01,   9.81461704e-02,   5.22559285e-02,\n",
       "            3.41967330e-03,   0.00000000e+00,   0.00000000e+00,\n",
       "            0.00000000e+00,   0.00000000e+00,   0.00000000e+00,\n",
       "            0.00000000e+00],\n",
       "         [  0.00000000e+00,   0.00000000e+00,   0.00000000e+00,\n",
       "            0.00000000e+00,   0.00000000e+00,   0.00000000e+00,\n",
       "            0.00000000e+00,   0.00000000e+00,   0.00000000e+00,\n",
       "            0.00000000e+00,   1.58459996e-03,   4.83839363e-02,\n",
       "            1.56190947e-01,   2.44325310e-01,   4.06849593e-01,\n",
       "            4.90498304e-01,   4.41742301e-01,   4.15989995e-01,\n",
       "            3.71087730e-01,   2.29233429e-01,   1.08751364e-01,\n",
       "            5.08476831e-02,   0.00000000e+00,   0.00000000e+00,\n",
       "            0.00000000e+00,   0.00000000e+00,   0.00000000e+00,\n",
       "            0.00000000e+00],\n",
       "         [  0.00000000e+00,   0.00000000e+00,   0.00000000e+00,\n",
       "            0.00000000e+00,   0.00000000e+00,   0.00000000e+00,\n",
       "            0.00000000e+00,   0.00000000e+00,   0.00000000e+00,\n",
       "            0.00000000e+00,   0.00000000e+00,   5.60910208e-03,\n",
       "            4.71930802e-02,   1.34730399e-01,   2.12821931e-01,\n",
       "            3.22128356e-01,   4.23943967e-01,   5.13500214e-01,\n",
       "            4.58957672e-01,   3.74539047e-01,   2.28381291e-01,\n",
       "            7.66790807e-02,   1.50051713e-02,   0.00000000e+00,\n",
       "            0.00000000e+00,   0.00000000e+00,   0.00000000e+00,\n",
       "            0.00000000e+00],\n",
       "         [  0.00000000e+00,   0.00000000e+00,   0.00000000e+00,\n",
       "            0.00000000e+00,   0.00000000e+00,   0.00000000e+00,\n",
       "            0.00000000e+00,   0.00000000e+00,   0.00000000e+00,\n",
       "            0.00000000e+00,   0.00000000e+00,   0.00000000e+00,\n",
       "            0.00000000e+00,   0.00000000e+00,   7.12406710e-02,\n",
       "            2.11729094e-01,   3.54138672e-01,   5.51395476e-01,\n",
       "            5.88463426e-01,   4.52193618e-01,   2.45145813e-01,\n",
       "            1.13915823e-01,   8.66175443e-03,   0.00000000e+00,\n",
       "            0.00000000e+00,   0.00000000e+00,   0.00000000e+00,\n",
       "            0.00000000e+00],\n",
       "         [  0.00000000e+00,   0.00000000e+00,   0.00000000e+00,\n",
       "            0.00000000e+00,   0.00000000e+00,   0.00000000e+00,\n",
       "            0.00000000e+00,   0.00000000e+00,   0.00000000e+00,\n",
       "            0.00000000e+00,   0.00000000e+00,   0.00000000e+00,\n",
       "            0.00000000e+00,   5.15001714e-02,   1.21394366e-01,\n",
       "            2.74970472e-01,   4.52623397e-01,   5.78711092e-01,\n",
       "            6.35175288e-01,   4.44961786e-01,   2.27674395e-01,\n",
       "            8.47431794e-02,   4.57024667e-03,   0.00000000e+00,\n",
       "            0.00000000e+00,   0.00000000e+00,   0.00000000e+00,\n",
       "            0.00000000e+00],\n",
       "         [  0.00000000e+00,   0.00000000e+00,   0.00000000e+00,\n",
       "            0.00000000e+00,   0.00000000e+00,   0.00000000e+00,\n",
       "            0.00000000e+00,   0.00000000e+00,   0.00000000e+00,\n",
       "            0.00000000e+00,   0.00000000e+00,   4.27395403e-02,\n",
       "            1.39323026e-01,   2.86690116e-01,   4.54795450e-01,\n",
       "            5.54637372e-01,   6.13402247e-01,   6.14437580e-01,\n",
       "            5.48106849e-01,   3.53401035e-01,   1.91283092e-01,\n",
       "            3.00150327e-02,   6.03840081e-03,   0.00000000e+00,\n",
       "            0.00000000e+00,   0.00000000e+00,   0.00000000e+00,\n",
       "            0.00000000e+00],\n",
       "         [  0.00000000e+00,   0.00000000e+00,   0.00000000e+00,\n",
       "            0.00000000e+00,   0.00000000e+00,   0.00000000e+00,\n",
       "            0.00000000e+00,   0.00000000e+00,   0.00000000e+00,\n",
       "            1.59019418e-02,   1.24546222e-01,   2.46813357e-01,\n",
       "            4.40445542e-01,   5.69192946e-01,   6.27427399e-01,\n",
       "            6.25510633e-01,   5.86432755e-01,   5.07039368e-01,\n",
       "            3.80574912e-01,   2.06307933e-01,   9.23067033e-02,\n",
       "            1.62028745e-02,   0.00000000e+00,   0.00000000e+00,\n",
       "            0.00000000e+00,   0.00000000e+00,   0.00000000e+00,\n",
       "            0.00000000e+00],\n",
       "         [  0.00000000e+00,   0.00000000e+00,   0.00000000e+00,\n",
       "            0.00000000e+00,   0.00000000e+00,   0.00000000e+00,\n",
       "            0.00000000e+00,   4.45537381e-02,   9.12407190e-02,\n",
       "            2.17555344e-01,   4.02793884e-01,   5.49785495e-01,\n",
       "            6.19459808e-01,   6.31767988e-01,   5.83427370e-01,\n",
       "            5.12385726e-01,   3.97017539e-01,   2.84564495e-01,\n",
       "            2.03682110e-01,   1.31765589e-01,   8.07234868e-02,\n",
       "            2.06413995e-02,   0.00000000e+00,   0.00000000e+00,\n",
       "            0.00000000e+00,   0.00000000e+00,   0.00000000e+00,\n",
       "            0.00000000e+00],\n",
       "         [  0.00000000e+00,   0.00000000e+00,   0.00000000e+00,\n",
       "            0.00000000e+00,   0.00000000e+00,   5.28741553e-02,\n",
       "            1.42968133e-01,   3.09627801e-01,   4.27519709e-01,\n",
       "            5.55424094e-01,   6.00136995e-01,   6.56779170e-01,\n",
       "            5.90737104e-01,   5.21183670e-01,   4.06445920e-01,\n",
       "            2.88220346e-01,   2.08475128e-01,   1.44859746e-01,\n",
       "            9.28007588e-02,   4.51846458e-02,   7.70077575e-03,\n",
       "            0.00000000e+00,   0.00000000e+00,   0.00000000e+00,\n",
       "            0.00000000e+00,   0.00000000e+00,   0.00000000e+00,\n",
       "            0.00000000e+00],\n",
       "         [  0.00000000e+00,   0.00000000e+00,   1.18530598e-02,\n",
       "            3.44570987e-02,   1.36993304e-01,   2.78501630e-01,\n",
       "            4.52042699e-01,   5.73418260e-01,   5.94157517e-01,\n",
       "            6.05181873e-01,   6.00711823e-01,   5.35594881e-01,\n",
       "            4.20059890e-01,   2.91226149e-01,   2.06214204e-01,\n",
       "            1.45068586e-01,   9.44048390e-02,   4.58572730e-02,\n",
       "            8.46063159e-03,   0.00000000e+00,   0.00000000e+00,\n",
       "            0.00000000e+00,   0.00000000e+00,   0.00000000e+00,\n",
       "            0.00000000e+00,   0.00000000e+00,   0.00000000e+00,\n",
       "            0.00000000e+00],\n",
       "         [  0.00000000e+00,   0.00000000e+00,   2.33041402e-02,\n",
       "            1.10989705e-01,   3.12063098e-01,   4.47738767e-01,\n",
       "            5.07274449e-01,   5.32152474e-01,   4.96842444e-01,\n",
       "            4.74688321e-01,   4.34024394e-01,   3.20632249e-01,\n",
       "            2.31070101e-01,   1.51041776e-01,   9.41445827e-02,\n",
       "            4.55804691e-02,   1.00509245e-02,   0.00000000e+00,\n",
       "            0.00000000e+00,   0.00000000e+00,   0.00000000e+00,\n",
       "            0.00000000e+00,   0.00000000e+00,   0.00000000e+00,\n",
       "            0.00000000e+00,   0.00000000e+00,   0.00000000e+00,\n",
       "            0.00000000e+00],\n",
       "         [  0.00000000e+00,   0.00000000e+00,   4.21624370e-02,\n",
       "            1.40234441e-01,   2.59757966e-01,   3.70108992e-01,\n",
       "            4.12268937e-01,   3.93260360e-01,   3.56779695e-01,\n",
       "            2.98539758e-01,   2.28325129e-01,   1.70301080e-01,\n",
       "            1.15206979e-01,   6.77122101e-02,   1.69845615e-02,\n",
       "            0.00000000e+00,   0.00000000e+00,   0.00000000e+00,\n",
       "            0.00000000e+00,   0.00000000e+00,   0.00000000e+00,\n",
       "            0.00000000e+00,   0.00000000e+00,   0.00000000e+00,\n",
       "            0.00000000e+00,   0.00000000e+00,   0.00000000e+00,\n",
       "            0.00000000e+00],\n",
       "         [  0.00000000e+00,   0.00000000e+00,   1.04932571e-02,\n",
       "            5.13846874e-02,   9.11040828e-02,   1.24699779e-01,\n",
       "            1.57269493e-01,   1.54228508e-01,   1.36230409e-01,\n",
       "            1.16139576e-01,   7.50965402e-02,   5.41818142e-02,\n",
       "            1.81360058e-02,   0.00000000e+00,   0.00000000e+00,\n",
       "            0.00000000e+00,   0.00000000e+00,   0.00000000e+00,\n",
       "            0.00000000e+00,   0.00000000e+00,   0.00000000e+00,\n",
       "            0.00000000e+00,   0.00000000e+00,   0.00000000e+00,\n",
       "            0.00000000e+00,   0.00000000e+00,   0.00000000e+00,\n",
       "            0.00000000e+00],\n",
       "         [  7.76660396e-04,   0.00000000e+00,   0.00000000e+00,\n",
       "            0.00000000e+00,   0.00000000e+00,   0.00000000e+00,\n",
       "            0.00000000e+00,   0.00000000e+00,   0.00000000e+00,\n",
       "            0.00000000e+00,   0.00000000e+00,   0.00000000e+00,\n",
       "            0.00000000e+00,   0.00000000e+00,   0.00000000e+00,\n",
       "            0.00000000e+00,   0.00000000e+00,   0.00000000e+00,\n",
       "            0.00000000e+00,   0.00000000e+00,   0.00000000e+00,\n",
       "            0.00000000e+00,   0.00000000e+00,   0.00000000e+00,\n",
       "            0.00000000e+00,   0.00000000e+00,   0.00000000e+00,\n",
       "            0.00000000e+00]]]], dtype=float32)"
      ]
     },
     "execution_count": 11,
     "metadata": {},
     "output_type": "execute_result"
    }
   ],
   "source": [
    "pred_data"
   ]
  },
  {
   "cell_type": "code",
   "execution_count": 12,
   "metadata": {
    "collapsed": false
   },
   "outputs": [
    {
     "data": {
      "image/png": "[encoded data removed]",
      "text/plain": [
       "<matplotlib.figure.Figure at 0x10d72470>"
      ]
     },
     "metadata": {},
     "output_type": "display_data"
    }
   ],
   "source": [
    "plot_image = np.concatenate((X_train_data[0][0]*255, pred_data[0][0]*255), axis=1)\n",
    "plt.imshow(plot_image, cmap = cm.Greys_r)\n",
    "plt.show()"
   ]
  },
  {
   "cell_type": "code",
   "execution_count": null,
   "metadata": {
    "collapsed": true
   },
   "outputs": [],
   "source": []
  },
  {
   "cell_type": "code",
   "execution_count": null,
   "metadata": {
    "collapsed": true
   },
   "outputs": [],
   "source": []
  }
 ],
 "metadata": {
  "kernelspec": {
   "display_name": "Python 2",
   "language": "python",
   "name": "python2"
  },
  "language_info": {
   "codemirror_mode": {
    "name": "ipython",
    "version": 2
   },
   "file_extension": ".py",
   "mimetype": "text/x-python",
   "name": "python",
   "nbconvert_exporter": "python",
   "pygments_lexer": "ipython2",
   "version": "2.7.13"
  }
 },
 "nbformat": 4,
 "nbformat_minor": 2
}
