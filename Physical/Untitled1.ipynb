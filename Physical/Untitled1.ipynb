{
 "cells": [
  {
   "cell_type": "code",
   "execution_count": 99,
   "metadata": {
    "collapsed": false
   },
   "outputs": [
    {
     "name": "stdout",
     "output_type": "stream",
     "text": [
      "(3, 2, 4)\n",
      "[1 1 1 1 2 2 2 2 3 3 3 3 4 4 4 4 5 5 5 5 6 6 6 6]\n",
      "(4, 3, 2)\n",
      "[1 2 3 4 5 6 1 2 3 4 5 6 1 2 3 4 5 6 1 2 3 4 5 6]\n",
      "[[[1 1 1]\n",
      "  [2 2 2]]\n",
      "\n",
      " [[3 3 3]\n",
      "  [4 4 4]]\n",
      "\n",
      " [[5 5 5]\n",
      "  [6 6 6]]]\n",
      "[[[1 0 0 0]\n",
      "  [2 0 0 0]]\n",
      "\n",
      " [[3 0 0 0]\n",
      "  [4 0 0 0]]\n",
      "\n",
      " [[5 0 0 0]\n",
      "  [6 0 0 0]]]\n",
      "[1 2 3 4 5 6 0 0 0 0 0 0 0 0 0 0 0 0 0 0 0 0 0 0]\n",
      "(4, 3, 2)\n",
      "[1 0 0 0 2]\n"
     ]
    }
   ],
   "source": [
    "import PIL\n",
    "from PIL import Image\n",
    "import requests\n",
    "from io import BytesIO\n",
    "import numpy as np \n",
    "\n",
    "a = [[[1,1,1,1],\n",
    "      [2,2,2,2]],\n",
    "      [[3,3,3,3],\n",
    "      [4,4,4,4]],\n",
    "      [[5,5,5,5],\n",
    "      [6,6,6,6]]]\n",
    "\n",
    "a = np.asarray(a)\n",
    "\n",
    "print (a.shape)\n",
    "print (a.ravel())\n",
    "b = np.rollaxis(a, 2)\n",
    "print (b.shape)\n",
    "print (b.ravel())\n",
    "c = a\n",
    "print (c[:,:,1:4])\n",
    "c[:,:,1:4] = 0\n",
    "print (c)\n",
    "c = np.rollaxis(c, 2)\n",
    "c = c.ravel()\n",
    "print (c)\n",
    "c = c.reshape(4,3,2)\n",
    "print (c.shape)\n",
    "c = np.rollaxis(c, 2)\n",
    "c = np.rollaxis(c, 2)\n",
    "print (c.ravel()[0:5])\n"
   ]
  },
  {
   "cell_type": "code",
   "execution_count": null,
   "metadata": {
    "collapsed": true
   },
   "outputs": [],
   "source": []
  }
 ],
 "metadata": {
  "anaconda-cloud": {},
  "kernelspec": {
   "display_name": "Python [conda root]",
   "language": "python",
   "name": "conda-root-py"
  },
  "language_info": {
   "codemirror_mode": {
    "name": "ipython",
    "version": 3
   },
   "file_extension": ".py",
   "mimetype": "text/x-python",
   "name": "python",
   "nbconvert_exporter": "python",
   "pygments_lexer": "ipython3",
   "version": "3.5.2"
  }
 },
 "nbformat": 4,
 "nbformat_minor": 2
}
