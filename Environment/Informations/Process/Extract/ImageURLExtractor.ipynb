{
 "cells": [
  {
   "cell_type": "code",
   "execution_count": 1,
   "metadata": {
    "collapsed": false
   },
   "outputs": [
    {
     "name": "stdout",
     "output_type": "stream",
     "text": [
      "(50L, 50L)\n",
      "https://static1.squarespace.com/static/51cdd10de4b08819bd7bc9b4/525d89c2e4b0f8245cabfc96/5400dbd4e4b0fc8cd2ef213e/1458152745999/SciSource_BU1440.jpg?format=750w\n"
     ]
    },
    {
     "data": {
      "image/png": "[encoded data removed]",
      "text/plain": [
       "<matplotlib.figure.Figure at 0x6792710>"
      ]
     },
     "metadata": {},
     "output_type": "display_data"
    },
    {
     "data": {
      "text/plain": [
       "True"
      ]
     },
     "execution_count": 1,
     "metadata": {},
     "output_type": "execute_result"
    }
   ],
   "source": [
    "import requests\n",
    "from io import BytesIO\n",
    "from PIL import Image, ImageFilter\n",
    "import numpy as np\n",
    "\n",
    "class ImageURLExtractor(object):\n",
    "    \n",
    "    #default image size and dimension\n",
    "    img_rows, img_cols, dim = 100, 100, 1\n",
    "    \n",
    "    def __init__(self, information):\n",
    "        self.information = information\n",
    "    \n",
    "    def getTrainingData(self, inputTransform):\n",
    "        no_of_images = len(self.information.trainingDataList)\n",
    "        data = np.random.random((no_of_images, self.dim, inputTransform.transformSize[0].dimensionSize, inputTransform.transformSize[1].dimensionSize))\n",
    "        image_index = 0\n",
    "        \n",
    "        if self.information.extractor == type(self).__name__:\n",
    "            for trainingData in self.information.trainingDataList:\n",
    "                response = requests.get(trainingData.URL)\n",
    "                img = Image.open(BytesIO(response.content))\n",
    "                \n",
    "                #FIXME: move transformer to transform package\n",
    "                img_rows = inputTransform.transformSize[0].dimensionSize\n",
    "                img_cols = inputTransform.transformSize[1].dimensionSize\n",
    "                img = img.resize((img_rows,img_cols), Image.ANTIALIAS)\n",
    "                \n",
    "                for parameter in inputTransform.transformParam:\n",
    "                    if parameter.parameterName == 'color':\n",
    "                        if parameter.parameterValue == 'grey':\n",
    "                            print (\"transform grey\")\n",
    "                            img = img.convert(\"L\")         \n",
    "                    if parameter.parameterName == 'process':\n",
    "                        if parameter.parameterValue == 'edge':\n",
    "                            print (\"transform edge\")\n",
    "                            img = img.filter(ImageFilter.FIND_EDGES)\n",
    "                            \n",
    "                img = np.asarray(img, dtype=np.float32)     \n",
    "                data[image_index, 0, :, :] = img\n",
    "                print (img.shape)\n",
    "                print (trainingData.URL)\n",
    "                \n",
    "        else:\n",
    "            print (\"Extractor in the information file and running extractor is not matching.\")\n",
    "        return data\n",
    "    \n",
    "    def getTestData(self, inputTransform):\n",
    "        no_of_images = len(self.information.testDataList)\n",
    "        data = np.random.random((no_of_images, self.dim, inputTransform.transformSize[0].dimensionSize, inputTransform.transformSize[1].dimensionSize))\n",
    "        image_index = 0\n",
    "        \n",
    "        if self.information.extractor == type(self).__name__:\n",
    "            for testData in self.information.testDataList:\n",
    "                response = requests.get(testData.URL)\n",
    "                img = Image.open(BytesIO(response.content))\n",
    "                \n",
    "                #FIXME: move transformer to transform package\n",
    "                img_rows = inputTransform.transformSize[0].dimensionSize\n",
    "                img_cols = inputTransform.transformSize[1].dimensionSize\n",
    "                img = img.resize((img_rows,img_cols), Image.ANTIALIAS)\n",
    "                \n",
    "                for parameter in inputTransform.transformParam:\n",
    "                    if parameter.parameterName == 'color':\n",
    "                        if parameter.parameterValue == 'grey':\n",
    "                            img = img.convert(\"L\")         \n",
    "                    if parameter.parameterName == 'process':\n",
    "                        if parameter.parameterValue == 'edge':\n",
    "                            img = img.filter(ImageFilter.FIND_EDGES)\n",
    "                            \n",
    "                img = np.asarray(img, dtype=np.float32)     \n",
    "                data[image_index, 0, :, :] = img\n",
    "                print (img.shape)\n",
    "                print (testData.URL)\n",
    "                \n",
    "        else:\n",
    "            print (\"Extractor in the information file and running extractor is not matching.\")\n",
    "        return data   \n",
    "    \n",
    "    def getValidationData():\n",
    "        return\n",
    "    \n",
    "    def getActionData():\n",
    "        return\n",
    "    \n",
    "import scientists_pb2\n",
    "import sys\n",
    "import personaDefinition_pb2\n",
    "import matplotlib.pyplot as plt\n",
    "import matplotlib.cm as cm\n",
    "\n",
    "information = scientists_pb2.Information()\n",
    "\n",
    "persona = personaDefinition_pb2.Persona()\n",
    "dna = persona.DNAs.add()\n",
    "inputLayer = dna.inputs.add()\n",
    "inputLayer.inputTransform.transformerName = \"imageTransform\"\n",
    "inputLayer.inputTransform.informationType = \"image\"\n",
    "transformInputSize1 =  inputLayer.inputTransform.transformSize.add()\n",
    "transformInputSize1.dimension = 1\n",
    "transformInputSize1.dimensionSize = 50\n",
    "transformInputSize2 =  inputLayer.inputTransform.transformSize.add()\n",
    "transformInputSize2.dimension = 1\n",
    "transformInputSize2.dimensionSize = 50\n",
    "transformParam1 = inputLayer.inputTransform.transformParam.add()\n",
    "transformParam1.parameterName = \"color\"\n",
    "transformParam1.parameterValue  = \"grey\"\n",
    "# transformParam2 = inputLayer.inputTransform.transformParam.add()\n",
    "# transformParam2.parameterName = \"process\"\n",
    "# transformParam2.parameterValue  = \"edge\"\n",
    "\n",
    "\n",
    "# Read the existing address book.\n",
    "f = open(\"test.bin\", \"rb\")\n",
    "information.ParseFromString(f.read())\n",
    "f.close()\n",
    "\n",
    "imageURLExtractor = ImageURLExtractor(information)\n",
    "x = imageURLExtractor.getTestData(inputLayer.inputTransform)\n",
    "\n",
    "for imgIndex in range(x.shape[0]):\n",
    "    plt.imshow(x[imgIndex][0]*255, cmap = cm.Greys_r)\n",
    "    plt.show()\n",
    "    \n",
    "type(x).__module__ == np.__name__"
   ]
  },
  {
   "cell_type": "code",
   "execution_count": null,
   "metadata": {
    "collapsed": true
   },
   "outputs": [],
   "source": []
  }
 ],
 "metadata": {
  "kernelspec": {
   "display_name": "Python 2",
   "language": "python",
   "name": "python2"
  },
  "language_info": {
   "codemirror_mode": {
    "name": "ipython",
    "version": 2
   },
   "file_extension": ".py",
   "mimetype": "text/x-python",
   "name": "python",
   "nbconvert_exporter": "python",
   "pygments_lexer": "ipython2",
   "version": "2.7.13"
  }
 },
 "nbformat": 4,
 "nbformat_minor": 2
}
