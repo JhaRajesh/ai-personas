{
 "cells": [
  {
   "cell_type": "code",
   "execution_count": 5,
   "metadata": {
    "collapsed": false
   },
   "outputs": [],
   "source": [
    "import sys\n",
    "import imp\n",
    "import os\n",
    "import requests\n",
    "from io import BytesIO\n",
    "from PIL import Image, ImageFilter\n",
    "import numpy as np\n",
    "import logging\n",
    "\n",
    "INSTALLATION_PATH = \"C:\\\\Users\\\\rames\\\\Documents\\\\GitHub\\\\ai-personas\\\\\"\n",
    "PYTHON_EXTENSION = \".py\"\n",
    "PROTO_PYTHON_EXTENSION = \"_pb2.py\"\n",
    "PROTO_DEF_EXTENSION = \".bin\"\n",
    "INFORMATION_BLUEPRINT = \"../../informationBlueprint\" + PROTO_PYTHON_EXTENSION\n",
    "\n",
    "#------------- Logging configuration ------------------#\n",
    "logging.basicConfig()\n",
    "logger = logging.getLogger('Extractor')\n",
    "logger.setLevel(logging.DEBUG)\n",
    "#------------------------------------------------------#\n",
    "              \n",
    "class Extractor(object):\n",
    "            \n",
    "    def __init__(self, informationBlueprintPath, sourceName):\n",
    "        self.informationDefinition = self.loadInformationDefinition(informationBlueprintPath, sourceName)\n",
    "        \n",
    "    def getInformationBlueprint(self, informationBlueprintPath):\n",
    "        logger.debug(\"get information blueprint path\")\n",
    "        information_blueprint_path = os.path.abspath(os.path.join(informationBlueprintPath))\n",
    "        logger.debug(\"information blue print path: \" + information_blueprint_path)\n",
    "        logger.debug(\"import information blueprint\")\n",
    "        informationBlueprint = imp.load_source('Information', information_blueprint_path).Information()\n",
    "        return informationBlueprint\n",
    "        \n",
    "    def loadInformationDefinition(self, informationBlueprintPath, informationSourcename):\n",
    "        logger.debug(\"get information path\")\n",
    "        information_path = os.path.abspath(os.path.join(informationSourcename))\n",
    "        logger.debug(\"information path: \" + information_path)\n",
    "        f = open(information_path, \"rb\")\n",
    "        information = self.getInformationBlueprint(informationBlueprintPath)\n",
    "        information.ParseFromString(f.read())\n",
    "        f.close()\n",
    "        return information\n",
    "        \n",
    "    def loadSpecificExtractor(self, extractorName):\n",
    "        logger.debug(\"load extractor: \" + extractorName)\n",
    "        specific_extractor_path = os.path.abspath(os.path.join(extractorName + PYTHON_EXTENSION))\n",
    "        logger.debug(\"import extractor \" + specific_extractor_path)\n",
    "        specificExtractor = imp.load_source('Extractor', specific_extractor_path).Extractor(self.informationDefinition)\n",
    "        return specificExtractor\n",
    "        \n",
    "    def getExtractedData(self, sourceConnectionLayer):\n",
    "        dataArray = []\n",
    "        for processor in self.informationDefinition.processors:\n",
    "            specificExtractor = self.loadSpecificExtractor(processor.WhichOneof(\"Extractor\"))\n",
    "            dataArray.append(specificExtractor.getExtractedData(processor, sourceConnectionLayer))\n",
    "        #split data for teaching, validation and test\n",
    "        return dataArray"
   ]
  },
  {
   "cell_type": "code",
   "execution_count": 6,
   "metadata": {
    "collapsed": false
   },
   "outputs": [
    {
     "name": "stderr",
     "output_type": "stream",
     "text": [
      "DEBUG:Extractor:TEST - Persona blueprint path: C:\\Users\\rames\\Documents\\GitHub\\ai-personas\\Personas\\personaBlueprint\\version_1\\personBlueprint_pb2.py\n",
      "DEBUG:Extractor:TEST - Persona definition path:C:\\Users\\rames\\Documents\\GitHub\\ai-personas\\Personas\\Artist\\Portraits\\sketchToGreyImage\\Khandhasamy\\Evolution_1\\age_1\\KhandhasamyPersonaDefinition.bin\n",
      "DEBUG:Extractor:TEST - information source: Environment\\Informations\\Category\\Portraits\\scientists.bin\n",
      "DEBUG:Extractor:get information path\n",
      "DEBUG:Extractor:information path: C:\\Users\\rames\\Documents\\GitHub\\ai-personas\\Environment\\Informations\\Category\\Portraits\\scientists.bin\n",
      "DEBUG:Extractor:get information blueprint path\n",
      "DEBUG:Extractor:information blue print path: C:\\Users\\rames\\Documents\\GitHub\\ai-personas\\Environment\\Informations\\informationBlueprint_pb2.py\n",
      "DEBUG:Extractor:import information blueprint\n",
      "DEBUG:Extractor:get information path\n",
      "DEBUG:Extractor:information path: C:\\Users\\rames\\Documents\\GitHub\\ai-personas\\Environment\\Informations\\Category\\Portraits\\scientists.bin\n",
      "DEBUG:Extractor:get information blueprint path\n",
      "DEBUG:Extractor:information blue print path: C:\\Users\\rames\\Documents\\GitHub\\ai-personas\\Environment\\Informations\\informationBlueprint_pb2.py\n",
      "DEBUG:Extractor:import information blueprint\n",
      "DEBUG:Extractor:get extracted data\n",
      "DEBUG:Extractor:load extractor: extractImageFromImageArray\n",
      "DEBUG:Extractor:import extractor C:\\Users\\rames\\Documents\\GitHub\\ai-personas\\Environment\\Informations\\Process\\Extract\\extractImageFromImageArray.py\n",
      "DEBUG:Extractor:call loader: downloadZipImageFile\n",
      "DEBUG:Extractor:get loader path\n",
      "DEBUG:Extractor:loader path: C:\\Users\\rames\\Documents\\GitHub\\ai-personas\\Environment\\Informations\\Process\\Load\\Loader.py\n",
      "DEBUG:Extractor:import loader\n",
      "DEBUG:Extractor:source parameter: imageSource\n",
      "DEBUG:Extractor:data shape: (121L, 1L, 50L, 50L)\n"
     ]
    },
    {
     "name": "stdout",
     "output_type": "stream",
     "text": [
      "Loaded images: 121\n"
     ]
    }
   ],
   "source": [
    "class test(object):\n",
    "    \n",
    "    def __init__(self):\n",
    "        return \n",
    "        \n",
    "    def getPersonaBlueprint(self, personaBlueprintPath): \n",
    "        #persona blueprint path\n",
    "        persona_blueprint_path = os.path.abspath(os.path.join(personaBlueprintPath))\n",
    "        logger.debug(\"TEST - Persona blueprint path: \" + persona_blueprint_path)\n",
    "        #persona blueprint\n",
    "        personaBlueprint = imp.load_source('Persona', persona_blueprint_path).Persona() \n",
    "        return personaBlueprint\n",
    "    \n",
    "    def loadPersona(self, personaBlueprintPath, personaDefPath):\n",
    "        # persona blueprint\n",
    "        persona = self.getPersonaBlueprint(personaBlueprintPath)\n",
    "        #load persona\n",
    "        persona_path = os.path.abspath(os.path.join(personaDefPath))\n",
    "        logger.debug(\"TEST - Persona definition path:\" + persona_path)\n",
    "        f = open(personaDefPath, \"rb\")\n",
    "        persona.ParseFromString(f.read())\n",
    "        f.close()        \n",
    "        return persona\n",
    "    \n",
    "    def testExtractedData(self, personaBlueprintPath, personaDefPath):\n",
    "        persona = self.loadPersona(personaBlueprintPath, personaDefPath)\n",
    "        #get source name\n",
    "        environment = persona.age.environments[0]\n",
    "        source = environment.library.sources[0]\n",
    "        logger.debug(\"TEST - information source: \" + source.sourceName)\n",
    "        extractor = Extractor(INFORMATION_BLUEPRINT, INSTALLATION_PATH + source.sourceName)\n",
    "        sourceConnectionLayer = source.sourceConnectionLayers[0]\n",
    "        informationDef = extractor.loadInformationDefinition(INFORMATION_BLUEPRINT, INSTALLATION_PATH + source.sourceName)\n",
    "        processor = informationDef.processors[0]\n",
    "        logger.debug(\"get extracted data\")\n",
    "        extractor.getExtractedData(sourceConnectionLayer, )\n",
    "        return \n",
    "    \n",
    "PERSONA_NAME_QUALIFIER = \"PersonaDefinition\"\n",
    "TEST_PERSONA_BLUEPRINT = \"../../../../Personas/personaBlueprint/version_1/personBlueprint\" + PROTO_PYTHON_EXTENSION\n",
    "TEST_PERSONA_NAME = \"Khandhasamy\" + PERSONA_NAME_QUALIFIER + PROTO_DEF_EXTENSION\n",
    "TEST_PERSONA_DEF = \"../../../../Personas/Artist/Portraits/sketchToGreyImage/Khandhasamy/Evolution_1/age_1/\" + TEST_PERSONA_NAME\n",
    "    \n",
    "tst = test()\n",
    "tst.testExtractedData(TEST_PERSONA_BLUEPRINT, TEST_PERSONA_DEF)"
   ]
  },
  {
   "cell_type": "code",
   "execution_count": null,
   "metadata": {
    "collapsed": true
   },
   "outputs": [],
   "source": []
  }
 ],
 "metadata": {
  "kernelspec": {
   "display_name": "Python 2",
   "language": "python",
   "name": "python2"
  },
  "language_info": {
   "codemirror_mode": {
    "name": "ipython",
    "version": 2
   },
   "file_extension": ".py",
   "mimetype": "text/x-python",
   "name": "python",
   "nbconvert_exporter": "python",
   "pygments_lexer": "ipython2",
   "version": "2.7.13"
  }
 },
 "nbformat": 4,
 "nbformat_minor": 2
}
