{
 "cells": [
  {
   "cell_type": "code",
   "execution_count": 16,
   "metadata": {
    "collapsed": false
   },
   "outputs": [
    {
     "name": "stdout",
     "output_type": "stream",
     "text": [
      "(371L, 300L, 3L)\n",
      "http://www.loc.gov/rr/scitech/subjectguides/images/tesla-new.jpg\n",
      "(700L, 471L, 3L)\n",
      "https://static1.squarespace.com/static/51cdd10de4b08819bd7bc9b4/525d89c2e4b0f8245cabfc96/53cfd660e4b089801fe7e3d9/1458152617516/SciSource_BK0929.jpg?format=750w\n",
      "(700L, 462L, 3L)\n",
      "https://static1.squarespace.com/static/51cdd10de4b08819bd7bc9b4/525d89c2e4b0f8245cabfc96/53cfd28be4b0c47638e2f540/1458152692173/SciSource_BN4337.jpg?format=750w\n"
     ]
    }
   ],
   "source": [
    "import requests\n",
    "from io import BytesIO\n",
    "from PIL import Image, ImageFilter\n",
    "import numpy as np\n",
    "\n",
    "class ImageURLExtractor(object):\n",
    "    \n",
    "    #default image size and dimension\n",
    "    img_rows, img_cols, dim = 100, 100, 3\n",
    "    \n",
    "    def __init__(self, informatin):\n",
    "        self.information = information\n",
    "    \n",
    "    def X_train_data(self):\n",
    "        no_of_images = len(self.information.trainingDataList)\n",
    "        data = np.random.random((no_of_images, self.dim, self.img_rows, self.img_cols))\n",
    "\n",
    "        if self.information.extractor == type(self).__name__:\n",
    "            for trainingData in self.information.trainingDataList:\n",
    "                response = requests.get(trainingData.URL)\n",
    "                trainInpImg = Image.open(BytesIO(response.content))\n",
    "                trainInpImgArray = np.asarray(trainInpImg, dtype=np.float32)\n",
    "                print (trainInpImgArray.shape)\n",
    "                print (trainingData.URL)\n",
    "        else:\n",
    "            print (\"Extractor in the information file and running extractor is not matching.\")\n",
    "        return\n",
    "    \n",
    "    def Y_train_data(self):\n",
    "        print (self.information.extractor)\n",
    "        return\n",
    "    \n",
    "    def X_action_data(self):\n",
    "        print (self.information.extractor)\n",
    "        return   \n",
    "\n",
    "import scientists_pb2\n",
    "import sys\n",
    "\n",
    "information = scientists_pb2.Information()\n",
    "\n",
    "# Read the existing address book.\n",
    "f = open(\"test.bin\", \"rb\")\n",
    "information.ParseFromString(f.read())\n",
    "f.close()\n",
    "\n",
    "imageURLExtractor = ImageURLExtractor(information)\n",
    "imageURLExtractor.X_train_data()"
   ]
  },
  {
   "cell_type": "code",
   "execution_count": null,
   "metadata": {
    "collapsed": true
   },
   "outputs": [],
   "source": []
  }
 ],
 "metadata": {
  "kernelspec": {
   "display_name": "Python 2",
   "language": "python",
   "name": "python2"
  },
  "language_info": {
   "codemirror_mode": {
    "name": "ipython",
    "version": 2
   },
   "file_extension": ".py",
   "mimetype": "text/x-python",
   "name": "python",
   "nbconvert_exporter": "python",
   "pygments_lexer": "ipython2",
   "version": "2.7.13"
  }
 },
 "nbformat": 4,
 "nbformat_minor": 2
}
