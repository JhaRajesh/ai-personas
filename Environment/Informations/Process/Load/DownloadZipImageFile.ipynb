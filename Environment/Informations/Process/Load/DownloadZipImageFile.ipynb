{
 "cells": [
  {
   "cell_type": "code",
   "execution_count": 34,
   "metadata": {
    "collapsed": false
   },
   "outputs": [
    {
     "name": "stdout",
     "output_type": "stream",
     "text": [
      "C:\\Users\\rames\\Documents\\GitHub\\ai-personas\\Environment\\Informations\\informationBlueprint_pb2.py\n",
      "downloadZipImageFile\n",
      "zip image file\n",
      "(0L, 0L, 0L, 0L)\n",
      "C:\\Users\\rames\\Downloads\\portraits.zip\n",
      "scientists\n",
      "cannot identify image file <_io.BytesIO object at 0x0000000007F96B48>\n",
      "(0L, 0L, 0L, 0L)\n"
     ]
    }
   ],
   "source": [
    "import sys\n",
    "import imp\n",
    "import os\n",
    "import numpy as np\n",
    "import zipfile\n",
    "import requests\n",
    "import StringIO\n",
    "from PIL import Image\n",
    "\n",
    "INFORMATION_BLUEPRINT = \"informationBlueprint\"\n",
    "INFORMATION_NAME = \"scientists\"\n",
    "INFORMATION_CATEGORY = [\"Category\", \"Portraits\"]\n",
    "\n",
    "def getInformationBlueprint():\n",
    "    #information blueprint path\n",
    "    information_blueprint_path = os.path.join(\"..\", \"..\")\n",
    "    information_blueprint_path = os.path.abspath(os.path.join(information_blueprint_path, INFORMATION_BLUEPRINT + '_pb2.py'))\n",
    "    print (information_blueprint_path)\n",
    "    #import information blueprint\n",
    "    informationBlueprint = imp.load_source('Information', information_blueprint_path).Information()\n",
    "    return informationBlueprint\n",
    "\n",
    "def loadInformationDefinition(informationBluePrint):\n",
    "    #load information\n",
    "    information_path = os.path.join(\"..\", \"..\")\n",
    "    for category in INFORMATION_CATEGORY:\n",
    "        information_path = os.path.join(information_path, category)\n",
    "    information_path = os.path.abspath(os.path.join(information_path, INFORMATION_NAME + \".bin\"))\n",
    "    f = open(information_path, \"rb\")\n",
    "    informationBluePrint.ParseFromString(f.read())\n",
    "    f.close()\n",
    "    return informationBluePrint\n",
    "\n",
    "class Loader(object):\n",
    "\n",
    "    def __init__(self, loader):\n",
    "        self.processor = processor\n",
    "    \n",
    "    # get data \n",
    "    def getData(self):\n",
    "#         imgArrayData = np.zeros((0,0,0,0))\n",
    "        imgArrayData = np.empty( shape=(0, 0, 0, 0) )\n",
    "        print imgArrayData.shape\n",
    "\n",
    "        downloadURL = self.processor.downloadZipImageFile.downloadURL\n",
    "        directoryName = self.processor.downloadZipImageFile.directoryName\n",
    "        print (downloadURL)\n",
    "        print (directoryName)\n",
    "        \n",
    "#         u = requests.get(downloadURL)\n",
    "#         f = StringIO.StringIO() \n",
    "#         f.write(u.content)\n",
    "            \n",
    "        input_zip = zipfile.ZipFile(downloadURL)\n",
    "        for fileName in input_zip.namelist():\n",
    "            if (directoryName+\"/\") in fileName:\n",
    "                try:\n",
    "#                     print fileName\n",
    "                    imgFile = input_zip.open(fileName)\n",
    "                    img = Image.open(imgFile)\n",
    "                    img = img.resize((50, 50), Image.ANTIALIAS)\n",
    "                    img = np.asarray(img, dtype=np.float32)\n",
    "#                     imgArrayData[0,:,:,:] = img\n",
    "                except Exception as e: \n",
    "                    print str(e)\n",
    "        \n",
    "        print (imgArrayData.shape)\n",
    "        return\n",
    "\n",
    "information = loadInformationDefinition(getInformationBlueprint())\n",
    "\n",
    "LOADER_DOWNLOAD_ZIP_IMAGE_FILE = \"downloadZipImageFile\"\n",
    "\n",
    "for processor in information.processors:\n",
    "    print (processor.WhichOneof(\"Loader\"))\n",
    "    if LOADER_DOWNLOAD_ZIP_IMAGE_FILE == processor.WhichOneof(\"Loader\"):\n",
    "        print \"zip image file\"\n",
    "        loader = Loader(processor);\n",
    "        loader.getData();"
   ]
  },
  {
   "cell_type": "code",
   "execution_count": null,
   "metadata": {
    "collapsed": true
   },
   "outputs": [],
   "source": []
  },
  {
   "cell_type": "code",
   "execution_count": null,
   "metadata": {
    "collapsed": true
   },
   "outputs": [],
   "source": []
  }
 ],
 "metadata": {
  "kernelspec": {
   "display_name": "Python 2",
   "language": "python",
   "name": "python2"
  },
  "language_info": {
   "codemirror_mode": {
    "name": "ipython",
    "version": 2
   },
   "file_extension": ".py",
   "mimetype": "text/x-python",
   "name": "python",
   "nbconvert_exporter": "python",
   "pygments_lexer": "ipython2",
   "version": "2.7.13"
  }
 },
 "nbformat": 4,
 "nbformat_minor": 2
}
