{
 "cells": [
  {
   "cell_type": "code",
   "execution_count": 2,
   "metadata": {
    "collapsed": false
   },
   "outputs": [],
   "source": [
    "import scientists_pb2\n",
    "import sys\n",
    "\n",
    "# This function fills in a Person message based on user input.\n",
    "def loadImageURL():\n",
    "    imageURL = scientists_pb2.Information()\n",
    "    imageURL.extractor = \"ImageURLExtractor\"\n",
    "    trainingData = imageURL.trainingDataList.add()\n",
    "    trainingData.URL = \"http://www.loc.gov/rr/scitech/subjectguides/images/tesla-new.jpg\"\n",
    "    trainingData = imageURL.trainingDataList.add()\n",
    "    trainingData.URL = \"https://static1.squarespace.com/static/51cdd10de4b08819bd7bc9b4/525d89c2e4b0f8245cabfc96/53cfd660e4b089801fe7e3d9/1458152617516/SciSource_BK0929.jpg?format=750w\"\n",
    "    trainingData = imageURL.trainingDataList.add()\n",
    "    trainingData.URL = \"https://static1.squarespace.com/static/51cdd10de4b08819bd7bc9b4/525d89c2e4b0f8245cabfc96/53cfd28be4b0c47638e2f540/1458152692173/SciSource_BN4337.jpg?format=750w\"\n",
    "    \n",
    "    testData = imageURL.testDataList.add()\n",
    "    testData.URL = \"https://static1.squarespace.com/static/51cdd10de4b08819bd7bc9b4/525d89c2e4b0f8245cabfc96/53cfd532e4b0141d9ac95e95/1458152729573/SciSource_BK0945.jpg?format=750w\"\n",
    "    testData.URL = \"https://static1.squarespace.com/static/51cdd10de4b08819bd7bc9b4/525d89c2e4b0f8245cabfc96/5400dbd4e4b0fc8cd2ef213e/1458152745999/SciSource_BU1440.jpg?format=750w\"\n",
    "    return imageURL\n",
    "    \n",
    "# Write the new address book back to disk.\n",
    "f = open(\"test.bin\", \"wb\")\n",
    "f.write(loadImageURL().SerializeToString())\n",
    "f.close()"
   ]
  },
  {
   "cell_type": "code",
   "execution_count": null,
   "metadata": {
    "collapsed": true
   },
   "outputs": [],
   "source": []
  }
 ],
 "metadata": {
  "kernelspec": {
   "display_name": "Python 2",
   "language": "python",
   "name": "python2"
  },
  "language_info": {
   "codemirror_mode": {
    "name": "ipython",
    "version": 2
   },
   "file_extension": ".py",
   "mimetype": "text/x-python",
   "name": "python",
   "nbconvert_exporter": "python",
   "pygments_lexer": "ipython2",
   "version": "2.7.13"
  }
 },
 "nbformat": 4,
 "nbformat_minor": 2
}
