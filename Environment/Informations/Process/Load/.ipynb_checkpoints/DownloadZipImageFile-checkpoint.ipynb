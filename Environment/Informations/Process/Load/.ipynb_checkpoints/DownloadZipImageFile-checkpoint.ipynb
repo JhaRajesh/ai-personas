{
 "cells": [
  {
   "cell_type": "code",
   "execution_count": 7,
   "metadata": {
    "collapsed": false
   },
   "outputs": [
    {
     "name": "stdout",
     "output_type": "stream",
     "text": [
      "C:\\Users\\rames\\Documents\\GitHub\\ai-personas\\Environment\\Informations\\informationBlueprint_pb2.py\n",
      "Loaded images: 121\n"
     ]
    }
   ],
   "source": [
    "import sys\n",
    "import imp\n",
    "import os\n",
    "import numpy as np\n",
    "import zipfile\n",
    "import requests\n",
    "import StringIO\n",
    "from PIL import Image\n",
    "\n",
    "\n",
    "class Loader(object):\n",
    "\n",
    "    def __init__(self, processor):\n",
    "        self.processor = processor\n",
    "    \n",
    "    # get data \n",
    "    def getData(self):\n",
    "        imgDataList = []\n",
    "        downloadURL = self.processor.downloadZipImageFile.downloadURL\n",
    "        directoryName = self.processor.downloadZipImageFile.directoryName\n",
    "        \n",
    "#         u = requests.get(downloadURL)\n",
    "#         f = StringIO.StringIO() \n",
    "#         f.write(u.content)\n",
    "            \n",
    "        input_zip = zipfile.ZipFile(downloadURL)\n",
    "        for fileName in input_zip.namelist():\n",
    "            if (directoryName+\"/\") in fileName:\n",
    "                try:\n",
    "                    imgFile = input_zip.open(fileName)\n",
    "                    img = Image.open(imgFile)\n",
    "                    img = np.asarray(img, dtype=np.float32)\n",
    "                    imgDataList.append(img)\n",
    "                except Exception as e: \n",
    "                    pass\n",
    "        print (\"Loaded images: \" + str(len(imgDataList)))\n",
    "        return imgDataList\n",
    "\n",
    "#Test code\n",
    "INFORMATION_BLUEPRINT = \"informationBlueprint\"\n",
    "INFORMATION_NAME = \"scientists\"\n",
    "INFORMATION_CATEGORY = [\"Category\", \"Portraits\"]\n",
    "\n",
    "def getInformationBlueprint():\n",
    "    #information blueprint path\n",
    "    information_blueprint_path = os.path.join(\"..\", \"..\")\n",
    "    information_blueprint_path = os.path.abspath(os.path.join(information_blueprint_path, INFORMATION_BLUEPRINT + '_pb2.py'))\n",
    "    print (information_blueprint_path)\n",
    "    #import information blueprint\n",
    "    informationBlueprint = imp.load_source('Information', information_blueprint_path).Information()\n",
    "    return informationBlueprint\n",
    "\n",
    "def loadInformationDefinition(informationBluePrint):\n",
    "    #load information\n",
    "    information_path = os.path.join(\"..\", \"..\")\n",
    "    for category in INFORMATION_CATEGORY:\n",
    "        information_path = os.path.join(information_path, category)\n",
    "    information_path = os.path.abspath(os.path.join(information_path, INFORMATION_NAME + \".bin\"))\n",
    "    f = open(information_path, \"rb\")\n",
    "    informationBluePrint.ParseFromString(f.read())\n",
    "    f.close()\n",
    "    return informationBluePrint\n",
    "\n",
    "def test():\n",
    "    \n",
    "    information = loadInformationDefinition(getInformationBlueprint())\n",
    "    LOADER_DOWNLOAD_ZIP_IMAGE_FILE = \"downloadZipImageFile\"\n",
    "\n",
    "    for processor in information.processors:\n",
    "        if LOADER_DOWNLOAD_ZIP_IMAGE_FILE == processor.WhichOneof(\"Loader\"):\n",
    "            loader = Loader(processor);\n",
    "            loader.getData();\n",
    "            \n",
    "# test()"
   ]
  },
  {
   "cell_type": "code",
   "execution_count": null,
   "metadata": {
    "collapsed": true
   },
   "outputs": [],
   "source": []
  },
  {
   "cell_type": "code",
   "execution_count": null,
   "metadata": {
    "collapsed": true
   },
   "outputs": [],
   "source": []
  }
 ],
 "metadata": {
  "kernelspec": {
   "display_name": "Python 2",
   "language": "python",
   "name": "python2"
  },
  "language_info": {
   "codemirror_mode": {
    "name": "ipython",
    "version": 2
   },
   "file_extension": ".py",
   "mimetype": "text/x-python",
   "name": "python",
   "nbconvert_exporter": "python",
   "pygments_lexer": "ipython2",
   "version": "2.7.13"
  }
 },
 "nbformat": 4,
 "nbformat_minor": 2
}
