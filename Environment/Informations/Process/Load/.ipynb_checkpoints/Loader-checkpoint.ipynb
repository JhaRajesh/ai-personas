{
 "cells": [
  {
   "cell_type": "code",
   "execution_count": 2,
   "metadata": {
    "collapsed": false
   },
   "outputs": [],
   "source": [
    "import sys\n",
    "import imp\n",
    "import os\n",
    "\n",
    "INSTALLATION_PATH = \"C:\\\\Users\\\\rames\\\\Documents\\\\GitHub\\\\ai-personas\\\\\"\n",
    "LOADER_PATH = \"Environment/Informations/Process/Load/\"\n",
    "\n",
    "class Loader(object):\n",
    "\n",
    "    def __init__(self, processor):\n",
    "        self.processor = processor\n",
    "        \n",
    "    # get data \n",
    "    def getData(self):\n",
    "        loaderName = self.processor.WhichOneof(\"Loader\")\n",
    "        loader_path = os.path.abspath(os.path.join(INSTALLATION_PATH, LOADER_PATH, loaderName + '.py'))\n",
    "        loader = imp.load_source('Loader', loader_path).Loader(self.processor)\n",
    "        return loader.getData()          \n",
    "    \n",
    "#Testing\n",
    "INFORMATION_BLUEPRINT = \"informationBlueprint\"\n",
    "INFORMATION_NAME = \"scientists\"\n",
    "INFORMATION_CATEGORY = [\"Category\", \"Portraits\"]\n",
    "\n",
    "def getInformationBlueprint():\n",
    "    #information blueprint path\n",
    "    information_blueprint_path = os.path.join(\"..\", \"..\")\n",
    "    information_blueprint_path = os.path.abspath(os.path.join(information_blueprint_path, INFORMATION_BLUEPRINT + '_pb2.py'))\n",
    "    #import information blueprint\n",
    "    informationBlueprint = imp.load_source('Information', information_blueprint_path).Information()\n",
    "    return informationBlueprint\n",
    "\n",
    "def loadInformationDefinition(informationBluePrint):\n",
    "    #load information\n",
    "    information_path = os.path.join(\"..\", \"..\")\n",
    "    for category in INFORMATION_CATEGORY:\n",
    "        information_path = os.path.join(information_path, category)\n",
    "    information_path = os.path.abspath(os.path.join(information_path, INFORMATION_NAME + \".bin\"))\n",
    "    f = open(information_path, \"rb\")\n",
    "    informationBluePrint.ParseFromString(f.read())\n",
    "    f.close()\n",
    "    return informationBluePrint\n",
    "\n",
    "def test():\n",
    "    information = loadInformationDefinition(getInformationBlueprint())\n",
    "\n",
    "    for processor in information.processors:\n",
    "        print (\"Loader name: \" + processor.WhichOneof(\"Loader\"))\n",
    "        loader = Loader(processor);\n",
    "        loader.getData();\n",
    "\n",
    "# test()"
   ]
  },
  {
   "cell_type": "code",
   "execution_count": null,
   "metadata": {
    "collapsed": true
   },
   "outputs": [],
   "source": []
  }
 ],
 "metadata": {
  "kernelspec": {
   "display_name": "Python 2",
   "language": "python",
   "name": "python2"
  },
  "language_info": {
   "codemirror_mode": {
    "name": "ipython",
    "version": 2
   },
   "file_extension": ".py",
   "mimetype": "text/x-python",
   "name": "python",
   "nbconvert_exporter": "python",
   "pygments_lexer": "ipython2",
   "version": "2.7.13"
  }
 },
 "nbformat": 4,
 "nbformat_minor": 2
}
