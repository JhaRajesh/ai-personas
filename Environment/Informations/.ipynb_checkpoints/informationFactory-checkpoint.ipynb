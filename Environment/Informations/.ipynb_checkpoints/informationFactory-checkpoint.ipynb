{
 "cells": [
  {
   "cell_type": "code",
   "execution_count": 17,
   "metadata": {
    "collapsed": false
   },
   "outputs": [
    {
     "ename": "SyntaxError",
     "evalue": "invalid syntax (<ipython-input-17-3384142c6581>, line 7)",
     "output_type": "error",
     "traceback": [
      "\u001b[0;36m  File \u001b[0;32m\"<ipython-input-17-3384142c6581>\"\u001b[0;36m, line \u001b[0;32m7\u001b[0m\n\u001b[0;31m    import .Process.Extract.ImageURLExtractor.py\u001b[0m\n\u001b[0m           ^\u001b[0m\n\u001b[0;31mSyntaxError\u001b[0m\u001b[0;31m:\u001b[0m invalid syntax\n"
     ]
    }
   ],
   "source": [
    "import abc\n",
    "\n",
    "class InformationFactory(object):\n",
    "    \n",
    "    def getInformationBase(self, infoDef):\n",
    "        #get extractor information\n",
    "        import Process.Extract.ImageURLExtractor.py\n",
    "        return\n",
    "    \n",
    "informationFactory = InformationFactory()\n",
    "informationFactory.getInformationBase(\"asdad\")"
   ]
  },
  {
   "cell_type": "code",
   "execution_count": null,
   "metadata": {
    "collapsed": true
   },
   "outputs": [],
   "source": []
  }
 ],
 "metadata": {
  "kernelspec": {
   "display_name": "Python 2",
   "language": "python",
   "name": "python2"
  },
  "language_info": {
   "codemirror_mode": {
    "name": "ipython",
    "version": 2
   },
   "file_extension": ".py",
   "mimetype": "text/x-python",
   "name": "python",
   "nbconvert_exporter": "python",
   "pygments_lexer": "ipython2",
   "version": "2.7.13"
  }
 },
 "nbformat": 4,
 "nbformat_minor": 2
}
