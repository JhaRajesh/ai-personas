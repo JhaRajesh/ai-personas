{
 "cells": [
  {
   "cell_type": "code",
   "execution_count": 3,
   "metadata": {
    "collapsed": true
   },
   "outputs": [],
   "source": [
    "import abc\n",
    "\n",
    "class InformationBase(object):\n",
    "    _metaclass_ = abc.ABCMeta\n",
    "    \n",
    "    @abc.abstractmethod\n",
    "    def X_train_data(self, infoDef):\n",
    "        return\n",
    "    \n",
    "    @abc.abstractmethod\n",
    "    def Y_train_data(self, infoDef):\n",
    "        return\n",
    "    \n",
    "    @abc.abstractmethod\n",
    "    def X_action_data(self, infoDef):\n",
    "        return\n",
    "    "
   ]
  },
  {
   "cell_type": "code",
   "execution_count": null,
   "metadata": {
    "collapsed": true
   },
   "outputs": [],
   "source": []
  }
 ],
 "metadata": {
  "kernelspec": {
   "display_name": "Python 2",
   "language": "python",
   "name": "python2"
  },
  "language_info": {
   "codemirror_mode": {
    "name": "ipython",
    "version": 2
   },
   "file_extension": ".py",
   "mimetype": "text/x-python",
   "name": "python",
   "nbconvert_exporter": "python",
   "pygments_lexer": "ipython2",
   "version": "2.7.13"
  }
 },
 "nbformat": 4,
 "nbformat_minor": 2
}
