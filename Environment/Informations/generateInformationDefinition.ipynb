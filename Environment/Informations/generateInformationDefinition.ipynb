{
 "cells": [
  {
   "cell_type": "code",
   "execution_count": 2,
   "metadata": {
    "collapsed": false
   },
   "outputs": [
    {
     "name": "stdout",
     "output_type": "stream",
     "text": [
      "C:\\Users\\rames\\Documents\\GitHub\\ai-personas\\Environment\\Informations\\informationBlueprint_pb2.py\n"
     ]
    }
   ],
   "source": [
    "import sys\n",
    "import imp\n",
    "import os\n",
    "\n",
    "INFORMATION_BLUEPRINT = \"informationBlueprint\"\n",
    "GENERATE_INFORMATION_DEF_FOR = \"ExtractImageFromImageArray\"\n",
    "INFORMATION_NAME = \"scientists\"\n",
    "INFORMATION_CATEGORY = [\"Category\",\"Portraits\"]\n",
    "\n",
    "def initInformationBlueprint():\n",
    "    #information blueprint path\n",
    "    information_blueprint_path = os.path.abspath(os.path.join(INFORMATION_BLUEPRINT + '_pb2.py'))\n",
    "    print (information_blueprint_path)\n",
    "    #import information blueprint\n",
    "    informationBlueprint = imp.load_source('Information', information_blueprint_path).Information()\n",
    "    return informationBlueprint\n",
    "\n",
    "# This function fills in a Person message based on user input.\n",
    "def generateInformationDefinition():\n",
    "    informationBlueprint = initInformationBlueprint()\n",
    "    processor = informationBlueprint.processors.add()\n",
    "    processor.extractImageFromImageArray.extractorName = \"ExtractImageFromImageArray\"\n",
    "    processor.downloadZipImageFile.downloadURL = \"C:\\\\Users\\\\rames\\\\Downloads\\\\portraits.zip\"\n",
    "    processor.downloadZipImageFile.directoryName = \"scientists\"\n",
    "    return informationBlueprint\n",
    "\n",
    "def writeInformationDefinition(informationDefinition):\n",
    "    #get information definition path\n",
    "    information_definition_path = \"\"\n",
    "    for category in INFORMATION_CATEGORY:\n",
    "        information_definition_path = os.path.join(information_definition_path, category)\n",
    "    information_definition_path = os.path.abspath(os.path.join(information_definition_path, INFORMATION_NAME + \".bin\"))\n",
    "    # write information definition to disk.\n",
    "    f = open(information_definition_path, \"wb\")\n",
    "    f.write(informationDefinition.SerializeToString())\n",
    "    f.close()\n",
    "    \n",
    "writeInformationDefinition(generateInformationDefinition())"
   ]
  },
  {
   "cell_type": "code",
   "execution_count": null,
   "metadata": {
    "collapsed": true
   },
   "outputs": [],
   "source": []
  }
 ],
 "metadata": {
  "kernelspec": {
   "display_name": "Python 2",
   "language": "python",
   "name": "python2"
  },
  "language_info": {
   "codemirror_mode": {
    "name": "ipython",
    "version": 2
   },
   "file_extension": ".py",
   "mimetype": "text/x-python",
   "name": "python",
   "nbconvert_exporter": "python",
   "pygments_lexer": "ipython2",
   "version": "2.7.13"
  }
 },
 "nbformat": 4,
 "nbformat_minor": 2
}
